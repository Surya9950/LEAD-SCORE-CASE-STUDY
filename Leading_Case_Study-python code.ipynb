{
  "nbformat": 4,
  "nbformat_minor": 0,
  "metadata": {
    "colab": {
      "provenance": []
    },
    "kernelspec": {
      "name": "python3",
      "display_name": "Python 3"
    },
    "language_info": {
      "name": "python"
    }
  },
  "cells": [
    {
      "cell_type": "markdown",
      "source": [
        "#Step 1: Reading and Understanding the Data"
      ],
      "metadata": {
        "id": "juDZtWKWTv3E"
      }
    },
    {
      "cell_type": "code",
      "execution_count": 58,
      "metadata": {
        "id": "uHs81G1cTje3"
      },
      "outputs": [],
      "source": [
        "# importing the libraries\n",
        "import pandas as pd\n",
        "import numpy as np\n",
        "import matplotlib.pyplot as plt\n",
        "from sklearn.model_selection import train_test_split\n",
        "import seaborn as sns\n",
        "from sklearn.preprocessing import MinMaxScaler\n",
        "import statsmodels.api as sm\n",
        "from sklearn.linear_model import LogisticRegression\n",
        "from sklearn.feature_selection import RFE\n",
        "from statsmodels.stats.outliers_influence import variance_inflation_factor\n",
        "from sklearn import metrics\n",
        "from sklearn.metrics import precision_score, recall_score\n",
        "from sklearn.metrics import precision_recall_curve\n",
        "from sklearn.metrics import confusion_matrix\n",
        "%matplotlib inline"
      ]
    },
    {
      "cell_type": "code",
      "source": [
        "# TO IGNORE WARNINGS\n",
        "import warnings\n",
        "warnings.filterwarnings('ignore')"
      ],
      "metadata": {
        "id": "EZMgV-xhUJJ3"
      },
      "execution_count": 59,
      "outputs": []
    },
    {
      "cell_type": "code",
      "source": [
        "# READING THE CSV FILE\n",
        "lead_df=pd.read_csv(\"/content/Leads.csv\")\n",
        "lead_df.head()"
      ],
      "metadata": {
        "colab": {
          "base_uri": "https://localhost:8080/",
          "height": 540
        },
        "id": "pOhAp_gzUVAy",
        "outputId": "1c6e735b-b02c-4f1b-81ce-1e04f0493cbf"
      },
      "execution_count": 60,
      "outputs": [
        {
          "output_type": "execute_result",
          "data": {
            "text/plain": [
              "                            Prospect ID  Lead Number              Lead Origin  \\\n",
              "0  7927b2df-8bba-4d29-b9a2-b6e0beafe620       660737                      API   \n",
              "1  2a272436-5132-4136-86fa-dcc88c88f482       660728                      API   \n",
              "2  8cc8c611-a219-4f35-ad23-fdfd2656bd8a       660727  Landing Page Submission   \n",
              "3  0cc2df48-7cf4-4e39-9de9-19797f9b38cc       660719  Landing Page Submission   \n",
              "4  3256f628-e534-4826-9d63-4a8b88782852       660681  Landing Page Submission   \n",
              "\n",
              "      Lead Source Do Not Email Do Not Call  Converted  TotalVisits  \\\n",
              "0      Olark Chat           No          No          0          0.0   \n",
              "1  Organic Search           No          No          0          5.0   \n",
              "2  Direct Traffic           No          No          1          2.0   \n",
              "3  Direct Traffic           No          No          0          1.0   \n",
              "4          Google           No          No          1          2.0   \n",
              "\n",
              "   Total Time Spent on Website  Page Views Per Visit  ...  \\\n",
              "0                            0                   0.0  ...   \n",
              "1                          674                   2.5  ...   \n",
              "2                         1532                   2.0  ...   \n",
              "3                          305                   1.0  ...   \n",
              "4                         1428                   1.0  ...   \n",
              "\n",
              "  Get updates on DM Content    Lead Profile    City  \\\n",
              "0                        No          Select  Select   \n",
              "1                        No          Select  Select   \n",
              "2                        No  Potential Lead  Mumbai   \n",
              "3                        No          Select  Mumbai   \n",
              "4                        No          Select  Mumbai   \n",
              "\n",
              "  Asymmetrique Activity Index Asymmetrique Profile Index  \\\n",
              "0                   02.Medium                  02.Medium   \n",
              "1                   02.Medium                  02.Medium   \n",
              "2                   02.Medium                    01.High   \n",
              "3                   02.Medium                    01.High   \n",
              "4                   02.Medium                    01.High   \n",
              "\n",
              "  Asymmetrique Activity Score Asymmetrique Profile Score  \\\n",
              "0                        15.0                       15.0   \n",
              "1                        15.0                       15.0   \n",
              "2                        14.0                       20.0   \n",
              "3                        13.0                       17.0   \n",
              "4                        15.0                       18.0   \n",
              "\n",
              "  I agree to pay the amount through cheque  \\\n",
              "0                                       No   \n",
              "1                                       No   \n",
              "2                                       No   \n",
              "3                                       No   \n",
              "4                                       No   \n",
              "\n",
              "  A free copy of Mastering The Interview Last Notable Activity  \n",
              "0                                     No              Modified  \n",
              "1                                     No          Email Opened  \n",
              "2                                    Yes          Email Opened  \n",
              "3                                     No              Modified  \n",
              "4                                     No              Modified  \n",
              "\n",
              "[5 rows x 37 columns]"
            ],
            "text/html": [
              "\n",
              "  <div id=\"df-421702ad-7de4-4e4c-9469-99a0487cd668\">\n",
              "    <div class=\"colab-df-container\">\n",
              "      <div>\n",
              "<style scoped>\n",
              "    .dataframe tbody tr th:only-of-type {\n",
              "        vertical-align: middle;\n",
              "    }\n",
              "\n",
              "    .dataframe tbody tr th {\n",
              "        vertical-align: top;\n",
              "    }\n",
              "\n",
              "    .dataframe thead th {\n",
              "        text-align: right;\n",
              "    }\n",
              "</style>\n",
              "<table border=\"1\" class=\"dataframe\">\n",
              "  <thead>\n",
              "    <tr style=\"text-align: right;\">\n",
              "      <th></th>\n",
              "      <th>Prospect ID</th>\n",
              "      <th>Lead Number</th>\n",
              "      <th>Lead Origin</th>\n",
              "      <th>Lead Source</th>\n",
              "      <th>Do Not Email</th>\n",
              "      <th>Do Not Call</th>\n",
              "      <th>Converted</th>\n",
              "      <th>TotalVisits</th>\n",
              "      <th>Total Time Spent on Website</th>\n",
              "      <th>Page Views Per Visit</th>\n",
              "      <th>...</th>\n",
              "      <th>Get updates on DM Content</th>\n",
              "      <th>Lead Profile</th>\n",
              "      <th>City</th>\n",
              "      <th>Asymmetrique Activity Index</th>\n",
              "      <th>Asymmetrique Profile Index</th>\n",
              "      <th>Asymmetrique Activity Score</th>\n",
              "      <th>Asymmetrique Profile Score</th>\n",
              "      <th>I agree to pay the amount through cheque</th>\n",
              "      <th>A free copy of Mastering The Interview</th>\n",
              "      <th>Last Notable Activity</th>\n",
              "    </tr>\n",
              "  </thead>\n",
              "  <tbody>\n",
              "    <tr>\n",
              "      <th>0</th>\n",
              "      <td>7927b2df-8bba-4d29-b9a2-b6e0beafe620</td>\n",
              "      <td>660737</td>\n",
              "      <td>API</td>\n",
              "      <td>Olark Chat</td>\n",
              "      <td>No</td>\n",
              "      <td>No</td>\n",
              "      <td>0</td>\n",
              "      <td>0.0</td>\n",
              "      <td>0</td>\n",
              "      <td>0.0</td>\n",
              "      <td>...</td>\n",
              "      <td>No</td>\n",
              "      <td>Select</td>\n",
              "      <td>Select</td>\n",
              "      <td>02.Medium</td>\n",
              "      <td>02.Medium</td>\n",
              "      <td>15.0</td>\n",
              "      <td>15.0</td>\n",
              "      <td>No</td>\n",
              "      <td>No</td>\n",
              "      <td>Modified</td>\n",
              "    </tr>\n",
              "    <tr>\n",
              "      <th>1</th>\n",
              "      <td>2a272436-5132-4136-86fa-dcc88c88f482</td>\n",
              "      <td>660728</td>\n",
              "      <td>API</td>\n",
              "      <td>Organic Search</td>\n",
              "      <td>No</td>\n",
              "      <td>No</td>\n",
              "      <td>0</td>\n",
              "      <td>5.0</td>\n",
              "      <td>674</td>\n",
              "      <td>2.5</td>\n",
              "      <td>...</td>\n",
              "      <td>No</td>\n",
              "      <td>Select</td>\n",
              "      <td>Select</td>\n",
              "      <td>02.Medium</td>\n",
              "      <td>02.Medium</td>\n",
              "      <td>15.0</td>\n",
              "      <td>15.0</td>\n",
              "      <td>No</td>\n",
              "      <td>No</td>\n",
              "      <td>Email Opened</td>\n",
              "    </tr>\n",
              "    <tr>\n",
              "      <th>2</th>\n",
              "      <td>8cc8c611-a219-4f35-ad23-fdfd2656bd8a</td>\n",
              "      <td>660727</td>\n",
              "      <td>Landing Page Submission</td>\n",
              "      <td>Direct Traffic</td>\n",
              "      <td>No</td>\n",
              "      <td>No</td>\n",
              "      <td>1</td>\n",
              "      <td>2.0</td>\n",
              "      <td>1532</td>\n",
              "      <td>2.0</td>\n",
              "      <td>...</td>\n",
              "      <td>No</td>\n",
              "      <td>Potential Lead</td>\n",
              "      <td>Mumbai</td>\n",
              "      <td>02.Medium</td>\n",
              "      <td>01.High</td>\n",
              "      <td>14.0</td>\n",
              "      <td>20.0</td>\n",
              "      <td>No</td>\n",
              "      <td>Yes</td>\n",
              "      <td>Email Opened</td>\n",
              "    </tr>\n",
              "    <tr>\n",
              "      <th>3</th>\n",
              "      <td>0cc2df48-7cf4-4e39-9de9-19797f9b38cc</td>\n",
              "      <td>660719</td>\n",
              "      <td>Landing Page Submission</td>\n",
              "      <td>Direct Traffic</td>\n",
              "      <td>No</td>\n",
              "      <td>No</td>\n",
              "      <td>0</td>\n",
              "      <td>1.0</td>\n",
              "      <td>305</td>\n",
              "      <td>1.0</td>\n",
              "      <td>...</td>\n",
              "      <td>No</td>\n",
              "      <td>Select</td>\n",
              "      <td>Mumbai</td>\n",
              "      <td>02.Medium</td>\n",
              "      <td>01.High</td>\n",
              "      <td>13.0</td>\n",
              "      <td>17.0</td>\n",
              "      <td>No</td>\n",
              "      <td>No</td>\n",
              "      <td>Modified</td>\n",
              "    </tr>\n",
              "    <tr>\n",
              "      <th>4</th>\n",
              "      <td>3256f628-e534-4826-9d63-4a8b88782852</td>\n",
              "      <td>660681</td>\n",
              "      <td>Landing Page Submission</td>\n",
              "      <td>Google</td>\n",
              "      <td>No</td>\n",
              "      <td>No</td>\n",
              "      <td>1</td>\n",
              "      <td>2.0</td>\n",
              "      <td>1428</td>\n",
              "      <td>1.0</td>\n",
              "      <td>...</td>\n",
              "      <td>No</td>\n",
              "      <td>Select</td>\n",
              "      <td>Mumbai</td>\n",
              "      <td>02.Medium</td>\n",
              "      <td>01.High</td>\n",
              "      <td>15.0</td>\n",
              "      <td>18.0</td>\n",
              "      <td>No</td>\n",
              "      <td>No</td>\n",
              "      <td>Modified</td>\n",
              "    </tr>\n",
              "  </tbody>\n",
              "</table>\n",
              "<p>5 rows × 37 columns</p>\n",
              "</div>\n",
              "      <button class=\"colab-df-convert\" onclick=\"convertToInteractive('df-421702ad-7de4-4e4c-9469-99a0487cd668')\"\n",
              "              title=\"Convert this dataframe to an interactive table.\"\n",
              "              style=\"display:none;\">\n",
              "        \n",
              "  <svg xmlns=\"http://www.w3.org/2000/svg\" height=\"24px\"viewBox=\"0 0 24 24\"\n",
              "       width=\"24px\">\n",
              "    <path d=\"M0 0h24v24H0V0z\" fill=\"none\"/>\n",
              "    <path d=\"M18.56 5.44l.94 2.06.94-2.06 2.06-.94-2.06-.94-.94-2.06-.94 2.06-2.06.94zm-11 1L8.5 8.5l.94-2.06 2.06-.94-2.06-.94L8.5 2.5l-.94 2.06-2.06.94zm10 10l.94 2.06.94-2.06 2.06-.94-2.06-.94-.94-2.06-.94 2.06-2.06.94z\"/><path d=\"M17.41 7.96l-1.37-1.37c-.4-.4-.92-.59-1.43-.59-.52 0-1.04.2-1.43.59L10.3 9.45l-7.72 7.72c-.78.78-.78 2.05 0 2.83L4 21.41c.39.39.9.59 1.41.59.51 0 1.02-.2 1.41-.59l7.78-7.78 2.81-2.81c.8-.78.8-2.07 0-2.86zM5.41 20L4 18.59l7.72-7.72 1.47 1.35L5.41 20z\"/>\n",
              "  </svg>\n",
              "      </button>\n",
              "      \n",
              "  <style>\n",
              "    .colab-df-container {\n",
              "      display:flex;\n",
              "      flex-wrap:wrap;\n",
              "      gap: 12px;\n",
              "    }\n",
              "\n",
              "    .colab-df-convert {\n",
              "      background-color: #E8F0FE;\n",
              "      border: none;\n",
              "      border-radius: 50%;\n",
              "      cursor: pointer;\n",
              "      display: none;\n",
              "      fill: #1967D2;\n",
              "      height: 32px;\n",
              "      padding: 0 0 0 0;\n",
              "      width: 32px;\n",
              "    }\n",
              "\n",
              "    .colab-df-convert:hover {\n",
              "      background-color: #E2EBFA;\n",
              "      box-shadow: 0px 1px 2px rgba(60, 64, 67, 0.3), 0px 1px 3px 1px rgba(60, 64, 67, 0.15);\n",
              "      fill: #174EA6;\n",
              "    }\n",
              "\n",
              "    [theme=dark] .colab-df-convert {\n",
              "      background-color: #3B4455;\n",
              "      fill: #D2E3FC;\n",
              "    }\n",
              "\n",
              "    [theme=dark] .colab-df-convert:hover {\n",
              "      background-color: #434B5C;\n",
              "      box-shadow: 0px 1px 3px 1px rgba(0, 0, 0, 0.15);\n",
              "      filter: drop-shadow(0px 1px 2px rgba(0, 0, 0, 0.3));\n",
              "      fill: #FFFFFF;\n",
              "    }\n",
              "  </style>\n",
              "\n",
              "      <script>\n",
              "        const buttonEl =\n",
              "          document.querySelector('#df-421702ad-7de4-4e4c-9469-99a0487cd668 button.colab-df-convert');\n",
              "        buttonEl.style.display =\n",
              "          google.colab.kernel.accessAllowed ? 'block' : 'none';\n",
              "\n",
              "        async function convertToInteractive(key) {\n",
              "          const element = document.querySelector('#df-421702ad-7de4-4e4c-9469-99a0487cd668');\n",
              "          const dataTable =\n",
              "            await google.colab.kernel.invokeFunction('convertToInteractive',\n",
              "                                                     [key], {});\n",
              "          if (!dataTable) return;\n",
              "\n",
              "          const docLinkHtml = 'Like what you see? Visit the ' +\n",
              "            '<a target=\"_blank\" href=https://colab.research.google.com/notebooks/data_table.ipynb>data table notebook</a>'\n",
              "            + ' to learn more about interactive tables.';\n",
              "          element.innerHTML = '';\n",
              "          dataTable['output_type'] = 'display_data';\n",
              "          await google.colab.output.renderOutput(dataTable, element);\n",
              "          const docLink = document.createElement('div');\n",
              "          docLink.innerHTML = docLinkHtml;\n",
              "          element.appendChild(docLink);\n",
              "        }\n",
              "      </script>\n",
              "    </div>\n",
              "  </div>\n",
              "  "
            ]
          },
          "metadata": {},
          "execution_count": 60
        }
      ]
    },
    {
      "cell_type": "code",
      "source": [
        "#INSPECTING THE DATASET\n",
        "print(lead_df.info())\n",
        "print(lead_df.shape)"
      ],
      "metadata": {
        "colab": {
          "base_uri": "https://localhost:8080/"
        },
        "id": "5JdDe8rTUbYG",
        "outputId": "1b909b22-6837-44ef-a53b-31e4be79a660"
      },
      "execution_count": 61,
      "outputs": [
        {
          "output_type": "stream",
          "name": "stdout",
          "text": [
            "<class 'pandas.core.frame.DataFrame'>\n",
            "RangeIndex: 9240 entries, 0 to 9239\n",
            "Data columns (total 37 columns):\n",
            " #   Column                                         Non-Null Count  Dtype  \n",
            "---  ------                                         --------------  -----  \n",
            " 0   Prospect ID                                    9240 non-null   object \n",
            " 1   Lead Number                                    9240 non-null   int64  \n",
            " 2   Lead Origin                                    9240 non-null   object \n",
            " 3   Lead Source                                    9204 non-null   object \n",
            " 4   Do Not Email                                   9240 non-null   object \n",
            " 5   Do Not Call                                    9240 non-null   object \n",
            " 6   Converted                                      9240 non-null   int64  \n",
            " 7   TotalVisits                                    9103 non-null   float64\n",
            " 8   Total Time Spent on Website                    9240 non-null   int64  \n",
            " 9   Page Views Per Visit                           9103 non-null   float64\n",
            " 10  Last Activity                                  9137 non-null   object \n",
            " 11  Country                                        6779 non-null   object \n",
            " 12  Specialization                                 7802 non-null   object \n",
            " 13  How did you hear about X Education             7033 non-null   object \n",
            " 14  What is your current occupation                6550 non-null   object \n",
            " 15  What matters most to you in choosing a course  6531 non-null   object \n",
            " 16  Search                                         9240 non-null   object \n",
            " 17  Magazine                                       9240 non-null   object \n",
            " 18  Newspaper Article                              9240 non-null   object \n",
            " 19  X Education Forums                             9240 non-null   object \n",
            " 20  Newspaper                                      9240 non-null   object \n",
            " 21  Digital Advertisement                          9240 non-null   object \n",
            " 22  Through Recommendations                        9240 non-null   object \n",
            " 23  Receive More Updates About Our Courses         9240 non-null   object \n",
            " 24  Tags                                           5887 non-null   object \n",
            " 25  Lead Quality                                   4473 non-null   object \n",
            " 26  Update me on Supply Chain Content              9240 non-null   object \n",
            " 27  Get updates on DM Content                      9240 non-null   object \n",
            " 28  Lead Profile                                   6531 non-null   object \n",
            " 29  City                                           7820 non-null   object \n",
            " 30  Asymmetrique Activity Index                    5022 non-null   object \n",
            " 31  Asymmetrique Profile Index                     5022 non-null   object \n",
            " 32  Asymmetrique Activity Score                    5022 non-null   float64\n",
            " 33  Asymmetrique Profile Score                     5022 non-null   float64\n",
            " 34  I agree to pay the amount through cheque       9240 non-null   object \n",
            " 35  A free copy of Mastering The Interview         9240 non-null   object \n",
            " 36  Last Notable Activity                          9240 non-null   object \n",
            "dtypes: float64(4), int64(3), object(30)\n",
            "memory usage: 2.6+ MB\n",
            "None\n",
            "(9240, 37)\n"
          ]
        }
      ]
    },
    {
      "cell_type": "code",
      "source": [
        "# TO SEE THE MATHEMATICAL VALUES\n",
        "lead_df.describe()"
      ],
      "metadata": {
        "colab": {
          "base_uri": "https://localhost:8080/",
          "height": 300
        },
        "id": "fYAAQpgwVGNa",
        "outputId": "aabc8e6b-c1af-4593-979b-bcd48648431f"
      },
      "execution_count": 62,
      "outputs": [
        {
          "output_type": "execute_result",
          "data": {
            "text/plain": [
              "         Lead Number    Converted  TotalVisits  Total Time Spent on Website  \\\n",
              "count    9240.000000  9240.000000  9103.000000                  9240.000000   \n",
              "mean   617188.435606     0.385390     3.445238                   487.698268   \n",
              "std     23405.995698     0.486714     4.854853                   548.021466   \n",
              "min    579533.000000     0.000000     0.000000                     0.000000   \n",
              "25%    596484.500000     0.000000     1.000000                    12.000000   \n",
              "50%    615479.000000     0.000000     3.000000                   248.000000   \n",
              "75%    637387.250000     1.000000     5.000000                   936.000000   \n",
              "max    660737.000000     1.000000   251.000000                  2272.000000   \n",
              "\n",
              "       Page Views Per Visit  Asymmetrique Activity Score  \\\n",
              "count           9103.000000                  5022.000000   \n",
              "mean               2.362820                    14.306252   \n",
              "std                2.161418                     1.386694   \n",
              "min                0.000000                     7.000000   \n",
              "25%                1.000000                    14.000000   \n",
              "50%                2.000000                    14.000000   \n",
              "75%                3.000000                    15.000000   \n",
              "max               55.000000                    18.000000   \n",
              "\n",
              "       Asymmetrique Profile Score  \n",
              "count                 5022.000000  \n",
              "mean                    16.344883  \n",
              "std                      1.811395  \n",
              "min                     11.000000  \n",
              "25%                     15.000000  \n",
              "50%                     16.000000  \n",
              "75%                     18.000000  \n",
              "max                     20.000000  "
            ],
            "text/html": [
              "\n",
              "  <div id=\"df-5b87bc30-d530-410b-af0b-fec38a955f12\">\n",
              "    <div class=\"colab-df-container\">\n",
              "      <div>\n",
              "<style scoped>\n",
              "    .dataframe tbody tr th:only-of-type {\n",
              "        vertical-align: middle;\n",
              "    }\n",
              "\n",
              "    .dataframe tbody tr th {\n",
              "        vertical-align: top;\n",
              "    }\n",
              "\n",
              "    .dataframe thead th {\n",
              "        text-align: right;\n",
              "    }\n",
              "</style>\n",
              "<table border=\"1\" class=\"dataframe\">\n",
              "  <thead>\n",
              "    <tr style=\"text-align: right;\">\n",
              "      <th></th>\n",
              "      <th>Lead Number</th>\n",
              "      <th>Converted</th>\n",
              "      <th>TotalVisits</th>\n",
              "      <th>Total Time Spent on Website</th>\n",
              "      <th>Page Views Per Visit</th>\n",
              "      <th>Asymmetrique Activity Score</th>\n",
              "      <th>Asymmetrique Profile Score</th>\n",
              "    </tr>\n",
              "  </thead>\n",
              "  <tbody>\n",
              "    <tr>\n",
              "      <th>count</th>\n",
              "      <td>9240.000000</td>\n",
              "      <td>9240.000000</td>\n",
              "      <td>9103.000000</td>\n",
              "      <td>9240.000000</td>\n",
              "      <td>9103.000000</td>\n",
              "      <td>5022.000000</td>\n",
              "      <td>5022.000000</td>\n",
              "    </tr>\n",
              "    <tr>\n",
              "      <th>mean</th>\n",
              "      <td>617188.435606</td>\n",
              "      <td>0.385390</td>\n",
              "      <td>3.445238</td>\n",
              "      <td>487.698268</td>\n",
              "      <td>2.362820</td>\n",
              "      <td>14.306252</td>\n",
              "      <td>16.344883</td>\n",
              "    </tr>\n",
              "    <tr>\n",
              "      <th>std</th>\n",
              "      <td>23405.995698</td>\n",
              "      <td>0.486714</td>\n",
              "      <td>4.854853</td>\n",
              "      <td>548.021466</td>\n",
              "      <td>2.161418</td>\n",
              "      <td>1.386694</td>\n",
              "      <td>1.811395</td>\n",
              "    </tr>\n",
              "    <tr>\n",
              "      <th>min</th>\n",
              "      <td>579533.000000</td>\n",
              "      <td>0.000000</td>\n",
              "      <td>0.000000</td>\n",
              "      <td>0.000000</td>\n",
              "      <td>0.000000</td>\n",
              "      <td>7.000000</td>\n",
              "      <td>11.000000</td>\n",
              "    </tr>\n",
              "    <tr>\n",
              "      <th>25%</th>\n",
              "      <td>596484.500000</td>\n",
              "      <td>0.000000</td>\n",
              "      <td>1.000000</td>\n",
              "      <td>12.000000</td>\n",
              "      <td>1.000000</td>\n",
              "      <td>14.000000</td>\n",
              "      <td>15.000000</td>\n",
              "    </tr>\n",
              "    <tr>\n",
              "      <th>50%</th>\n",
              "      <td>615479.000000</td>\n",
              "      <td>0.000000</td>\n",
              "      <td>3.000000</td>\n",
              "      <td>248.000000</td>\n",
              "      <td>2.000000</td>\n",
              "      <td>14.000000</td>\n",
              "      <td>16.000000</td>\n",
              "    </tr>\n",
              "    <tr>\n",
              "      <th>75%</th>\n",
              "      <td>637387.250000</td>\n",
              "      <td>1.000000</td>\n",
              "      <td>5.000000</td>\n",
              "      <td>936.000000</td>\n",
              "      <td>3.000000</td>\n",
              "      <td>15.000000</td>\n",
              "      <td>18.000000</td>\n",
              "    </tr>\n",
              "    <tr>\n",
              "      <th>max</th>\n",
              "      <td>660737.000000</td>\n",
              "      <td>1.000000</td>\n",
              "      <td>251.000000</td>\n",
              "      <td>2272.000000</td>\n",
              "      <td>55.000000</td>\n",
              "      <td>18.000000</td>\n",
              "      <td>20.000000</td>\n",
              "    </tr>\n",
              "  </tbody>\n",
              "</table>\n",
              "</div>\n",
              "      <button class=\"colab-df-convert\" onclick=\"convertToInteractive('df-5b87bc30-d530-410b-af0b-fec38a955f12')\"\n",
              "              title=\"Convert this dataframe to an interactive table.\"\n",
              "              style=\"display:none;\">\n",
              "        \n",
              "  <svg xmlns=\"http://www.w3.org/2000/svg\" height=\"24px\"viewBox=\"0 0 24 24\"\n",
              "       width=\"24px\">\n",
              "    <path d=\"M0 0h24v24H0V0z\" fill=\"none\"/>\n",
              "    <path d=\"M18.56 5.44l.94 2.06.94-2.06 2.06-.94-2.06-.94-.94-2.06-.94 2.06-2.06.94zm-11 1L8.5 8.5l.94-2.06 2.06-.94-2.06-.94L8.5 2.5l-.94 2.06-2.06.94zm10 10l.94 2.06.94-2.06 2.06-.94-2.06-.94-.94-2.06-.94 2.06-2.06.94z\"/><path d=\"M17.41 7.96l-1.37-1.37c-.4-.4-.92-.59-1.43-.59-.52 0-1.04.2-1.43.59L10.3 9.45l-7.72 7.72c-.78.78-.78 2.05 0 2.83L4 21.41c.39.39.9.59 1.41.59.51 0 1.02-.2 1.41-.59l7.78-7.78 2.81-2.81c.8-.78.8-2.07 0-2.86zM5.41 20L4 18.59l7.72-7.72 1.47 1.35L5.41 20z\"/>\n",
              "  </svg>\n",
              "      </button>\n",
              "      \n",
              "  <style>\n",
              "    .colab-df-container {\n",
              "      display:flex;\n",
              "      flex-wrap:wrap;\n",
              "      gap: 12px;\n",
              "    }\n",
              "\n",
              "    .colab-df-convert {\n",
              "      background-color: #E8F0FE;\n",
              "      border: none;\n",
              "      border-radius: 50%;\n",
              "      cursor: pointer;\n",
              "      display: none;\n",
              "      fill: #1967D2;\n",
              "      height: 32px;\n",
              "      padding: 0 0 0 0;\n",
              "      width: 32px;\n",
              "    }\n",
              "\n",
              "    .colab-df-convert:hover {\n",
              "      background-color: #E2EBFA;\n",
              "      box-shadow: 0px 1px 2px rgba(60, 64, 67, 0.3), 0px 1px 3px 1px rgba(60, 64, 67, 0.15);\n",
              "      fill: #174EA6;\n",
              "    }\n",
              "\n",
              "    [theme=dark] .colab-df-convert {\n",
              "      background-color: #3B4455;\n",
              "      fill: #D2E3FC;\n",
              "    }\n",
              "\n",
              "    [theme=dark] .colab-df-convert:hover {\n",
              "      background-color: #434B5C;\n",
              "      box-shadow: 0px 1px 3px 1px rgba(0, 0, 0, 0.15);\n",
              "      filter: drop-shadow(0px 1px 2px rgba(0, 0, 0, 0.3));\n",
              "      fill: #FFFFFF;\n",
              "    }\n",
              "  </style>\n",
              "\n",
              "      <script>\n",
              "        const buttonEl =\n",
              "          document.querySelector('#df-5b87bc30-d530-410b-af0b-fec38a955f12 button.colab-df-convert');\n",
              "        buttonEl.style.display =\n",
              "          google.colab.kernel.accessAllowed ? 'block' : 'none';\n",
              "\n",
              "        async function convertToInteractive(key) {\n",
              "          const element = document.querySelector('#df-5b87bc30-d530-410b-af0b-fec38a955f12');\n",
              "          const dataTable =\n",
              "            await google.colab.kernel.invokeFunction('convertToInteractive',\n",
              "                                                     [key], {});\n",
              "          if (!dataTable) return;\n",
              "\n",
              "          const docLinkHtml = 'Like what you see? Visit the ' +\n",
              "            '<a target=\"_blank\" href=https://colab.research.google.com/notebooks/data_table.ipynb>data table notebook</a>'\n",
              "            + ' to learn more about interactive tables.';\n",
              "          element.innerHTML = '';\n",
              "          dataTable['output_type'] = 'display_data';\n",
              "          await google.colab.output.renderOutput(dataTable, element);\n",
              "          const docLink = document.createElement('div');\n",
              "          docLink.innerHTML = docLinkHtml;\n",
              "          element.appendChild(docLink);\n",
              "        }\n",
              "      </script>\n",
              "    </div>\n",
              "  </div>\n",
              "  "
            ]
          },
          "metadata": {},
          "execution_count": 62
        }
      ]
    },
    {
      "cell_type": "markdown",
      "source": [
        "#Step 2: Data Cleaning"
      ],
      "metadata": {
        "id": "28Z1yySIVbJX"
      }
    },
    {
      "cell_type": "code",
      "source": [
        "# DISPLAY NULL VALUES PERCENTAGE IN ASCENDING ORDER\n",
        "\n",
        "print(round(100*(lead_df.isnull().sum()/len(lead_df.index)), 2).sort_values(ascending=False))"
      ],
      "metadata": {
        "colab": {
          "base_uri": "https://localhost:8080/"
        },
        "id": "Fwsg9NerVQ-u",
        "outputId": "cfc81cc7-e213-448b-e3e0-fc80baa88a90"
      },
      "execution_count": 63,
      "outputs": [
        {
          "output_type": "stream",
          "name": "stdout",
          "text": [
            "Lead Quality                                     51.59\n",
            "Asymmetrique Activity Index                      45.65\n",
            "Asymmetrique Profile Score                       45.65\n",
            "Asymmetrique Activity Score                      45.65\n",
            "Asymmetrique Profile Index                       45.65\n",
            "Tags                                             36.29\n",
            "Lead Profile                                     29.32\n",
            "What matters most to you in choosing a course    29.32\n",
            "What is your current occupation                  29.11\n",
            "Country                                          26.63\n",
            "How did you hear about X Education               23.89\n",
            "Specialization                                   15.56\n",
            "City                                             15.37\n",
            "Page Views Per Visit                              1.48\n",
            "TotalVisits                                       1.48\n",
            "Last Activity                                     1.11\n",
            "Lead Source                                       0.39\n",
            "Receive More Updates About Our Courses            0.00\n",
            "I agree to pay the amount through cheque          0.00\n",
            "Get updates on DM Content                         0.00\n",
            "Update me on Supply Chain Content                 0.00\n",
            "A free copy of Mastering The Interview            0.00\n",
            "Prospect ID                                       0.00\n",
            "Newspaper Article                                 0.00\n",
            "Through Recommendations                           0.00\n",
            "Digital Advertisement                             0.00\n",
            "Newspaper                                         0.00\n",
            "X Education Forums                                0.00\n",
            "Lead Number                                       0.00\n",
            "Magazine                                          0.00\n",
            "Search                                            0.00\n",
            "Total Time Spent on Website                       0.00\n",
            "Converted                                         0.00\n",
            "Do Not Call                                       0.00\n",
            "Do Not Email                                      0.00\n",
            "Lead Origin                                       0.00\n",
            "Last Notable Activity                             0.00\n",
            "dtype: float64\n"
          ]
        }
      ]
    },
    {
      "cell_type": "code",
      "source": [
        "# CONVERTING ALL THE SELECT TO NULL AND CHECKING NULL AGAIN\n",
        "cols=lead_df.columns\n",
        "\n",
        "for cl in cols:\n",
        "  lead_df[cl]=lead_df[cl].replace('Select',np.nan)\n",
        "print(round(100*(lead_df.isnull().sum()/len(lead_df.index)), 2).sort_values(ascending=False))"
      ],
      "metadata": {
        "colab": {
          "base_uri": "https://localhost:8080/"
        },
        "id": "QUBni4D_Vpix",
        "outputId": "6b42266f-7769-42c0-9e15-3b4716b00c9f"
      },
      "execution_count": 64,
      "outputs": [
        {
          "output_type": "stream",
          "name": "stdout",
          "text": [
            "How did you hear about X Education               78.46\n",
            "Lead Profile                                     74.19\n",
            "Lead Quality                                     51.59\n",
            "Asymmetrique Profile Score                       45.65\n",
            "Asymmetrique Activity Score                      45.65\n",
            "Asymmetrique Activity Index                      45.65\n",
            "Asymmetrique Profile Index                       45.65\n",
            "City                                             39.71\n",
            "Specialization                                   36.58\n",
            "Tags                                             36.29\n",
            "What matters most to you in choosing a course    29.32\n",
            "What is your current occupation                  29.11\n",
            "Country                                          26.63\n",
            "Page Views Per Visit                              1.48\n",
            "TotalVisits                                       1.48\n",
            "Last Activity                                     1.11\n",
            "Lead Source                                       0.39\n",
            "Receive More Updates About Our Courses            0.00\n",
            "I agree to pay the amount through cheque          0.00\n",
            "Get updates on DM Content                         0.00\n",
            "Update me on Supply Chain Content                 0.00\n",
            "A free copy of Mastering The Interview            0.00\n",
            "Prospect ID                                       0.00\n",
            "Newspaper Article                                 0.00\n",
            "Through Recommendations                           0.00\n",
            "Digital Advertisement                             0.00\n",
            "Newspaper                                         0.00\n",
            "X Education Forums                                0.00\n",
            "Lead Number                                       0.00\n",
            "Magazine                                          0.00\n",
            "Search                                            0.00\n",
            "Total Time Spent on Website                       0.00\n",
            "Converted                                         0.00\n",
            "Do Not Call                                       0.00\n",
            "Do Not Email                                      0.00\n",
            "Lead Origin                                       0.00\n",
            "Last Notable Activity                             0.00\n",
            "dtype: float64\n"
          ]
        }
      ]
    },
    {
      "cell_type": "code",
      "source": [
        "#GETTING THE COLUMN NAMES WHOSE NULL IS MORE THAN 30%\n",
        "blank = 100*(lead_df.isna().sum()/len(lead_df)).sort_values(ascending=False)\n",
        "blank_list=list(blank[blank.values >=35].index)\n",
        "print(blank_list)\n",
        "\n",
        "# REMOVE COLUMNS WITH MORE THAN 45% NULL\n",
        "new_lead1=lead_df.drop(blank_list, axis=1)\n",
        "new_lead1.shape"
      ],
      "metadata": {
        "colab": {
          "base_uri": "https://localhost:8080/"
        },
        "id": "gniF_yGQWOYZ",
        "outputId": "61ac3ea4-2171-42c1-f3c1-e595eef21c32"
      },
      "execution_count": 65,
      "outputs": [
        {
          "output_type": "stream",
          "name": "stdout",
          "text": [
            "['How did you hear about X Education', 'Lead Profile', 'Lead Quality', 'Asymmetrique Profile Score', 'Asymmetrique Activity Score', 'Asymmetrique Activity Index', 'Asymmetrique Profile Index', 'City', 'Specialization', 'Tags']\n"
          ]
        },
        {
          "output_type": "execute_result",
          "data": {
            "text/plain": [
              "(9240, 27)"
            ]
          },
          "metadata": {},
          "execution_count": 65
        }
      ]
    },
    {
      "cell_type": "code",
      "source": [
        "print(round(100*(new_lead1.isnull().sum()/len(new_lead1.index)), 2).sort_values(ascending=False))"
      ],
      "metadata": {
        "colab": {
          "base_uri": "https://localhost:8080/"
        },
        "id": "-XafPmxMW8EO",
        "outputId": "e9f1a72b-6980-49e4-d847-7ec794bbf853"
      },
      "execution_count": 66,
      "outputs": [
        {
          "output_type": "stream",
          "name": "stdout",
          "text": [
            "What matters most to you in choosing a course    29.32\n",
            "What is your current occupation                  29.11\n",
            "Country                                          26.63\n",
            "TotalVisits                                       1.48\n",
            "Page Views Per Visit                              1.48\n",
            "Last Activity                                     1.11\n",
            "Lead Source                                       0.39\n",
            "X Education Forums                                0.00\n",
            "A free copy of Mastering The Interview            0.00\n",
            "I agree to pay the amount through cheque          0.00\n",
            "Get updates on DM Content                         0.00\n",
            "Update me on Supply Chain Content                 0.00\n",
            "Receive More Updates About Our Courses            0.00\n",
            "Through Recommendations                           0.00\n",
            "Digital Advertisement                             0.00\n",
            "Newspaper                                         0.00\n",
            "Prospect ID                                       0.00\n",
            "Newspaper Article                                 0.00\n",
            "Magazine                                          0.00\n",
            "Search                                            0.00\n",
            "Lead Number                                       0.00\n",
            "Total Time Spent on Website                       0.00\n",
            "Converted                                         0.00\n",
            "Do Not Call                                       0.00\n",
            "Do Not Email                                      0.00\n",
            "Lead Origin                                       0.00\n",
            "Last Notable Activity                             0.00\n",
            "dtype: float64\n"
          ]
        }
      ]
    },
    {
      "cell_type": "code",
      "source": [
        "# CHECK THE COUNTRIES\n",
        "\n",
        "new_lead1.Country.value_counts()"
      ],
      "metadata": {
        "colab": {
          "base_uri": "https://localhost:8080/"
        },
        "id": "8I9UgfZkW-CQ",
        "outputId": "fff01ab8-3a83-440c-f351-f34895a06ed9"
      },
      "execution_count": 67,
      "outputs": [
        {
          "output_type": "execute_result",
          "data": {
            "text/plain": [
              "India                   6492\n",
              "United States             69\n",
              "United Arab Emirates      53\n",
              "Singapore                 24\n",
              "Saudi Arabia              21\n",
              "United Kingdom            15\n",
              "Australia                 13\n",
              "Qatar                     10\n",
              "Hong Kong                  7\n",
              "Bahrain                    7\n",
              "Oman                       6\n",
              "France                     6\n",
              "unknown                    5\n",
              "South Africa               4\n",
              "Nigeria                    4\n",
              "Germany                    4\n",
              "Kuwait                     4\n",
              "Canada                     4\n",
              "Sweden                     3\n",
              "China                      2\n",
              "Asia/Pacific Region        2\n",
              "Uganda                     2\n",
              "Bangladesh                 2\n",
              "Italy                      2\n",
              "Belgium                    2\n",
              "Netherlands                2\n",
              "Ghana                      2\n",
              "Philippines                2\n",
              "Russia                     1\n",
              "Switzerland                1\n",
              "Vietnam                    1\n",
              "Denmark                    1\n",
              "Tanzania                   1\n",
              "Liberia                    1\n",
              "Malaysia                   1\n",
              "Kenya                      1\n",
              "Sri Lanka                  1\n",
              "Indonesia                  1\n",
              "Name: Country, dtype: int64"
            ]
          },
          "metadata": {},
          "execution_count": 67
        }
      ]
    },
    {
      "cell_type": "code",
      "source": [
        "# CHECKING NUMBER OF INDIANS\n",
        "\n",
        "country_percentage = round(100*len(new_lead1[new_lead1['Country'] == 'India'])/len(new_lead1['Country']),2)\n",
        "print(country_percentage)"
      ],
      "metadata": {
        "colab": {
          "base_uri": "https://localhost:8080/"
        },
        "id": "r-dZ9EHrYRVC",
        "outputId": "8a60f6a5-21b1-456f-b725-da5af46af18a"
      },
      "execution_count": 68,
      "outputs": [
        {
          "output_type": "stream",
          "name": "stdout",
          "text": [
            "70.26\n"
          ]
        }
      ]
    },
    {
      "cell_type": "markdown",
      "source": [
        " Since \"India\" occurs around 70% of times in the Country column, and country column also has around 27% as missing values, \n",
        "we shall go ahead and drop the column"
      ],
      "metadata": {
        "id": "oplEHrKpYwYf"
      }
    },
    {
      "cell_type": "code",
      "source": [
        "# REMOVING THE COUNTRY COLUMN\n",
        "new_lead1 = new_lead1.drop(['Country'], axis=1)"
      ],
      "metadata": {
        "id": "u3Tm39wwYoUX"
      },
      "execution_count": 69,
      "outputs": []
    },
    {
      "cell_type": "code",
      "source": [
        "# LEAD SOURCE VALUES\n",
        "\n",
        "new_lead1['Lead Source'].value_counts()"
      ],
      "metadata": {
        "colab": {
          "base_uri": "https://localhost:8080/"
        },
        "id": "6h11tYxIY78_",
        "outputId": "766e3ebc-ce3a-4ec9-8e00-0535caa9bda7"
      },
      "execution_count": 70,
      "outputs": [
        {
          "output_type": "execute_result",
          "data": {
            "text/plain": [
              "Google               2868\n",
              "Direct Traffic       2543\n",
              "Olark Chat           1755\n",
              "Organic Search       1154\n",
              "Reference             534\n",
              "Welingak Website      142\n",
              "Referral Sites        125\n",
              "Facebook               55\n",
              "bing                    6\n",
              "google                  5\n",
              "Click2call              4\n",
              "Press_Release           2\n",
              "Social Media            2\n",
              "Live Chat               2\n",
              "youtubechannel          1\n",
              "testone                 1\n",
              "Pay per Click Ads       1\n",
              "welearnblog_Home        1\n",
              "WeLearn                 1\n",
              "blog                    1\n",
              "NC_EDM                  1\n",
              "Name: Lead Source, dtype: int64"
            ]
          },
          "metadata": {},
          "execution_count": 70
        }
      ]
    },
    {
      "cell_type": "markdown",
      "source": [
        " From the above it can be noticed that Google appears twice with different cases. Hence we shall convert all rows with value \n",
        " \"Google\" to the same case.\n",
        "Also since \"Google\" has the major chunk of data, we can impute the null values with Google"
      ],
      "metadata": {
        "id": "jppaVbMuZLgp"
      }
    },
    {
      "cell_type": "code",
      "source": [
        "# GOOGLE DIFFERENT SPELLINGS MERGED IN ONE AND THEN DISPLAY THE VALUES\n",
        "\n",
        "new_lead1['Lead Source'] = new_lead1['Lead Source'].replace('google', 'Google')\n",
        "new_lead1['Lead Source'] = new_lead1['Lead Source'].replace(np.nan, 'Google')\n",
        "new_lead1['Lead Source'].value_counts()"
      ],
      "metadata": {
        "colab": {
          "base_uri": "https://localhost:8080/"
        },
        "id": "f2FJXZQAZDPD",
        "outputId": "4c728ec4-e020-4cd0-85ac-f31967f2a2cd"
      },
      "execution_count": 71,
      "outputs": [
        {
          "output_type": "execute_result",
          "data": {
            "text/plain": [
              "Google               2909\n",
              "Direct Traffic       2543\n",
              "Olark Chat           1755\n",
              "Organic Search       1154\n",
              "Reference             534\n",
              "Welingak Website      142\n",
              "Referral Sites        125\n",
              "Facebook               55\n",
              "bing                    6\n",
              "Click2call              4\n",
              "Social Media            2\n",
              "Live Chat               2\n",
              "Press_Release           2\n",
              "Pay per Click Ads       1\n",
              "blog                    1\n",
              "WeLearn                 1\n",
              "welearnblog_Home        1\n",
              "youtubechannel          1\n",
              "testone                 1\n",
              "NC_EDM                  1\n",
              "Name: Lead Source, dtype: int64"
            ]
          },
          "metadata": {},
          "execution_count": 71
        }
      ]
    },
    {
      "cell_type": "code",
      "source": [
        "# TOTAL VISITS VALUE\n",
        "\n",
        "new_lead1['TotalVisits'].value_counts()"
      ],
      "metadata": {
        "colab": {
          "base_uri": "https://localhost:8080/"
        },
        "id": "COD7U2oHZbid",
        "outputId": "9c9941bc-dd2b-47ef-8807-e66cd17e9e50"
      },
      "execution_count": 72,
      "outputs": [
        {
          "output_type": "execute_result",
          "data": {
            "text/plain": [
              "0.0      2189\n",
              "2.0      1680\n",
              "3.0      1306\n",
              "4.0      1120\n",
              "5.0       783\n",
              "6.0       466\n",
              "1.0       395\n",
              "7.0       309\n",
              "8.0       224\n",
              "9.0       164\n",
              "10.0      114\n",
              "11.0       86\n",
              "13.0       48\n",
              "12.0       45\n",
              "14.0       36\n",
              "16.0       21\n",
              "15.0       18\n",
              "17.0       16\n",
              "18.0       15\n",
              "20.0       12\n",
              "19.0        9\n",
              "21.0        6\n",
              "23.0        6\n",
              "24.0        5\n",
              "25.0        5\n",
              "27.0        5\n",
              "22.0        3\n",
              "29.0        2\n",
              "28.0        2\n",
              "26.0        2\n",
              "141.0       1\n",
              "55.0        1\n",
              "30.0        1\n",
              "43.0        1\n",
              "74.0        1\n",
              "41.0        1\n",
              "54.0        1\n",
              "115.0       1\n",
              "251.0       1\n",
              "32.0        1\n",
              "42.0        1\n",
              "Name: TotalVisits, dtype: int64"
            ]
          },
          "metadata": {},
          "execution_count": 72
        }
      ]
    },
    {
      "cell_type": "code",
      "source": [
        "# REPLACING NULL WITH MEDIAN\n",
        "\n",
        "new_lead1['TotalVisits'] = new_lead1['TotalVisits'].replace(np.nan, new_lead1['TotalVisits'].median())"
      ],
      "metadata": {
        "id": "KvK27PM8ZiRy"
      },
      "execution_count": 73,
      "outputs": []
    },
    {
      "cell_type": "code",
      "source": [
        "# PAGE VIEWS PER VISIT VALUES\n",
        "\n",
        "new_lead1['Page Views Per Visit'].value_counts()"
      ],
      "metadata": {
        "colab": {
          "base_uri": "https://localhost:8080/"
        },
        "id": "f9Lit69_Zx4P",
        "outputId": "563b971d-ef17-4e55-ccd9-6eb32baec44b"
      },
      "execution_count": 74,
      "outputs": [
        {
          "output_type": "execute_result",
          "data": {
            "text/plain": [
              "0.00    2189\n",
              "2.00    1795\n",
              "3.00    1196\n",
              "4.00     896\n",
              "1.00     651\n",
              "        ... \n",
              "3.43       1\n",
              "2.56       1\n",
              "6.33       1\n",
              "1.64       1\n",
              "2.08       1\n",
              "Name: Page Views Per Visit, Length: 114, dtype: int64"
            ]
          },
          "metadata": {},
          "execution_count": 74
        }
      ]
    },
    {
      "cell_type": "code",
      "source": [
        "# REPLACING VALUES OF PAGE PER VISIT BY MEDIAN \n",
        "\n",
        "new_lead1['Page Views Per Visit'] = new_lead1['Page Views Per Visit'].replace(np.nan, new_lead1['Page Views Per Visit'].median())"
      ],
      "metadata": {
        "id": "upvN9kh4Z9SI"
      },
      "execution_count": 75,
      "outputs": []
    },
    {
      "cell_type": "code",
      "source": [
        "# AS THE VALUES WERE NOT GIVEN IN THIS CATEGORICAL VARIABLE SO WE CAN REPLACE IT WITH 'Unknown'\n",
        "\n",
        "new_lead1['Last Activity'] = new_lead1['Last Activity'].replace(np.nan, 'Unknown')"
      ],
      "metadata": {
        "id": "RDCaDY58aOAG"
      },
      "execution_count": 76,
      "outputs": []
    },
    {
      "cell_type": "code",
      "source": [
        "# \"What is your current Occupation\" VALUES\n",
        "\n",
        "new_lead1['What is your current occupation'].value_counts()"
      ],
      "metadata": {
        "colab": {
          "base_uri": "https://localhost:8080/"
        },
        "id": "3npwnpAZaXsY",
        "outputId": "4d82d21b-1b78-461e-bd9f-b9b2ef52459a"
      },
      "execution_count": 77,
      "outputs": [
        {
          "output_type": "execute_result",
          "data": {
            "text/plain": [
              "Unemployed              5600\n",
              "Working Professional     706\n",
              "Student                  210\n",
              "Other                     16\n",
              "Housewife                 10\n",
              "Businessman                8\n",
              "Name: What is your current occupation, dtype: int64"
            ]
          },
          "metadata": {},
          "execution_count": 77
        }
      ]
    },
    {
      "cell_type": "code",
      "source": [
        "# AS NO INORMATION WAS PROVIDED NULL VALUES ARE REPLACED BY 'No Information'\n",
        "\n",
        "new_lead1['What is your current occupation'] = new_lead1['What is your current occupation'].replace(np.nan, 'No Information')"
      ],
      "metadata": {
        "id": "zD1vEWSUainz"
      },
      "execution_count": 78,
      "outputs": []
    },
    {
      "cell_type": "code",
      "source": [
        "#  'What matters most to you in choosing a course ' VALUES\n",
        "\n",
        "new_lead1['What matters most to you in choosing a course'].value_counts()"
      ],
      "metadata": {
        "colab": {
          "base_uri": "https://localhost:8080/"
        },
        "id": "KlL1dFy5atF9",
        "outputId": "b4fd506e-81b7-4d46-8114-472040a4ac8c"
      },
      "execution_count": 79,
      "outputs": [
        {
          "output_type": "execute_result",
          "data": {
            "text/plain": [
              "Better Career Prospects      6528\n",
              "Flexibility & Convenience       2\n",
              "Other                           1\n",
              "Name: What matters most to you in choosing a course, dtype: int64"
            ]
          },
          "metadata": {},
          "execution_count": 79
        }
      ]
    },
    {
      "cell_type": "code",
      "source": [
        "# CHECKING THE PERCENTAGE\n",
        "per = round(100*len(new_lead1[new_lead1['What matters most to you in choosing a course']== 'Better Career Prospects'])/len(new_lead1['What matters most to you in choosing a course']),2)\n",
        "print(per)"
      ],
      "metadata": {
        "colab": {
          "base_uri": "https://localhost:8080/"
        },
        "id": "zUeAUqu0bKSH",
        "outputId": "7a07aec4-4c3e-42f3-e244-98346f5f5907"
      },
      "execution_count": 80,
      "outputs": [
        {
          "output_type": "stream",
          "name": "stdout",
          "text": [
            "70.65\n"
          ]
        }
      ]
    },
    {
      "cell_type": "markdown",
      "source": [
        "Since Better Career Prospects occurs around 70% of times in the What matters most to you in choosing a course column, and\n",
        "since the column also has around 29% as missing values, we shall go ahead and drop the column"
      ],
      "metadata": {
        "id": "E6WUMC1zbtHn"
      }
    },
    {
      "cell_type": "code",
      "source": [
        "# REMOVING 'What matters most to you in choosing a course' VALUES\n",
        "new_lead1 = new_lead1.drop(['What matters most to you in choosing a course'], axis=1)"
      ],
      "metadata": {
        "id": "UiZLlqveblV0"
      },
      "execution_count": 81,
      "outputs": []
    },
    {
      "cell_type": "code",
      "source": [
        "# CHECKING FOR THE NULL \n",
        "print(round(100*(new_lead1.isnull().sum()/len(new_lead1.index)), 2).sort_values(ascending=False))"
      ],
      "metadata": {
        "colab": {
          "base_uri": "https://localhost:8080/"
        },
        "id": "mzCvuqcSbzpm",
        "outputId": "cb7e1f0b-cfed-4eef-d99b-e68f66eb0cb1"
      },
      "execution_count": 82,
      "outputs": [
        {
          "output_type": "stream",
          "name": "stdout",
          "text": [
            "Prospect ID                                 0.0\n",
            "Magazine                                    0.0\n",
            "A free copy of Mastering The Interview      0.0\n",
            "I agree to pay the amount through cheque    0.0\n",
            "Get updates on DM Content                   0.0\n",
            "Update me on Supply Chain Content           0.0\n",
            "Receive More Updates About Our Courses      0.0\n",
            "Through Recommendations                     0.0\n",
            "Digital Advertisement                       0.0\n",
            "Newspaper                                   0.0\n",
            "X Education Forums                          0.0\n",
            "Newspaper Article                           0.0\n",
            "Search                                      0.0\n",
            "Lead Number                                 0.0\n",
            "What is your current occupation             0.0\n",
            "Last Activity                               0.0\n",
            "Page Views Per Visit                        0.0\n",
            "Total Time Spent on Website                 0.0\n",
            "TotalVisits                                 0.0\n",
            "Converted                                   0.0\n",
            "Do Not Call                                 0.0\n",
            "Do Not Email                                0.0\n",
            "Lead Source                                 0.0\n",
            "Lead Origin                                 0.0\n",
            "Last Notable Activity                       0.0\n",
            "dtype: float64\n"
          ]
        }
      ]
    },
    {
      "cell_type": "code",
      "source": [
        "# CHECKING SOME COLUMNS \n",
        "print(new_lead1['Receive More Updates About Our Courses'].value_counts())\n",
        "print(new_lead1['Update me on Supply Chain Content'].value_counts())\n",
        "print(new_lead1['Get updates on DM Content'].value_counts())\n",
        "print(new_lead1['I agree to pay the amount through cheque'].value_counts())  \n",
        "print(new_lead1['Magazine'].value_counts())\n"
      ],
      "metadata": {
        "colab": {
          "base_uri": "https://localhost:8080/"
        },
        "id": "L03hVGiCb_17",
        "outputId": "3071445a-18bf-4466-9164-6c2dc085c29a"
      },
      "execution_count": 83,
      "outputs": [
        {
          "output_type": "stream",
          "name": "stdout",
          "text": [
            "No    9240\n",
            "Name: Receive More Updates About Our Courses, dtype: int64\n",
            "No    9240\n",
            "Name: Update me on Supply Chain Content, dtype: int64\n",
            "No    9240\n",
            "Name: Get updates on DM Content, dtype: int64\n",
            "No    9240\n",
            "Name: I agree to pay the amount through cheque, dtype: int64\n",
            "No    9240\n",
            "Name: Magazine, dtype: int64\n"
          ]
        }
      ]
    },
    {
      "cell_type": "markdown",
      "source": [
        "They have 1 value, so these columns can be deleted."
      ],
      "metadata": {
        "id": "Al5GnFGvcLyI"
      }
    },
    {
      "cell_type": "code",
      "source": [
        "# REMOVING COLUMN THAT HAS ONLY VALUE\n",
        "blank=['Receive More Updates About Our Courses','Update me on Supply Chain Content','Get updates on DM Content','I agree to pay the amount through cheque','Magazine','Prospect ID','Lead Number']\n",
        "new_lead1=new_lead1.drop(blank, axis=1)\n",
        "print(new_lead1.shape)"
      ],
      "metadata": {
        "colab": {
          "base_uri": "https://localhost:8080/"
        },
        "id": "feZaGZeEcJsP",
        "outputId": "9afa5b7a-6dda-4730-c24c-10163d8f81db"
      },
      "execution_count": 84,
      "outputs": [
        {
          "output_type": "stream",
          "name": "stdout",
          "text": [
            "(9240, 18)\n"
          ]
        }
      ]
    },
    {
      "cell_type": "code",
      "source": [],
      "metadata": {
        "id": "EDc8nZYbcX5K"
      },
      "execution_count": 84,
      "outputs": []
    },
    {
      "cell_type": "markdown",
      "metadata": {
        "id": "v_Xt1c0Od9eg"
      },
      "source": [
        "##### CHECKING AND HANDLING OUTLIERS"
      ]
    },
    {
      "cell_type": "code",
      "execution_count": 85,
      "metadata": {
        "id": "zRLH5udud9eg",
        "outputId": "8b305e38-dd85-440e-f263-ade3049fbb64",
        "colab": {
          "base_uri": "https://localhost:8080/",
          "height": 394
        }
      },
      "outputs": [
        {
          "output_type": "execute_result",
          "data": {
            "text/plain": [
              "         Converted  TotalVisits  Total Time Spent on Website  \\\n",
              "count  9240.000000  9240.000000                  9240.000000   \n",
              "mean      0.385390     3.438636                   487.698268   \n",
              "std       0.486714     4.819024                   548.021466   \n",
              "min       0.000000     0.000000                     0.000000   \n",
              "25%       0.000000     1.000000                    12.000000   \n",
              "50%       0.000000     3.000000                   248.000000   \n",
              "75%       1.000000     5.000000                   936.000000   \n",
              "90%       1.000000     7.000000                  1380.000000   \n",
              "95%       1.000000    10.000000                  1562.000000   \n",
              "99%       1.000000    17.000000                  1840.610000   \n",
              "max       1.000000   251.000000                  2272.000000   \n",
              "\n",
              "       Page Views Per Visit  \n",
              "count           9240.000000  \n",
              "mean               2.357440  \n",
              "std                2.145781  \n",
              "min                0.000000  \n",
              "25%                1.000000  \n",
              "50%                2.000000  \n",
              "75%                3.000000  \n",
              "90%                5.000000  \n",
              "95%                6.000000  \n",
              "99%                9.000000  \n",
              "max               55.000000  "
            ],
            "text/html": [
              "\n",
              "  <div id=\"df-a7cbe06b-5208-4896-bf54-8f1df0c9ba96\">\n",
              "    <div class=\"colab-df-container\">\n",
              "      <div>\n",
              "<style scoped>\n",
              "    .dataframe tbody tr th:only-of-type {\n",
              "        vertical-align: middle;\n",
              "    }\n",
              "\n",
              "    .dataframe tbody tr th {\n",
              "        vertical-align: top;\n",
              "    }\n",
              "\n",
              "    .dataframe thead th {\n",
              "        text-align: right;\n",
              "    }\n",
              "</style>\n",
              "<table border=\"1\" class=\"dataframe\">\n",
              "  <thead>\n",
              "    <tr style=\"text-align: right;\">\n",
              "      <th></th>\n",
              "      <th>Converted</th>\n",
              "      <th>TotalVisits</th>\n",
              "      <th>Total Time Spent on Website</th>\n",
              "      <th>Page Views Per Visit</th>\n",
              "    </tr>\n",
              "  </thead>\n",
              "  <tbody>\n",
              "    <tr>\n",
              "      <th>count</th>\n",
              "      <td>9240.000000</td>\n",
              "      <td>9240.000000</td>\n",
              "      <td>9240.000000</td>\n",
              "      <td>9240.000000</td>\n",
              "    </tr>\n",
              "    <tr>\n",
              "      <th>mean</th>\n",
              "      <td>0.385390</td>\n",
              "      <td>3.438636</td>\n",
              "      <td>487.698268</td>\n",
              "      <td>2.357440</td>\n",
              "    </tr>\n",
              "    <tr>\n",
              "      <th>std</th>\n",
              "      <td>0.486714</td>\n",
              "      <td>4.819024</td>\n",
              "      <td>548.021466</td>\n",
              "      <td>2.145781</td>\n",
              "    </tr>\n",
              "    <tr>\n",
              "      <th>min</th>\n",
              "      <td>0.000000</td>\n",
              "      <td>0.000000</td>\n",
              "      <td>0.000000</td>\n",
              "      <td>0.000000</td>\n",
              "    </tr>\n",
              "    <tr>\n",
              "      <th>25%</th>\n",
              "      <td>0.000000</td>\n",
              "      <td>1.000000</td>\n",
              "      <td>12.000000</td>\n",
              "      <td>1.000000</td>\n",
              "    </tr>\n",
              "    <tr>\n",
              "      <th>50%</th>\n",
              "      <td>0.000000</td>\n",
              "      <td>3.000000</td>\n",
              "      <td>248.000000</td>\n",
              "      <td>2.000000</td>\n",
              "    </tr>\n",
              "    <tr>\n",
              "      <th>75%</th>\n",
              "      <td>1.000000</td>\n",
              "      <td>5.000000</td>\n",
              "      <td>936.000000</td>\n",
              "      <td>3.000000</td>\n",
              "    </tr>\n",
              "    <tr>\n",
              "      <th>90%</th>\n",
              "      <td>1.000000</td>\n",
              "      <td>7.000000</td>\n",
              "      <td>1380.000000</td>\n",
              "      <td>5.000000</td>\n",
              "    </tr>\n",
              "    <tr>\n",
              "      <th>95%</th>\n",
              "      <td>1.000000</td>\n",
              "      <td>10.000000</td>\n",
              "      <td>1562.000000</td>\n",
              "      <td>6.000000</td>\n",
              "    </tr>\n",
              "    <tr>\n",
              "      <th>99%</th>\n",
              "      <td>1.000000</td>\n",
              "      <td>17.000000</td>\n",
              "      <td>1840.610000</td>\n",
              "      <td>9.000000</td>\n",
              "    </tr>\n",
              "    <tr>\n",
              "      <th>max</th>\n",
              "      <td>1.000000</td>\n",
              "      <td>251.000000</td>\n",
              "      <td>2272.000000</td>\n",
              "      <td>55.000000</td>\n",
              "    </tr>\n",
              "  </tbody>\n",
              "</table>\n",
              "</div>\n",
              "      <button class=\"colab-df-convert\" onclick=\"convertToInteractive('df-a7cbe06b-5208-4896-bf54-8f1df0c9ba96')\"\n",
              "              title=\"Convert this dataframe to an interactive table.\"\n",
              "              style=\"display:none;\">\n",
              "        \n",
              "  <svg xmlns=\"http://www.w3.org/2000/svg\" height=\"24px\"viewBox=\"0 0 24 24\"\n",
              "       width=\"24px\">\n",
              "    <path d=\"M0 0h24v24H0V0z\" fill=\"none\"/>\n",
              "    <path d=\"M18.56 5.44l.94 2.06.94-2.06 2.06-.94-2.06-.94-.94-2.06-.94 2.06-2.06.94zm-11 1L8.5 8.5l.94-2.06 2.06-.94-2.06-.94L8.5 2.5l-.94 2.06-2.06.94zm10 10l.94 2.06.94-2.06 2.06-.94-2.06-.94-.94-2.06-.94 2.06-2.06.94z\"/><path d=\"M17.41 7.96l-1.37-1.37c-.4-.4-.92-.59-1.43-.59-.52 0-1.04.2-1.43.59L10.3 9.45l-7.72 7.72c-.78.78-.78 2.05 0 2.83L4 21.41c.39.39.9.59 1.41.59.51 0 1.02-.2 1.41-.59l7.78-7.78 2.81-2.81c.8-.78.8-2.07 0-2.86zM5.41 20L4 18.59l7.72-7.72 1.47 1.35L5.41 20z\"/>\n",
              "  </svg>\n",
              "      </button>\n",
              "      \n",
              "  <style>\n",
              "    .colab-df-container {\n",
              "      display:flex;\n",
              "      flex-wrap:wrap;\n",
              "      gap: 12px;\n",
              "    }\n",
              "\n",
              "    .colab-df-convert {\n",
              "      background-color: #E8F0FE;\n",
              "      border: none;\n",
              "      border-radius: 50%;\n",
              "      cursor: pointer;\n",
              "      display: none;\n",
              "      fill: #1967D2;\n",
              "      height: 32px;\n",
              "      padding: 0 0 0 0;\n",
              "      width: 32px;\n",
              "    }\n",
              "\n",
              "    .colab-df-convert:hover {\n",
              "      background-color: #E2EBFA;\n",
              "      box-shadow: 0px 1px 2px rgba(60, 64, 67, 0.3), 0px 1px 3px 1px rgba(60, 64, 67, 0.15);\n",
              "      fill: #174EA6;\n",
              "    }\n",
              "\n",
              "    [theme=dark] .colab-df-convert {\n",
              "      background-color: #3B4455;\n",
              "      fill: #D2E3FC;\n",
              "    }\n",
              "\n",
              "    [theme=dark] .colab-df-convert:hover {\n",
              "      background-color: #434B5C;\n",
              "      box-shadow: 0px 1px 3px 1px rgba(0, 0, 0, 0.15);\n",
              "      filter: drop-shadow(0px 1px 2px rgba(0, 0, 0, 0.3));\n",
              "      fill: #FFFFFF;\n",
              "    }\n",
              "  </style>\n",
              "\n",
              "      <script>\n",
              "        const buttonEl =\n",
              "          document.querySelector('#df-a7cbe06b-5208-4896-bf54-8f1df0c9ba96 button.colab-df-convert');\n",
              "        buttonEl.style.display =\n",
              "          google.colab.kernel.accessAllowed ? 'block' : 'none';\n",
              "\n",
              "        async function convertToInteractive(key) {\n",
              "          const element = document.querySelector('#df-a7cbe06b-5208-4896-bf54-8f1df0c9ba96');\n",
              "          const dataTable =\n",
              "            await google.colab.kernel.invokeFunction('convertToInteractive',\n",
              "                                                     [key], {});\n",
              "          if (!dataTable) return;\n",
              "\n",
              "          const docLinkHtml = 'Like what you see? Visit the ' +\n",
              "            '<a target=\"_blank\" href=https://colab.research.google.com/notebooks/data_table.ipynb>data table notebook</a>'\n",
              "            + ' to learn more about interactive tables.';\n",
              "          element.innerHTML = '';\n",
              "          dataTable['output_type'] = 'display_data';\n",
              "          await google.colab.output.renderOutput(dataTable, element);\n",
              "          const docLink = document.createElement('div');\n",
              "          docLink.innerHTML = docLinkHtml;\n",
              "          element.appendChild(docLink);\n",
              "        }\n",
              "      </script>\n",
              "    </div>\n",
              "  </div>\n",
              "  "
            ]
          },
          "metadata": {},
          "execution_count": 85
        }
      ],
      "source": [
        "# OUTLIERS - 25%,50%,75%,90%,95% and above\n",
        "new_lead1.describe(percentiles=[.25,.5,.75,.90,.95,.99])"
      ]
    },
    {
      "cell_type": "markdown",
      "metadata": {
        "id": "nanjJFVId9eg"
      },
      "source": [
        "From the above, it can be seen that outlier exists in the columns TotalVisits and Page Views Per Visit columns."
      ]
    },
    {
      "cell_type": "code",
      "execution_count": 86,
      "metadata": {
        "id": "3l4Cm1Vpd9eg",
        "outputId": "939fb01a-2e87-47ad-aee9-4b1eca98c8de",
        "colab": {
          "base_uri": "https://localhost:8080/",
          "height": 330
        }
      },
      "outputs": [
        {
          "output_type": "display_data",
          "data": {
            "text/plain": [
              "<Figure size 1440x1800 with 3 Axes>"
            ],
            "image/png": "[encoded data removed]"
          },
          "metadata": {
            "needs_background": "light"
          }
        }
      ],
      "source": [
        "# OUTLIERS IN NUMERIC COLUMN\n",
        "\n",
        "plt.figure(figsize=(20, 25))\n",
        "plt.subplot(4,3,1)\n",
        "sns.boxplot(y = 'TotalVisits', palette='Set2', data = new_lead1)\n",
        "plt.subplot(4,3,2)\n",
        "sns.boxplot(y = 'Total Time Spent on Website', palette='Set2', data = new_lead1)\n",
        "plt.subplot(4,3,3)\n",
        "sns.boxplot(y = 'Page Views Per Visit', palette='Set2', data = new_lead1)\n",
        "plt.show()"
      ]
    },
    {
      "cell_type": "code",
      "execution_count": 87,
      "metadata": {
        "id": "pDlu8_HYd9eh",
        "outputId": "9a145cfa-0473-464d-a97f-4c464c3f35d9",
        "colab": {
          "base_uri": "https://localhost:8080/"
        }
      },
      "outputs": [
        {
          "output_type": "execute_result",
          "data": {
            "text/plain": [
              "count    9141.000000\n",
              "mean        3.179740\n",
              "std         2.913631\n",
              "min         0.000000\n",
              "25%         1.000000\n",
              "50%         3.000000\n",
              "75%         5.000000\n",
              "90%         7.000000\n",
              "95%         9.000000\n",
              "99%        13.000000\n",
              "max        16.000000\n",
              "Name: TotalVisits, dtype: float64"
            ]
          },
          "metadata": {},
          "execution_count": 87
        }
      ],
      "source": [
        "# REMOVING VALUES MORE THAN .99\n",
        "\n",
        "nn_quartile_total_visits = new_lead1['TotalVisits'].quantile(0.99)\n",
        "new_lead1 = new_lead1[new_lead1[\"TotalVisits\"] < nn_quartile_total_visits]\n",
        "new_lead1[\"TotalVisits\"].describe(percentiles=[.25,.5,.75,.90,.95,.99])"
      ]
    },
    {
      "cell_type": "code",
      "execution_count": 88,
      "metadata": {
        "id": "JLorMNPtd9eh",
        "outputId": "0f177058-1e19-4be0-f1e3-2258065ef398",
        "colab": {
          "base_uri": "https://localhost:8080/",
          "height": 394
        }
      },
      "outputs": [
        {
          "output_type": "execute_result",
          "data": {
            "text/plain": [
              "         Converted  TotalVisits  Total Time Spent on Website  \\\n",
              "count  9141.000000  9141.000000                  9141.000000   \n",
              "mean      0.385406     3.179740                   486.074609   \n",
              "std       0.486718     2.913631                   547.856302   \n",
              "min       0.000000     0.000000                     0.000000   \n",
              "25%       0.000000     1.000000                    10.000000   \n",
              "50%       0.000000     3.000000                   247.000000   \n",
              "75%       1.000000     5.000000                   933.000000   \n",
              "90%       1.000000     7.000000                  1379.000000   \n",
              "95%       1.000000     9.000000                  1561.000000   \n",
              "99%       1.000000    13.000000                  1839.600000   \n",
              "max       1.000000    16.000000                  2272.000000   \n",
              "\n",
              "       Page Views Per Visit  \n",
              "count           9141.000000  \n",
              "mean               2.329506  \n",
              "std                2.046673  \n",
              "min                0.000000  \n",
              "25%                1.000000  \n",
              "50%                2.000000  \n",
              "75%                3.000000  \n",
              "90%                5.000000  \n",
              "95%                6.000000  \n",
              "99%                9.000000  \n",
              "max               16.000000  "
            ],
            "text/html": [
              "\n",
              "  <div id=\"df-bed6f01e-0d30-4588-a3b1-aa51e0d6c0f1\">\n",
              "    <div class=\"colab-df-container\">\n",
              "      <div>\n",
              "<style scoped>\n",
              "    .dataframe tbody tr th:only-of-type {\n",
              "        vertical-align: middle;\n",
              "    }\n",
              "\n",
              "    .dataframe tbody tr th {\n",
              "        vertical-align: top;\n",
              "    }\n",
              "\n",
              "    .dataframe thead th {\n",
              "        text-align: right;\n",
              "    }\n",
              "</style>\n",
              "<table border=\"1\" class=\"dataframe\">\n",
              "  <thead>\n",
              "    <tr style=\"text-align: right;\">\n",
              "      <th></th>\n",
              "      <th>Converted</th>\n",
              "      <th>TotalVisits</th>\n",
              "      <th>Total Time Spent on Website</th>\n",
              "      <th>Page Views Per Visit</th>\n",
              "    </tr>\n",
              "  </thead>\n",
              "  <tbody>\n",
              "    <tr>\n",
              "      <th>count</th>\n",
              "      <td>9141.000000</td>\n",
              "      <td>9141.000000</td>\n",
              "      <td>9141.000000</td>\n",
              "      <td>9141.000000</td>\n",
              "    </tr>\n",
              "    <tr>\n",
              "      <th>mean</th>\n",
              "      <td>0.385406</td>\n",
              "      <td>3.179740</td>\n",
              "      <td>486.074609</td>\n",
              "      <td>2.329506</td>\n",
              "    </tr>\n",
              "    <tr>\n",
              "      <th>std</th>\n",
              "      <td>0.486718</td>\n",
              "      <td>2.913631</td>\n",
              "      <td>547.856302</td>\n",
              "      <td>2.046673</td>\n",
              "    </tr>\n",
              "    <tr>\n",
              "      <th>min</th>\n",
              "      <td>0.000000</td>\n",
              "      <td>0.000000</td>\n",
              "      <td>0.000000</td>\n",
              "      <td>0.000000</td>\n",
              "    </tr>\n",
              "    <tr>\n",
              "      <th>25%</th>\n",
              "      <td>0.000000</td>\n",
              "      <td>1.000000</td>\n",
              "      <td>10.000000</td>\n",
              "      <td>1.000000</td>\n",
              "    </tr>\n",
              "    <tr>\n",
              "      <th>50%</th>\n",
              "      <td>0.000000</td>\n",
              "      <td>3.000000</td>\n",
              "      <td>247.000000</td>\n",
              "      <td>2.000000</td>\n",
              "    </tr>\n",
              "    <tr>\n",
              "      <th>75%</th>\n",
              "      <td>1.000000</td>\n",
              "      <td>5.000000</td>\n",
              "      <td>933.000000</td>\n",
              "      <td>3.000000</td>\n",
              "    </tr>\n",
              "    <tr>\n",
              "      <th>90%</th>\n",
              "      <td>1.000000</td>\n",
              "      <td>7.000000</td>\n",
              "      <td>1379.000000</td>\n",
              "      <td>5.000000</td>\n",
              "    </tr>\n",
              "    <tr>\n",
              "      <th>95%</th>\n",
              "      <td>1.000000</td>\n",
              "      <td>9.000000</td>\n",
              "      <td>1561.000000</td>\n",
              "      <td>6.000000</td>\n",
              "    </tr>\n",
              "    <tr>\n",
              "      <th>99%</th>\n",
              "      <td>1.000000</td>\n",
              "      <td>13.000000</td>\n",
              "      <td>1839.600000</td>\n",
              "      <td>9.000000</td>\n",
              "    </tr>\n",
              "    <tr>\n",
              "      <th>max</th>\n",
              "      <td>1.000000</td>\n",
              "      <td>16.000000</td>\n",
              "      <td>2272.000000</td>\n",
              "      <td>16.000000</td>\n",
              "    </tr>\n",
              "  </tbody>\n",
              "</table>\n",
              "</div>\n",
              "      <button class=\"colab-df-convert\" onclick=\"convertToInteractive('df-bed6f01e-0d30-4588-a3b1-aa51e0d6c0f1')\"\n",
              "              title=\"Convert this dataframe to an interactive table.\"\n",
              "              style=\"display:none;\">\n",
              "        \n",
              "  <svg xmlns=\"http://www.w3.org/2000/svg\" height=\"24px\"viewBox=\"0 0 24 24\"\n",
              "       width=\"24px\">\n",
              "    <path d=\"M0 0h24v24H0V0z\" fill=\"none\"/>\n",
              "    <path d=\"M18.56 5.44l.94 2.06.94-2.06 2.06-.94-2.06-.94-.94-2.06-.94 2.06-2.06.94zm-11 1L8.5 8.5l.94-2.06 2.06-.94-2.06-.94L8.5 2.5l-.94 2.06-2.06.94zm10 10l.94 2.06.94-2.06 2.06-.94-2.06-.94-.94-2.06-.94 2.06-2.06.94z\"/><path d=\"M17.41 7.96l-1.37-1.37c-.4-.4-.92-.59-1.43-.59-.52 0-1.04.2-1.43.59L10.3 9.45l-7.72 7.72c-.78.78-.78 2.05 0 2.83L4 21.41c.39.39.9.59 1.41.59.51 0 1.02-.2 1.41-.59l7.78-7.78 2.81-2.81c.8-.78.8-2.07 0-2.86zM5.41 20L4 18.59l7.72-7.72 1.47 1.35L5.41 20z\"/>\n",
              "  </svg>\n",
              "      </button>\n",
              "      \n",
              "  <style>\n",
              "    .colab-df-container {\n",
              "      display:flex;\n",
              "      flex-wrap:wrap;\n",
              "      gap: 12px;\n",
              "    }\n",
              "\n",
              "    .colab-df-convert {\n",
              "      background-color: #E8F0FE;\n",
              "      border: none;\n",
              "      border-radius: 50%;\n",
              "      cursor: pointer;\n",
              "      display: none;\n",
              "      fill: #1967D2;\n",
              "      height: 32px;\n",
              "      padding: 0 0 0 0;\n",
              "      width: 32px;\n",
              "    }\n",
              "\n",
              "    .colab-df-convert:hover {\n",
              "      background-color: #E2EBFA;\n",
              "      box-shadow: 0px 1px 2px rgba(60, 64, 67, 0.3), 0px 1px 3px 1px rgba(60, 64, 67, 0.15);\n",
              "      fill: #174EA6;\n",
              "    }\n",
              "\n",
              "    [theme=dark] .colab-df-convert {\n",
              "      background-color: #3B4455;\n",
              "      fill: #D2E3FC;\n",
              "    }\n",
              "\n",
              "    [theme=dark] .colab-df-convert:hover {\n",
              "      background-color: #434B5C;\n",
              "      box-shadow: 0px 1px 3px 1px rgba(0, 0, 0, 0.15);\n",
              "      filter: drop-shadow(0px 1px 2px rgba(0, 0, 0, 0.3));\n",
              "      fill: #FFFFFF;\n",
              "    }\n",
              "  </style>\n",
              "\n",
              "      <script>\n",
              "        const buttonEl =\n",
              "          document.querySelector('#df-bed6f01e-0d30-4588-a3b1-aa51e0d6c0f1 button.colab-df-convert');\n",
              "        buttonEl.style.display =\n",
              "          google.colab.kernel.accessAllowed ? 'block' : 'none';\n",
              "\n",
              "        async function convertToInteractive(key) {\n",
              "          const element = document.querySelector('#df-bed6f01e-0d30-4588-a3b1-aa51e0d6c0f1');\n",
              "          const dataTable =\n",
              "            await google.colab.kernel.invokeFunction('convertToInteractive',\n",
              "                                                     [key], {});\n",
              "          if (!dataTable) return;\n",
              "\n",
              "          const docLinkHtml = 'Like what you see? Visit the ' +\n",
              "            '<a target=\"_blank\" href=https://colab.research.google.com/notebooks/data_table.ipynb>data table notebook</a>'\n",
              "            + ' to learn more about interactive tables.';\n",
              "          element.innerHTML = '';\n",
              "          dataTable['output_type'] = 'display_data';\n",
              "          await google.colab.output.renderOutput(dataTable, element);\n",
              "          const docLink = document.createElement('div');\n",
              "          docLink.innerHTML = docLinkHtml;\n",
              "          element.appendChild(docLink);\n",
              "        }\n",
              "      </script>\n",
              "    </div>\n",
              "  </div>\n",
              "  "
            ]
          },
          "metadata": {},
          "execution_count": 88
        }
      ],
      "source": [
        "# OUTLIERS - 25%,50%,75%,90%,95% and above\n",
        "\n",
        "new_lead1.describe(percentiles=[.25,.5,.75,.90,.95,.99])"
      ]
    },
    {
      "cell_type": "code",
      "execution_count": 89,
      "metadata": {
        "id": "usfbkUFpd9eh",
        "outputId": "985db9d2-0abe-4fcc-b00b-4175e5fad80b",
        "colab": {
          "base_uri": "https://localhost:8080/"
        }
      },
      "outputs": [
        {
          "output_type": "execute_result",
          "data": {
            "text/plain": [
              "count    9029.000000\n",
              "mean        2.226383\n",
              "std         1.823395\n",
              "min         0.000000\n",
              "25%         1.000000\n",
              "50%         2.000000\n",
              "75%         3.000000\n",
              "90%         5.000000\n",
              "95%         6.000000\n",
              "99%         7.000000\n",
              "max         8.000000\n",
              "Name: Page Views Per Visit, dtype: float64"
            ]
          },
          "metadata": {},
          "execution_count": 89
        }
      ],
      "source": [
        "# 'Page Views Per Visit' VALUES MORE THAN .99 REMOVED\n",
        "\n",
        "nn_quartile_page_visits = new_lead1['Page Views Per Visit'].quantile(0.99)\n",
        "new_lead1 = new_lead1[new_lead1[\"Page Views Per Visit\"] < nn_quartile_page_visits]\n",
        "new_lead1[\"Page Views Per Visit\"].describe(percentiles=[.25,.5,.75,.90,.95,.99])"
      ]
    },
    {
      "cell_type": "code",
      "execution_count": 90,
      "metadata": {
        "id": "NyRAC1WAd9eh",
        "outputId": "96d44f00-f5b1-4e95-dc21-c3fab3c83f5e",
        "colab": {
          "base_uri": "https://localhost:8080/",
          "height": 394
        }
      },
      "outputs": [
        {
          "output_type": "execute_result",
          "data": {
            "text/plain": [
              "         Converted  TotalVisits  Total Time Spent on Website  \\\n",
              "count  9029.000000  9029.000000                  9029.000000   \n",
              "mean      0.385092     3.087164                   483.133016   \n",
              "std       0.486644     2.801244                   547.420675   \n",
              "min       0.000000     0.000000                     0.000000   \n",
              "25%       0.000000     1.000000                     7.000000   \n",
              "50%       0.000000     3.000000                   245.000000   \n",
              "75%       1.000000     4.000000                   929.000000   \n",
              "90%       1.000000     7.000000                  1378.000000   \n",
              "95%       1.000000     8.000000                  1558.000000   \n",
              "99%       1.000000    13.000000                  1839.720000   \n",
              "max       1.000000    16.000000                  2272.000000   \n",
              "\n",
              "       Page Views Per Visit  \n",
              "count           9029.000000  \n",
              "mean               2.226383  \n",
              "std                1.823395  \n",
              "min                0.000000  \n",
              "25%                1.000000  \n",
              "50%                2.000000  \n",
              "75%                3.000000  \n",
              "90%                5.000000  \n",
              "95%                6.000000  \n",
              "99%                7.000000  \n",
              "max                8.000000  "
            ],
            "text/html": [
              "\n",
              "  <div id=\"df-d170f855-12e8-41b6-9e2b-1ef31d37b320\">\n",
              "    <div class=\"colab-df-container\">\n",
              "      <div>\n",
              "<style scoped>\n",
              "    .dataframe tbody tr th:only-of-type {\n",
              "        vertical-align: middle;\n",
              "    }\n",
              "\n",
              "    .dataframe tbody tr th {\n",
              "        vertical-align: top;\n",
              "    }\n",
              "\n",
              "    .dataframe thead th {\n",
              "        text-align: right;\n",
              "    }\n",
              "</style>\n",
              "<table border=\"1\" class=\"dataframe\">\n",
              "  <thead>\n",
              "    <tr style=\"text-align: right;\">\n",
              "      <th></th>\n",
              "      <th>Converted</th>\n",
              "      <th>TotalVisits</th>\n",
              "      <th>Total Time Spent on Website</th>\n",
              "      <th>Page Views Per Visit</th>\n",
              "    </tr>\n",
              "  </thead>\n",
              "  <tbody>\n",
              "    <tr>\n",
              "      <th>count</th>\n",
              "      <td>9029.000000</td>\n",
              "      <td>9029.000000</td>\n",
              "      <td>9029.000000</td>\n",
              "      <td>9029.000000</td>\n",
              "    </tr>\n",
              "    <tr>\n",
              "      <th>mean</th>\n",
              "      <td>0.385092</td>\n",
              "      <td>3.087164</td>\n",
              "      <td>483.133016</td>\n",
              "      <td>2.226383</td>\n",
              "    </tr>\n",
              "    <tr>\n",
              "      <th>std</th>\n",
              "      <td>0.486644</td>\n",
              "      <td>2.801244</td>\n",
              "      <td>547.420675</td>\n",
              "      <td>1.823395</td>\n",
              "    </tr>\n",
              "    <tr>\n",
              "      <th>min</th>\n",
              "      <td>0.000000</td>\n",
              "      <td>0.000000</td>\n",
              "      <td>0.000000</td>\n",
              "      <td>0.000000</td>\n",
              "    </tr>\n",
              "    <tr>\n",
              "      <th>25%</th>\n",
              "      <td>0.000000</td>\n",
              "      <td>1.000000</td>\n",
              "      <td>7.000000</td>\n",
              "      <td>1.000000</td>\n",
              "    </tr>\n",
              "    <tr>\n",
              "      <th>50%</th>\n",
              "      <td>0.000000</td>\n",
              "      <td>3.000000</td>\n",
              "      <td>245.000000</td>\n",
              "      <td>2.000000</td>\n",
              "    </tr>\n",
              "    <tr>\n",
              "      <th>75%</th>\n",
              "      <td>1.000000</td>\n",
              "      <td>4.000000</td>\n",
              "      <td>929.000000</td>\n",
              "      <td>3.000000</td>\n",
              "    </tr>\n",
              "    <tr>\n",
              "      <th>90%</th>\n",
              "      <td>1.000000</td>\n",
              "      <td>7.000000</td>\n",
              "      <td>1378.000000</td>\n",
              "      <td>5.000000</td>\n",
              "    </tr>\n",
              "    <tr>\n",
              "      <th>95%</th>\n",
              "      <td>1.000000</td>\n",
              "      <td>8.000000</td>\n",
              "      <td>1558.000000</td>\n",
              "      <td>6.000000</td>\n",
              "    </tr>\n",
              "    <tr>\n",
              "      <th>99%</th>\n",
              "      <td>1.000000</td>\n",
              "      <td>13.000000</td>\n",
              "      <td>1839.720000</td>\n",
              "      <td>7.000000</td>\n",
              "    </tr>\n",
              "    <tr>\n",
              "      <th>max</th>\n",
              "      <td>1.000000</td>\n",
              "      <td>16.000000</td>\n",
              "      <td>2272.000000</td>\n",
              "      <td>8.000000</td>\n",
              "    </tr>\n",
              "  </tbody>\n",
              "</table>\n",
              "</div>\n",
              "      <button class=\"colab-df-convert\" onclick=\"convertToInteractive('df-d170f855-12e8-41b6-9e2b-1ef31d37b320')\"\n",
              "              title=\"Convert this dataframe to an interactive table.\"\n",
              "              style=\"display:none;\">\n",
              "        \n",
              "  <svg xmlns=\"http://www.w3.org/2000/svg\" height=\"24px\"viewBox=\"0 0 24 24\"\n",
              "       width=\"24px\">\n",
              "    <path d=\"M0 0h24v24H0V0z\" fill=\"none\"/>\n",
              "    <path d=\"M18.56 5.44l.94 2.06.94-2.06 2.06-.94-2.06-.94-.94-2.06-.94 2.06-2.06.94zm-11 1L8.5 8.5l.94-2.06 2.06-.94-2.06-.94L8.5 2.5l-.94 2.06-2.06.94zm10 10l.94 2.06.94-2.06 2.06-.94-2.06-.94-.94-2.06-.94 2.06-2.06.94z\"/><path d=\"M17.41 7.96l-1.37-1.37c-.4-.4-.92-.59-1.43-.59-.52 0-1.04.2-1.43.59L10.3 9.45l-7.72 7.72c-.78.78-.78 2.05 0 2.83L4 21.41c.39.39.9.59 1.41.59.51 0 1.02-.2 1.41-.59l7.78-7.78 2.81-2.81c.8-.78.8-2.07 0-2.86zM5.41 20L4 18.59l7.72-7.72 1.47 1.35L5.41 20z\"/>\n",
              "  </svg>\n",
              "      </button>\n",
              "      \n",
              "  <style>\n",
              "    .colab-df-container {\n",
              "      display:flex;\n",
              "      flex-wrap:wrap;\n",
              "      gap: 12px;\n",
              "    }\n",
              "\n",
              "    .colab-df-convert {\n",
              "      background-color: #E8F0FE;\n",
              "      border: none;\n",
              "      border-radius: 50%;\n",
              "      cursor: pointer;\n",
              "      display: none;\n",
              "      fill: #1967D2;\n",
              "      height: 32px;\n",
              "      padding: 0 0 0 0;\n",
              "      width: 32px;\n",
              "    }\n",
              "\n",
              "    .colab-df-convert:hover {\n",
              "      background-color: #E2EBFA;\n",
              "      box-shadow: 0px 1px 2px rgba(60, 64, 67, 0.3), 0px 1px 3px 1px rgba(60, 64, 67, 0.15);\n",
              "      fill: #174EA6;\n",
              "    }\n",
              "\n",
              "    [theme=dark] .colab-df-convert {\n",
              "      background-color: #3B4455;\n",
              "      fill: #D2E3FC;\n",
              "    }\n",
              "\n",
              "    [theme=dark] .colab-df-convert:hover {\n",
              "      background-color: #434B5C;\n",
              "      box-shadow: 0px 1px 3px 1px rgba(0, 0, 0, 0.15);\n",
              "      filter: drop-shadow(0px 1px 2px rgba(0, 0, 0, 0.3));\n",
              "      fill: #FFFFFF;\n",
              "    }\n",
              "  </style>\n",
              "\n",
              "      <script>\n",
              "        const buttonEl =\n",
              "          document.querySelector('#df-d170f855-12e8-41b6-9e2b-1ef31d37b320 button.colab-df-convert');\n",
              "        buttonEl.style.display =\n",
              "          google.colab.kernel.accessAllowed ? 'block' : 'none';\n",
              "\n",
              "        async function convertToInteractive(key) {\n",
              "          const element = document.querySelector('#df-d170f855-12e8-41b6-9e2b-1ef31d37b320');\n",
              "          const dataTable =\n",
              "            await google.colab.kernel.invokeFunction('convertToInteractive',\n",
              "                                                     [key], {});\n",
              "          if (!dataTable) return;\n",
              "\n",
              "          const docLinkHtml = 'Like what you see? Visit the ' +\n",
              "            '<a target=\"_blank\" href=https://colab.research.google.com/notebooks/data_table.ipynb>data table notebook</a>'\n",
              "            + ' to learn more about interactive tables.';\n",
              "          element.innerHTML = '';\n",
              "          dataTable['output_type'] = 'display_data';\n",
              "          await google.colab.output.renderOutput(dataTable, element);\n",
              "          const docLink = document.createElement('div');\n",
              "          docLink.innerHTML = docLinkHtml;\n",
              "          element.appendChild(docLink);\n",
              "        }\n",
              "      </script>\n",
              "    </div>\n",
              "  </div>\n",
              "  "
            ]
          },
          "metadata": {},
          "execution_count": 90
        }
      ],
      "source": [
        "# OUTLIER - 25%,50%,75%,90%,95% and above\n",
        "new_lead1.describe(percentiles=[.25,.5,.75,.90,.95,.99])"
      ]
    },
    {
      "cell_type": "markdown",
      "metadata": {
        "id": "OotZFrj4d9ei"
      },
      "source": [
        "At this point, the data has been cleaned and around 98% of data has been retained"
      ]
    },
    {
      "cell_type": "markdown",
      "metadata": {
        "id": "p8cCg2gHd9ei"
      },
      "source": [
        "### Step 3: Data Analysis\n",
        "Let us try and understand the data now based on each columns effect on the conversion rates"
      ]
    },
    {
      "cell_type": "code",
      "execution_count": 91,
      "metadata": {
        "id": "hVZqB0yPd9ej",
        "outputId": "ace5026c-cc2b-4cc0-cd84-5eb2849c6bd9",
        "colab": {
          "base_uri": "https://localhost:8080/",
          "height": 389
        }
      },
      "outputs": [
        {
          "output_type": "display_data",
          "data": {
            "text/plain": [
              "<Figure size 144x360 with 1 Axes>"
            ],
            "image/png": "[encoded data removed]"
          },
          "metadata": {
            "needs_background": "light"
          }
        }
      ],
      "source": [
        "# CONVERTED COLUMN\n",
        "\n",
        "plot = sns.catplot(x=\"Converted\", kind=\"count\", data=new_lead1, palette=\"Set2\", aspect= 0.4);\n",
        "\n",
        "plt.title('Converted', fontsize = 14)\n",
        "plt.xlabel(\"Converted\", fontsize = 12)\n",
        "plt.ylabel(\"Count\", fontsize = 12)\n",
        "\n",
        "# COUNT\n",
        "\n",
        "ax = plot.facet_axis(0,0)\n",
        "for p in ax.patches:        \n",
        "    ax.text(p.get_x() + p.get_width()/2., p.get_height(), p.get_height(), fontsize=12, color='blue', ha='center', va='bottom')\n",
        "    \n",
        "plt.show()"
      ]
    },
    {
      "cell_type": "markdown",
      "metadata": {
        "id": "DFMehW1zd9ej"
      },
      "source": [
        "From the above graph, there has been a overall conversion rate of around 39%"
      ]
    },
    {
      "cell_type": "code",
      "execution_count": 92,
      "metadata": {
        "id": "hz_ZgwNQd9ej",
        "outputId": "de5c1459-f703-44de-cedf-52c7b7d79912",
        "colab": {
          "base_uri": "https://localhost:8080/",
          "height": 389
        }
      },
      "outputs": [
        {
          "output_type": "display_data",
          "data": {
            "text/plain": [
              "<Figure size 671.75x360 with 1 Axes>"
            ],
            "image/png": "[encoded data removed]"
          },
          "metadata": {
            "needs_background": "light"
          }
        }
      ],
      "source": [
        "# LEAD ORIGIN VS CONVERTED\n",
        "\n",
        "plot = sns.catplot(x=\"Lead Origin\", hue = \"Converted\", kind=\"count\", data=new_lead1, palette=\"Set2\", aspect= 1.7);\n",
        "\n",
        "plt.title('Lead Origin Vs Converted', fontsize = 14)\n",
        "plt.xlabel(\"Lead Origin\", fontsize = 12)\n",
        "plt.ylabel(\"Count\", fontsize = 12)\n",
        "\n",
        "ax = plot.facet_axis(0,0)\n",
        "for p in ax.patches:\n",
        "    \n",
        "    if np.isnan(p.get_height()):\n",
        "        height = 0\n",
        "    else:\n",
        "        height = p.get_height()\n",
        "    \n",
        "    height = int(height)\n",
        "    ax.text(p.get_x()+p.get_width()/2., height, height, fontsize=12, color='blue', ha='center', va='bottom')\n",
        "    \n",
        "plt.show()"
      ]
    },
    {
      "cell_type": "markdown",
      "metadata": {
        "id": "oRPYeGihd9ek"
      },
      "source": [
        "From the above graph, it can be seen that the maximum conversion happened from Landing Page Submission\n",
        "Also there was only one request from quick add form which got converted."
      ]
    },
    {
      "cell_type": "code",
      "execution_count": 93,
      "metadata": {
        "id": "88BVmjoXd9ek",
        "outputId": "338f9464-2bb8-440f-e8fd-1246e193be4f",
        "colab": {
          "base_uri": "https://localhost:8080/",
          "height": 474
        }
      },
      "outputs": [
        {
          "output_type": "display_data",
          "data": {
            "text/plain": [
              "<Figure size 1319.75x360 with 1 Axes>"
            ],
            "image/png": "[encoded data removed]"
          },
          "metadata": {
            "needs_background": "light"
          }
        }
      ],
      "source": [
        "# Lead Source VS Converted\n",
        "\n",
        "plot = sns.catplot(x=\"Lead Source\", hue = \"Converted\", kind=\"count\", data=new_lead1, palette=\"Set2\", aspect = 3.5);\n",
        "\n",
        "plt.title('Lead Source Vs Converted', fontsize = 14)\n",
        "plt.xlabel(\"Lead Source\", fontsize = 12)\n",
        "plt.ylabel(\"Count\", fontsize = 12)\n",
        "plt.xticks(rotation=90)\n",
        "\n",
        "ax = plot.facet_axis(0,0)\n",
        "for p in ax.patches:\n",
        "    \n",
        "    if np.isnan(p.get_height()):\n",
        "        height = 0\n",
        "    else:\n",
        "        height = p.get_height()\n",
        "    \n",
        "    height = int(height)\n",
        "    ax.text(p.get_x()+p.get_width()/2., height, height, fontsize=12, color='blue', ha='center', va='bottom')\n",
        "   \n",
        "plt.show()"
      ]
    },
    {
      "cell_type": "markdown",
      "metadata": {
        "id": "SHQ88wHed9ek"
      },
      "source": [
        "From the above graph, it can be seen that major conversion in the lead source is from google"
      ]
    },
    {
      "cell_type": "code",
      "execution_count": 94,
      "metadata": {
        "id": "BXxDqDZCd9el",
        "outputId": "e1054e7f-fa89-4929-9ec0-4ec2ab8b0e29",
        "colab": {
          "base_uri": "https://localhost:8080/",
          "height": 389
        }
      },
      "outputs": [
        {
          "output_type": "display_data",
          "data": {
            "text/plain": [
              "<Figure size 275.75x360 with 1 Axes>"
            ],
            "image/png": "[encoded data removed]"
          },
          "metadata": {
            "needs_background": "light"
          }
        }
      ],
      "source": [
        "# Do not Email VS Converted\n",
        "\n",
        "plot = sns.catplot(x=\"Do Not Email\", hue = \"Converted\", kind=\"count\", data=new_lead1, palette=\"Set2\", aspect = 0.6);\n",
        "\n",
        "plt.title('Do Not Email Vs Converted', fontsize = 14)\n",
        "plt.xlabel(\"Do Not Email\", fontsize = 12)\n",
        "plt.ylabel(\"Count\", fontsize = 12)\n",
        "\n",
        "ax = plot.facet_axis(0,0)\n",
        "for p in ax.patches:        \n",
        "    ax.text(p.get_x() + p.get_width()/2., p.get_height(), p.get_height(), fontsize=12, color='blue', ha='center', va='bottom')\n",
        "\n",
        "plt.show()"
      ]
    },
    {
      "cell_type": "markdown",
      "metadata": {
        "id": "bIags7Fod9el"
      },
      "source": [
        "Based on the above graph, major conversion has happend from the emails that have been sent"
      ]
    },
    {
      "cell_type": "code",
      "source": [
        "# Do not Call VS Converted\n",
        "\n",
        "plot = sns.catplot(x=\"Do Not Call\", hue = \"Converted\", kind=\"count\", data=new_lead1, palette=\"Set2\", aspect = 0.6);\n",
        "\n",
        "plt.title('Do Not Call Vs Converted', fontsize = 14)\n",
        "plt.xlabel(\"Do Not Call\", fontsize = 12)\n",
        "plt.ylabel(\"Count\", fontsize = 12)\n",
        "\n",
        "\n",
        "ax = plot.facet_axis(0,0)\n",
        "for p in ax.patches:\n",
        "    \n",
        "    if np.isnan(p.get_height()):\n",
        "        height = 0\n",
        "    else:\n",
        "        height = p.get_height()\n",
        "    \n",
        "    height = int(height)\n",
        "    ax.text(p.get_x()+p.get_width()/2., height, height, fontsize=12, color='blue', ha='center', va='bottom')\n",
        "\n",
        "plt.show()"
      ],
      "metadata": {
        "colab": {
          "base_uri": "https://localhost:8080/",
          "height": 389
        },
        "id": "GvlxVjjohkwb",
        "outputId": "acecaad1-3bd8-4479-e08a-04279a04b3a5"
      },
      "execution_count": 95,
      "outputs": [
        {
          "output_type": "display_data",
          "data": {
            "text/plain": [
              "<Figure size 275.75x360 with 1 Axes>"
            ],
            "image/png": "[encoded data removed]"
          },
          "metadata": {
            "needs_background": "light"
          }
        }
      ]
    },
    {
      "cell_type": "markdown",
      "metadata": {
        "id": "bLPzdK_bd9em"
      },
      "source": [
        "From the above graph , it can be noticed that major conversions happened when calls were made.\n",
        "However, it can also be seen that 2 leads opted for \"Do Not Call\", but they still got converted."
      ]
    },
    {
      "cell_type": "code",
      "execution_count": 96,
      "metadata": {
        "id": "ZAem_ey_d9em",
        "outputId": "05f65229-a3e7-4771-c5f5-a8c9ca2a3691",
        "colab": {
          "base_uri": "https://localhost:8080/",
          "height": 518
        }
      },
      "outputs": [
        {
          "output_type": "display_data",
          "data": {
            "text/plain": [
              "<Figure size 1139.75x360 with 1 Axes>"
            ],
            "image/png": "[encoded data removed]"
          },
          "metadata": {
            "needs_background": "light"
          }
        }
      ],
      "source": [
        "# Last Activity VS Converted\n",
        "\n",
        "plot = sns.catplot(x=\"Last Activity\", hue = \"Converted\", kind=\"count\", data=new_lead1, palette=\"Set2\", aspect = 3.0);\n",
        "\n",
        "plt.title('Last Activity Vs Converted', fontsize = 14)\n",
        "plt.xlabel(\"Last Activity\", fontsize = 12)\n",
        "plt.ylabel(\"Count\", fontsize = 12)\n",
        "plt.xticks(rotation=90)\n",
        "ax = plot.facet_axis(0,0)\n",
        "for p in ax.patches:\n",
        "    \n",
        "    if np.isnan(p.get_height()):\n",
        "        height = 0\n",
        "    else:\n",
        "        height = p.get_height()\n",
        "    \n",
        "    height = int(height)\n",
        "    ax.text(p.get_x()+p.get_width()/2., height, height, fontsize=12, color='blue', ha='center', va='bottom')\n",
        "\n",
        "plt.show()"
      ]
    },
    {
      "cell_type": "markdown",
      "metadata": {
        "id": "fSn7bIRFd9em"
      },
      "source": [
        "As per the above graph, last activity value of 'SMS Sent' had more conversion"
      ]
    },
    {
      "cell_type": "code",
      "execution_count": 97,
      "metadata": {
        "id": "Osz2RfM2d9em",
        "outputId": "e29fbea9-c766-4566-bdbb-a311e3536004",
        "colab": {
          "base_uri": "https://localhost:8080/",
          "height": 389
        }
      },
      "outputs": [
        {
          "output_type": "display_data",
          "data": {
            "text/plain": [
              "<Figure size 779.75x360 with 1 Axes>"
            ],
            "image/png": "[encoded data removed]"
          },
          "metadata": {
            "needs_background": "light"
          }
        }
      ],
      "source": [
        "# What is your current occupation VS Converted\n",
        "\n",
        "plot = sns.catplot(x=\"What is your current occupation\", hue = \"Converted\", kind=\"count\", data=new_lead1, palette=\"Set2\", \n",
        "                   aspect = 2.0);\n",
        "\n",
        "plt.title('Current Occupation Vs Converted', fontsize = 14)\n",
        "plt.xlabel(\"Current Occupation\", fontsize = 12)\n",
        "plt.ylabel(\"Count\", fontsize = 12)\n",
        "\n",
        "ax = plot.facet_axis(0,0)\n",
        "for p in ax.patches:\n",
        "    \n",
        "    if np.isnan(p.get_height()):\n",
        "        height = 0\n",
        "    else:\n",
        "        height = p.get_height()\n",
        "    \n",
        "    height = int(height)\n",
        "    ax.text(p.get_x()+p.get_width()/2., height, height, fontsize=12, color='blue', ha='center', va='bottom')\n",
        "\n",
        "plt.show()"
      ]
    },
    {
      "cell_type": "markdown",
      "metadata": {
        "id": "IjaMEQygd9en"
      },
      "source": [
        "More conversion happend with people who are unemployed. It can also be noticed from the above data that \n",
        "    - Out of 7 business men, 4 got converted\n",
        "    - Out 10 housewives, all 10 leads got converted."
      ]
    },
    {
      "cell_type": "code",
      "execution_count": 98,
      "metadata": {
        "id": "JeD96t1rd9en",
        "outputId": "9bba203b-c23e-4b85-d55a-b19684cdc76e",
        "colab": {
          "base_uri": "https://localhost:8080/",
          "height": 389
        }
      },
      "outputs": [
        {
          "output_type": "display_data",
          "data": {
            "text/plain": [
              "<Figure size 311.75x360 with 1 Axes>"
            ],
            "image/png": "[encoded data removed]"
          },
          "metadata": {
            "needs_background": "light"
          }
        }
      ],
      "source": [
        "# Search VS Converted\n",
        "\n",
        "plot = sns.catplot(x=\"Search\", hue = \"Converted\", kind=\"count\", data=new_lead1, palette=\"Set2\", aspect = 0.7);\n",
        "\n",
        "plt.title('Search Vs Converted', fontsize = 14)\n",
        "plt.xlabel(\"Search\", fontsize = 12)\n",
        "plt.ylabel(\"Count\", fontsize = 12)\n",
        "\n",
        "ax = plot.facet_axis(0,0)\n",
        "for p in ax.patches:        \n",
        "    ax.text(p.get_x() + p.get_width()/2., p.get_height(), p.get_height(), fontsize=12, color='blue', ha='center', va='bottom')\n",
        "\n",
        "plt.show()"
      ]
    },
    {
      "cell_type": "markdown",
      "metadata": {
        "id": "BuvrtIZgd9en"
      },
      "source": [
        "Conversion rate is high on leads who are not through search"
      ]
    },
    {
      "cell_type": "code",
      "execution_count": 99,
      "metadata": {
        "id": "FB9bNo6Qd9eo",
        "outputId": "97ee07bf-6f6a-4c01-8735-b768fca04a5f",
        "colab": {
          "base_uri": "https://localhost:8080/",
          "height": 389
        }
      },
      "outputs": [
        {
          "output_type": "display_data",
          "data": {
            "text/plain": [
              "<Figure size 239.75x360 with 1 Axes>"
            ],
            "image/png": "[encoded data removed]"
          },
          "metadata": {
            "needs_background": "light"
          }
        }
      ],
      "source": [
        "# Newspaper Article VS Converted\n",
        "\n",
        "plot = sns.catplot(x=\"Newspaper Article\", hue = \"Converted\", kind=\"count\", data=new_lead1, palette=\"Set2\", aspect = 0.5);\n",
        "\n",
        "plt.title('Newspaper Article Vs Converted', fontsize = 14)\n",
        "plt.xlabel(\"Newspaper Article\", fontsize = 12)\n",
        "plt.ylabel(\"Count\", fontsize = 12)\n",
        "\n",
        "ax = plot.facet_axis(0,0)\n",
        "for p in ax.patches:        \n",
        "    ax.text(p.get_x() + p.get_width()/2., p.get_height(), p.get_height(), fontsize=12, color='blue', ha='center', va='bottom')\n",
        "\n",
        "plt.show()"
      ]
    },
    {
      "cell_type": "markdown",
      "metadata": {
        "id": "PvjfVav1d9eo"
      },
      "source": [
        "Since \"Newspaper Article\" column now has only one value for all rows - \"No\" , it is safe to drop this column"
      ]
    },
    {
      "cell_type": "code",
      "execution_count": 100,
      "metadata": {
        "id": "Js7IcinKd9eo"
      },
      "outputs": [],
      "source": [
        "# Dropping Newspaper Article\n",
        "\n",
        "new_lead1 = new_lead1.drop(['Newspaper Article'], axis=1)"
      ]
    },
    {
      "cell_type": "code",
      "execution_count": 101,
      "metadata": {
        "id": "rozsJPcVd9eo",
        "outputId": "efed604c-7c78-4798-d90d-4bc5dafa68d1",
        "colab": {
          "base_uri": "https://localhost:8080/",
          "height": 389
        }
      },
      "outputs": [
        {
          "output_type": "display_data",
          "data": {
            "text/plain": [
              "<Figure size 239.75x360 with 1 Axes>"
            ],
            "image/png": "[encoded data removed]"
          },
          "metadata": {
            "needs_background": "light"
          }
        }
      ],
      "source": [
        "# X Education Forums VS Converted\n",
        "\n",
        "plot = sns.catplot(x=\"X Education Forums\", hue = \"Converted\", kind=\"count\", data=new_lead1, palette=\"Set2\", aspect = 0.5);\n",
        "\n",
        "plt.title('X Education Forums Vs Converted', fontsize = 14)\n",
        "plt.xlabel(\"X Education Forums\", fontsize = 12)\n",
        "plt.ylabel(\"Count\", fontsize = 12)\n",
        "\n",
        "ax = plot.facet_axis(0,0)\n",
        "for p in ax.patches:        \n",
        "    ax.text(p.get_x() + p.get_width()/2., p.get_height(), p.get_height(), fontsize=12, color='blue', ha='center', va='bottom')\n",
        "\n",
        "plt.show()"
      ]
    },
    {
      "cell_type": "markdown",
      "metadata": {
        "id": "L1gKCD1Qd9eo"
      },
      "source": [
        "Since \"X Education Forums\" column now has only one value for all rows - \"No\" , it is safe to drop this column"
      ]
    },
    {
      "cell_type": "code",
      "execution_count": 102,
      "metadata": {
        "id": "NLqr-6PId9ep"
      },
      "outputs": [],
      "source": [
        "# Dropping X Education Forum column\n",
        "\n",
        "new_lead1 = new_lead1.drop(['X Education Forums'], axis=1)"
      ]
    },
    {
      "cell_type": "code",
      "execution_count": 103,
      "metadata": {
        "id": "01R2nfZyd9ep",
        "outputId": "e860f080-6c23-4c18-ffa3-c4aeed3faf06",
        "colab": {
          "base_uri": "https://localhost:8080/",
          "height": 389
        }
      },
      "outputs": [
        {
          "output_type": "display_data",
          "data": {
            "text/plain": [
              "<Figure size 311.75x360 with 1 Axes>"
            ],
            "image/png": "[encoded data removed]"
          },
          "metadata": {
            "needs_background": "light"
          }
        }
      ],
      "source": [
        "# Newspaper VS Converted\n",
        "plot = sns.catplot(x=\"Newspaper\", hue = \"Converted\", kind=\"count\", data=new_lead1, palette=\"Set2\", aspect = 0.7);\n",
        "\n",
        "plt.title('Newspaper Vs Converted', fontsize = 14)\n",
        "plt.xlabel(\"Newspaper\", fontsize = 12)\n",
        "plt.ylabel(\"Count\", fontsize = 12)\n",
        "\n",
        "ax = plot.facet_axis(0,0)\n",
        "for p in ax.patches:\n",
        "    \n",
        "    if np.isnan(p.get_height()):\n",
        "        height = 0\n",
        "    else:\n",
        "        height = p.get_height()\n",
        "    \n",
        "    height = int(height)\n",
        "    ax.text(p.get_x()+p.get_width()/2., height, height, fontsize=12, color='blue', ha='center', va='bottom')\n",
        "\n",
        "plt.show()"
      ]
    },
    {
      "cell_type": "markdown",
      "metadata": {
        "id": "kNnMHtT1d9ep"
      },
      "source": [
        "Since Newspaper column has only one row with \"Yes\" as the value and further since this lead did not get converted and rest of all the values are \"No\", we can safely drop the column"
      ]
    },
    {
      "cell_type": "code",
      "execution_count": 104,
      "metadata": {
        "id": "uhX6NjYpd9ep"
      },
      "outputs": [],
      "source": [
        "# Dropping Newspaper column\n",
        "\n",
        "new_lead1 = new_lead1.drop(['Newspaper'], axis=1)"
      ]
    },
    {
      "cell_type": "code",
      "execution_count": 105,
      "metadata": {
        "id": "BGTsvvF4d9ep",
        "outputId": "a3426841-fcdf-4956-ea98-d54c13ea1a9f",
        "colab": {
          "base_uri": "https://localhost:8080/",
          "height": 389
        }
      },
      "outputs": [
        {
          "output_type": "display_data",
          "data": {
            "text/plain": [
              "<Figure size 311.75x360 with 1 Axes>"
            ],
            "image/png": "[encoded data removed]"
          },
          "metadata": {
            "needs_background": "light"
          }
        }
      ],
      "source": [
        "# Digital Advertisement VS Converted\n",
        "\n",
        "plot = sns.catplot(x=\"Digital Advertisement\", hue = \"Converted\", kind=\"count\", data=new_lead1, palette=\"Set2\", aspect = 0.7);\n",
        "\n",
        "plt.title('Digital Advertisement Vs Converted', fontsize = 14)\n",
        "plt.xlabel(\"Digital Advertisement\", fontsize = 12)\n",
        "plt.ylabel(\"Count\", fontsize = 12)\n",
        "\n",
        "ax = plot.facet_axis(0,0)\n",
        "for p in ax.patches:        \n",
        "    ax.text(p.get_x() + p.get_width()/2., p.get_height(), p.get_height(), fontsize=12, color='blue', ha='center', va='bottom')\n",
        "\n",
        "plt.show()"
      ]
    },
    {
      "cell_type": "markdown",
      "metadata": {
        "id": "OR1cuQezd9eq"
      },
      "source": [
        "It can be noticed above that there were 2 leads that came from digital advertisement of which one lead got converted"
      ]
    },
    {
      "cell_type": "code",
      "execution_count": 106,
      "metadata": {
        "id": "q6M1MDRFd9eq",
        "outputId": "78c358b2-5462-42b3-e6e9-d47f37692e14",
        "colab": {
          "base_uri": "https://localhost:8080/",
          "height": 389
        }
      },
      "outputs": [
        {
          "output_type": "display_data",
          "data": {
            "text/plain": [
              "<Figure size 311.75x360 with 1 Axes>"
            ],
            "image/png": "[encoded data removed]"
          },
          "metadata": {
            "needs_background": "light"
          }
        }
      ],
      "source": [
        "# Through Recommendations VS Converted\n",
        "\n",
        "plot = sns.catplot(x=\"Through Recommendations\", hue = \"Converted\", kind=\"count\", data=new_lead1, palette=\"Set2\", aspect = 0.7);\n",
        "\n",
        "plt.title('Through Recommendations Vs Converted', fontsize = 14)\n",
        "plt.xlabel(\"Through Recommendations\", fontsize = 12)\n",
        "plt.ylabel(\"Count\", fontsize = 12)\n",
        "\n",
        "ax = plot.facet_axis(0,0)\n",
        "for p in ax.patches:        \n",
        "    ax.text(p.get_x() + p.get_width()/2., p.get_height(), p.get_height(), fontsize=12, color='blue', ha='center', va='bottom')\n",
        "\n",
        "plt.show()"
      ]
    },
    {
      "cell_type": "markdown",
      "metadata": {
        "id": "Z3b8_sQad9eq"
      },
      "source": [
        "It can be seen that a total of 6 leads came through recommendations of which 5 leads got converted"
      ]
    },
    {
      "cell_type": "code",
      "execution_count": 107,
      "metadata": {
        "id": "Xd5nkXA_d9eq",
        "outputId": "39b51a1c-ebf0-4397-f20e-0f2d691f4f3e",
        "colab": {
          "base_uri": "https://localhost:8080/",
          "height": 389
        }
      },
      "outputs": [
        {
          "output_type": "display_data",
          "data": {
            "text/plain": [
              "<Figure size 311.75x360 with 1 Axes>"
            ],
            "image/png": "[encoded data removed]"
          },
          "metadata": {
            "needs_background": "light"
          }
        }
      ],
      "source": [
        "# A free copy of Mastering The Interview\n",
        "\n",
        "plot = sns.catplot(x=\"A free copy of Mastering The Interview\", hue = \"Converted\", kind=\"count\", data=new_lead1, palette=\"Set2\",\n",
        "                   aspect = 0.7);\n",
        "\n",
        "plt.title('Mastering Interview Copy Vs Converted', fontsize = 14)\n",
        "plt.xlabel(\"Mastering Interview Copy\", fontsize = 12)\n",
        "plt.ylabel(\"Count\", fontsize = 12)\n",
        "\n",
        "ax = plot.facet_axis(0,0)\n",
        "for p in ax.patches:        \n",
        "    ax.text(p.get_x() + p.get_width()/2., p.get_height(), p.get_height(), fontsize=12, color='blue', ha='center', va='bottom')\n",
        "\n",
        "plt.show()"
      ]
    },
    {
      "cell_type": "markdown",
      "metadata": {
        "id": "FupX_YTqd9er"
      },
      "source": [
        "Conversion rate is high on leads who do not want a free copy of Mastering Interviews"
      ]
    },
    {
      "cell_type": "code",
      "execution_count": 108,
      "metadata": {
        "id": "9297cbQAd9er",
        "outputId": "c834ab6e-f514-4f45-d6ac-cb503b7ee183",
        "colab": {
          "base_uri": "https://localhost:8080/",
          "height": 518
        }
      },
      "outputs": [
        {
          "output_type": "display_data",
          "data": {
            "text/plain": [
              "<Figure size 1139.75x360 with 1 Axes>"
            ],
            "image/png": "[encoded data removed]"
          },
          "metadata": {
            "needs_background": "light"
          }
        }
      ],
      "source": [
        "# Last Notable Activity VS Converted\n",
        "\n",
        "plot = sns.catplot(x=\"Last Notable Activity\", hue = \"Converted\", kind=\"count\", data=new_lead1, palette=\"Set2\", aspect = 3.0);\n",
        "\n",
        "plt.title('Last Notable Activity Vs Converted', fontsize = 14)\n",
        "plt.xlabel(\"Last Notable Activity\", fontsize = 12)\n",
        "plt.ylabel(\"Count\", fontsize = 12)\n",
        "plt.xticks(rotation=90)\n",
        "\n",
        "ax = plot.facet_axis(0,0)\n",
        "for p in ax.patches:\n",
        "    \n",
        "    if np.isnan(p.get_height()):\n",
        "        height = 0\n",
        "    else:\n",
        "        height = p.get_height()\n",
        "    \n",
        "    height = int(height)\n",
        "    ax.text(p.get_x()+p.get_width()/2., height, height, fontsize=12, color='blue', ha='center', va='bottom')\n",
        "\n",
        "plt.show()"
      ]
    },
    {
      "cell_type": "markdown",
      "metadata": {
        "id": "6N0wna6Fd9er"
      },
      "source": [
        "It can be noticed that the conversion rate is high for \"SMS Sent\""
      ]
    },
    {
      "cell_type": "code",
      "execution_count": 109,
      "metadata": {
        "id": "KxH7DHpFd9er",
        "outputId": "b525e6ec-0438-4d8e-917a-a870a169f285",
        "colab": {
          "base_uri": "https://localhost:8080/",
          "height": 300
        }
      },
      "outputs": [
        {
          "output_type": "display_data",
          "data": {
            "text/plain": [
              "<Figure size 1440x1440 with 3 Axes>"
            ],
            "image/png": "[encoded data removed]"
          },
          "metadata": {
            "needs_background": "light"
          }
        }
      ],
      "source": [
        "# COMPARING NUMERICAL VARIABLE VALUES\n",
        "\n",
        "plt.figure(figsize=(20,20))\n",
        "plt.subplot(4,3,1)\n",
        "sns.barplot(y = 'TotalVisits', x='Converted', palette='Set2', data = new_lead1)\n",
        "plt.subplot(4,3,2)\n",
        "sns.barplot(y = 'Total Time Spent on Website', x='Converted', palette='Set2', data = new_lead1)\n",
        "plt.subplot(4,3,3)\n",
        "sns.barplot(y = 'Page Views Per Visit', x='Converted', palette='Set2', data = new_lead1)\n",
        "plt.show()"
      ]
    },
    {
      "cell_type": "markdown",
      "metadata": {
        "id": "ORpn6gvKd9er"
      },
      "source": [
        "The conversion rated were high for Total Visits, Total Time Spent on Website and Page Views Per Visit"
      ]
    },
    {
      "cell_type": "markdown",
      "metadata": {
        "id": "fU3-J8YZd9es"
      },
      "source": [
        "## Step 4: Data Preparation - Creating Dummies"
      ]
    },
    {
      "cell_type": "markdown",
      "metadata": {
        "id": "0r_7hrM1d9es"
      },
      "source": [
        "Converting some binary variables (Yes/No) to 0/1"
      ]
    },
    {
      "cell_type": "code",
      "execution_count": 110,
      "metadata": {
        "id": "krPxtJeOd9es"
      },
      "outputs": [],
      "source": [
        "variablelist =  variablelist =  ['Do Not Email', 'Do Not Call', 'Search', 'Digital Advertisement', 'Through Recommendations', \n",
        "                                 'A free copy of Mastering The Interview']\n",
        "\n",
        "# FUNCTION TO CONVERT YES AND NO TO 0 AND 1\n",
        "def binary_map(x):\n",
        "    return x.map({'Yes': 1, \"No\": 0})\n",
        "\n",
        "# Applying the function to the columns\n",
        "new_lead1[variablelist] = new_lead1[variablelist].apply(binary_map)"
      ]
    },
    {
      "cell_type": "code",
      "source": [
        "# print(new_lead1['Lead Source'].value_counts())\n",
        "# d_lead_source"
      ],
      "metadata": {
        "id": "UhAf9PN8uO6X"
      },
      "execution_count": 111,
      "outputs": []
    },
    {
      "cell_type": "code",
      "execution_count": 112,
      "metadata": {
        "id": "rXtwKCgZd9es",
        "outputId": "ef3679cc-71f0-459d-e888-d91469cdebe8",
        "colab": {
          "base_uri": "https://localhost:8080/",
          "height": 508
        }
      },
      "outputs": [
        {
          "output_type": "execute_result",
          "data": {
            "text/plain": [
              "               Lead Origin     Lead Source  Do Not Email  Do Not Call  \\\n",
              "0                      API      Olark Chat             0            0   \n",
              "1                      API  Organic Search             0            0   \n",
              "2  Landing Page Submission  Direct Traffic             0            0   \n",
              "3  Landing Page Submission  Direct Traffic             0            0   \n",
              "4  Landing Page Submission          Google             0            0   \n",
              "\n",
              "   Converted  TotalVisits  Total Time Spent on Website  Page Views Per Visit  \\\n",
              "0          0          0.0                            0                   0.0   \n",
              "1          0          5.0                          674                   2.5   \n",
              "2          1          2.0                         1532                   2.0   \n",
              "3          0          1.0                          305                   1.0   \n",
              "4          1          2.0                         1428                   1.0   \n",
              "\n",
              "             Last Activity What is your current occupation  ...  \\\n",
              "0  Page Visited on Website                      Unemployed  ...   \n",
              "1             Email Opened                      Unemployed  ...   \n",
              "2             Email Opened                         Student  ...   \n",
              "3              Unreachable                      Unemployed  ...   \n",
              "4        Converted to Lead                      Unemployed  ...   \n",
              "\n",
              "   LastNotableActivity_Email Received  \\\n",
              "0                                   0   \n",
              "1                                   0   \n",
              "2                                   0   \n",
              "3                                   0   \n",
              "4                                   0   \n",
              "\n",
              "   LastNotableActivity_Form Submitted on Website  \\\n",
              "0                                              0   \n",
              "1                                              0   \n",
              "2                                              0   \n",
              "3                                              0   \n",
              "4                                              0   \n",
              "\n",
              "   LastNotableActivity_Had a Phone Conversation  LastNotableActivity_Modified  \\\n",
              "0                                             0                             1   \n",
              "1                                             0                             0   \n",
              "2                                             0                             0   \n",
              "3                                             0                             1   \n",
              "4                                             0                             1   \n",
              "\n",
              "  LastNotableActivity_Olark Chat Conversation  \\\n",
              "0                                           0   \n",
              "1                                           0   \n",
              "2                                           0   \n",
              "3                                           0   \n",
              "4                                           0   \n",
              "\n",
              "   LastNotableActivity_Page Visited on Website  LastNotableActivity_SMS Sent  \\\n",
              "0                                            0                             0   \n",
              "1                                            0                             0   \n",
              "2                                            0                             0   \n",
              "3                                            0                             0   \n",
              "4                                            0                             0   \n",
              "\n",
              "   LastNotableActivity_Unreachable  LastNotableActivity_Unsubscribed  \\\n",
              "0                                0                                 0   \n",
              "1                                0                                 0   \n",
              "2                                0                                 0   \n",
              "3                                0                                 0   \n",
              "4                                0                                 0   \n",
              "\n",
              "   LastNotableActivity_View in browser link Clicked  \n",
              "0                                                 0  \n",
              "1                                                 0  \n",
              "2                                                 0  \n",
              "3                                                 0  \n",
              "4                                                 0  \n",
              "\n",
              "[5 rows x 76 columns]"
            ],
            "text/html": [
              "\n",
              "  <div id=\"df-aa89a51e-3c2d-4331-9fee-8576f5aba2fd\">\n",
              "    <div class=\"colab-df-container\">\n",
              "      <div>\n",
              "<style scoped>\n",
              "    .dataframe tbody tr th:only-of-type {\n",
              "        vertical-align: middle;\n",
              "    }\n",
              "\n",
              "    .dataframe tbody tr th {\n",
              "        vertical-align: top;\n",
              "    }\n",
              "\n",
              "    .dataframe thead th {\n",
              "        text-align: right;\n",
              "    }\n",
              "</style>\n",
              "<table border=\"1\" class=\"dataframe\">\n",
              "  <thead>\n",
              "    <tr style=\"text-align: right;\">\n",
              "      <th></th>\n",
              "      <th>Lead Origin</th>\n",
              "      <th>Lead Source</th>\n",
              "      <th>Do Not Email</th>\n",
              "      <th>Do Not Call</th>\n",
              "      <th>Converted</th>\n",
              "      <th>TotalVisits</th>\n",
              "      <th>Total Time Spent on Website</th>\n",
              "      <th>Page Views Per Visit</th>\n",
              "      <th>Last Activity</th>\n",
              "      <th>What is your current occupation</th>\n",
              "      <th>...</th>\n",
              "      <th>LastNotableActivity_Email Received</th>\n",
              "      <th>LastNotableActivity_Form Submitted on Website</th>\n",
              "      <th>LastNotableActivity_Had a Phone Conversation</th>\n",
              "      <th>LastNotableActivity_Modified</th>\n",
              "      <th>LastNotableActivity_Olark Chat Conversation</th>\n",
              "      <th>LastNotableActivity_Page Visited on Website</th>\n",
              "      <th>LastNotableActivity_SMS Sent</th>\n",
              "      <th>LastNotableActivity_Unreachable</th>\n",
              "      <th>LastNotableActivity_Unsubscribed</th>\n",
              "      <th>LastNotableActivity_View in browser link Clicked</th>\n",
              "    </tr>\n",
              "  </thead>\n",
              "  <tbody>\n",
              "    <tr>\n",
              "      <th>0</th>\n",
              "      <td>API</td>\n",
              "      <td>Olark Chat</td>\n",
              "      <td>0</td>\n",
              "      <td>0</td>\n",
              "      <td>0</td>\n",
              "      <td>0.0</td>\n",
              "      <td>0</td>\n",
              "      <td>0.0</td>\n",
              "      <td>Page Visited on Website</td>\n",
              "      <td>Unemployed</td>\n",
              "      <td>...</td>\n",
              "      <td>0</td>\n",
              "      <td>0</td>\n",
              "      <td>0</td>\n",
              "      <td>1</td>\n",
              "      <td>0</td>\n",
              "      <td>0</td>\n",
              "      <td>0</td>\n",
              "      <td>0</td>\n",
              "      <td>0</td>\n",
              "      <td>0</td>\n",
              "    </tr>\n",
              "    <tr>\n",
              "      <th>1</th>\n",
              "      <td>API</td>\n",
              "      <td>Organic Search</td>\n",
              "      <td>0</td>\n",
              "      <td>0</td>\n",
              "      <td>0</td>\n",
              "      <td>5.0</td>\n",
              "      <td>674</td>\n",
              "      <td>2.5</td>\n",
              "      <td>Email Opened</td>\n",
              "      <td>Unemployed</td>\n",
              "      <td>...</td>\n",
              "      <td>0</td>\n",
              "      <td>0</td>\n",
              "      <td>0</td>\n",
              "      <td>0</td>\n",
              "      <td>0</td>\n",
              "      <td>0</td>\n",
              "      <td>0</td>\n",
              "      <td>0</td>\n",
              "      <td>0</td>\n",
              "      <td>0</td>\n",
              "    </tr>\n",
              "    <tr>\n",
              "      <th>2</th>\n",
              "      <td>Landing Page Submission</td>\n",
              "      <td>Direct Traffic</td>\n",
              "      <td>0</td>\n",
              "      <td>0</td>\n",
              "      <td>1</td>\n",
              "      <td>2.0</td>\n",
              "      <td>1532</td>\n",
              "      <td>2.0</td>\n",
              "      <td>Email Opened</td>\n",
              "      <td>Student</td>\n",
              "      <td>...</td>\n",
              "      <td>0</td>\n",
              "      <td>0</td>\n",
              "      <td>0</td>\n",
              "      <td>0</td>\n",
              "      <td>0</td>\n",
              "      <td>0</td>\n",
              "      <td>0</td>\n",
              "      <td>0</td>\n",
              "      <td>0</td>\n",
              "      <td>0</td>\n",
              "    </tr>\n",
              "    <tr>\n",
              "      <th>3</th>\n",
              "      <td>Landing Page Submission</td>\n",
              "      <td>Direct Traffic</td>\n",
              "      <td>0</td>\n",
              "      <td>0</td>\n",
              "      <td>0</td>\n",
              "      <td>1.0</td>\n",
              "      <td>305</td>\n",
              "      <td>1.0</td>\n",
              "      <td>Unreachable</td>\n",
              "      <td>Unemployed</td>\n",
              "      <td>...</td>\n",
              "      <td>0</td>\n",
              "      <td>0</td>\n",
              "      <td>0</td>\n",
              "      <td>1</td>\n",
              "      <td>0</td>\n",
              "      <td>0</td>\n",
              "      <td>0</td>\n",
              "      <td>0</td>\n",
              "      <td>0</td>\n",
              "      <td>0</td>\n",
              "    </tr>\n",
              "    <tr>\n",
              "      <th>4</th>\n",
              "      <td>Landing Page Submission</td>\n",
              "      <td>Google</td>\n",
              "      <td>0</td>\n",
              "      <td>0</td>\n",
              "      <td>1</td>\n",
              "      <td>2.0</td>\n",
              "      <td>1428</td>\n",
              "      <td>1.0</td>\n",
              "      <td>Converted to Lead</td>\n",
              "      <td>Unemployed</td>\n",
              "      <td>...</td>\n",
              "      <td>0</td>\n",
              "      <td>0</td>\n",
              "      <td>0</td>\n",
              "      <td>1</td>\n",
              "      <td>0</td>\n",
              "      <td>0</td>\n",
              "      <td>0</td>\n",
              "      <td>0</td>\n",
              "      <td>0</td>\n",
              "      <td>0</td>\n",
              "    </tr>\n",
              "  </tbody>\n",
              "</table>\n",
              "<p>5 rows × 76 columns</p>\n",
              "</div>\n",
              "      <button class=\"colab-df-convert\" onclick=\"convertToInteractive('df-aa89a51e-3c2d-4331-9fee-8576f5aba2fd')\"\n",
              "              title=\"Convert this dataframe to an interactive table.\"\n",
              "              style=\"display:none;\">\n",
              "        \n",
              "  <svg xmlns=\"http://www.w3.org/2000/svg\" height=\"24px\"viewBox=\"0 0 24 24\"\n",
              "       width=\"24px\">\n",
              "    <path d=\"M0 0h24v24H0V0z\" fill=\"none\"/>\n",
              "    <path d=\"M18.56 5.44l.94 2.06.94-2.06 2.06-.94-2.06-.94-.94-2.06-.94 2.06-2.06.94zm-11 1L8.5 8.5l.94-2.06 2.06-.94-2.06-.94L8.5 2.5l-.94 2.06-2.06.94zm10 10l.94 2.06.94-2.06 2.06-.94-2.06-.94-.94-2.06-.94 2.06-2.06.94z\"/><path d=\"M17.41 7.96l-1.37-1.37c-.4-.4-.92-.59-1.43-.59-.52 0-1.04.2-1.43.59L10.3 9.45l-7.72 7.72c-.78.78-.78 2.05 0 2.83L4 21.41c.39.39.9.59 1.41.59.51 0 1.02-.2 1.41-.59l7.78-7.78 2.81-2.81c.8-.78.8-2.07 0-2.86zM5.41 20L4 18.59l7.72-7.72 1.47 1.35L5.41 20z\"/>\n",
              "  </svg>\n",
              "      </button>\n",
              "      \n",
              "  <style>\n",
              "    .colab-df-container {\n",
              "      display:flex;\n",
              "      flex-wrap:wrap;\n",
              "      gap: 12px;\n",
              "    }\n",
              "\n",
              "    .colab-df-convert {\n",
              "      background-color: #E8F0FE;\n",
              "      border: none;\n",
              "      border-radius: 50%;\n",
              "      cursor: pointer;\n",
              "      display: none;\n",
              "      fill: #1967D2;\n",
              "      height: 32px;\n",
              "      padding: 0 0 0 0;\n",
              "      width: 32px;\n",
              "    }\n",
              "\n",
              "    .colab-df-convert:hover {\n",
              "      background-color: #E2EBFA;\n",
              "      box-shadow: 0px 1px 2px rgba(60, 64, 67, 0.3), 0px 1px 3px 1px rgba(60, 64, 67, 0.15);\n",
              "      fill: #174EA6;\n",
              "    }\n",
              "\n",
              "    [theme=dark] .colab-df-convert {\n",
              "      background-color: #3B4455;\n",
              "      fill: #D2E3FC;\n",
              "    }\n",
              "\n",
              "    [theme=dark] .colab-df-convert:hover {\n",
              "      background-color: #434B5C;\n",
              "      box-shadow: 0px 1px 3px 1px rgba(0, 0, 0, 0.15);\n",
              "      filter: drop-shadow(0px 1px 2px rgba(0, 0, 0, 0.3));\n",
              "      fill: #FFFFFF;\n",
              "    }\n",
              "  </style>\n",
              "\n",
              "      <script>\n",
              "        const buttonEl =\n",
              "          document.querySelector('#df-aa89a51e-3c2d-4331-9fee-8576f5aba2fd button.colab-df-convert');\n",
              "        buttonEl.style.display =\n",
              "          google.colab.kernel.accessAllowed ? 'block' : 'none';\n",
              "\n",
              "        async function convertToInteractive(key) {\n",
              "          const element = document.querySelector('#df-aa89a51e-3c2d-4331-9fee-8576f5aba2fd');\n",
              "          const dataTable =\n",
              "            await google.colab.kernel.invokeFunction('convertToInteractive',\n",
              "                                                     [key], {});\n",
              "          if (!dataTable) return;\n",
              "\n",
              "          const docLinkHtml = 'Like what you see? Visit the ' +\n",
              "            '<a target=\"_blank\" href=https://colab.research.google.com/notebooks/data_table.ipynb>data table notebook</a>'\n",
              "            + ' to learn more about interactive tables.';\n",
              "          element.innerHTML = '';\n",
              "          dataTable['output_type'] = 'display_data';\n",
              "          await google.colab.output.renderOutput(dataTable, element);\n",
              "          const docLink = document.createElement('div');\n",
              "          docLink.innerHTML = docLinkHtml;\n",
              "          element.appendChild(docLink);\n",
              "        }\n",
              "      </script>\n",
              "    </div>\n",
              "  </div>\n",
              "  "
            ]
          },
          "metadata": {},
          "execution_count": 112
        }
      ],
      "source": [
        "# DUMMY CREATION-------\n",
        "# Lead Origin : \n",
        "\n",
        "d_lead_origin = pd.get_dummies(new_lead1['Lead Origin'], prefix='LeadOrigin')\n",
        "d_lead_origin1 = d_lead_origin.drop(['LeadOrigin_Quick Add Form'], 1)\n",
        "#Adding the results to the master dataframe\n",
        "new_lead1 = pd.concat([new_lead1, d_lead_origin1], axis = 1)\n",
        "\n",
        "# Lead Source :\n",
        "\n",
        "d_lead_source = pd.get_dummies(new_lead1['Lead Source'], prefix='LeadSource')\n",
        "d_lead_source1 = d_lead_source.drop(['LeadSource_youtubechannel'], 1)\n",
        "# Adding the results to the master dataframe\n",
        "new_lead1 = pd.concat([new_lead1,d_lead_source1], axis=1)\n",
        "\n",
        "# last Activity\n",
        "\n",
        "d_last_activity = pd.get_dummies(new_lead1['Last Activity'], prefix='LastActivity')\n",
        "d_last_activity1 = d_last_activity.drop(['LastActivity_Resubscribed to emails'], 1)\n",
        "# Adding the results to the master dataframe\n",
        "new_lead1 = pd.concat([new_lead1,d_last_activity1], axis=1)\n",
        "\n",
        "# What is your current occupation\n",
        "\n",
        "d_curr_occupation = pd.get_dummies(new_lead1['What is your current occupation'], prefix='CurrentOccupation')\n",
        "d_curr_occupation1 = d_curr_occupation.drop(['CurrentOccupation_Businessman'], 1)\n",
        "# Adding the results to the master dataframe\n",
        "new_lead1 = pd.concat([new_lead1,d_curr_occupation1], axis=1)\n",
        "\n",
        "# Last Notable Activity\n",
        "\n",
        "d_last_notable_activity = pd.get_dummies(new_lead1['Last Notable Activity'], prefix='LastNotableActivity')\n",
        "d_last_notable_activity1 = d_last_notable_activity.drop(['LastNotableActivity_Resubscribed to emails'], 1)\n",
        "# Adding the results to the master dataframe\n",
        "new_lead1 = pd.concat([new_lead1,d_last_notable_activity1], axis=1)\n",
        "\n",
        "new_lead1.head()"
      ]
    },
    {
      "cell_type": "code",
      "execution_count": 113,
      "metadata": {
        "id": "Vp9zcIGld9es"
      },
      "outputs": [],
      "source": [
        "# Remove following columns from the new_lead1  -  Lead Origin,Lead Source,Last Activity,What is your current occupatio,Last Notable Activity\n",
        "\n",
        "new_lead1 = new_lead1.drop([ 'Lead Origin', 'Lead Source', 'Last Activity',\n",
        "                          'What is your current occupation', 'Last Notable Activity'], axis=1)\n"
      ]
    },
    {
      "cell_type": "code",
      "execution_count": 114,
      "metadata": {
        "scrolled": true,
        "id": "e79ZNugtd9et",
        "outputId": "26a29e42-d596-44e1-f9c3-37704b890a3e",
        "colab": {
          "base_uri": "https://localhost:8080/"
        }
      },
      "outputs": [
        {
          "output_type": "stream",
          "name": "stdout",
          "text": [
            "<class 'pandas.core.frame.DataFrame'>\n",
            "Int64Index: 9029 entries, 0 to 9239\n",
            "Data columns (total 71 columns):\n",
            " #   Column                                            Non-Null Count  Dtype  \n",
            "---  ------                                            --------------  -----  \n",
            " 0   Do Not Email                                      9029 non-null   int64  \n",
            " 1   Do Not Call                                       9029 non-null   int64  \n",
            " 2   Converted                                         9029 non-null   int64  \n",
            " 3   TotalVisits                                       9029 non-null   float64\n",
            " 4   Total Time Spent on Website                       9029 non-null   int64  \n",
            " 5   Page Views Per Visit                              9029 non-null   float64\n",
            " 6   Search                                            9029 non-null   int64  \n",
            " 7   Digital Advertisement                             9029 non-null   int64  \n",
            " 8   Through Recommendations                           9029 non-null   int64  \n",
            " 9   A free copy of Mastering The Interview            9029 non-null   int64  \n",
            " 10  LeadOrigin_API                                    9029 non-null   uint8  \n",
            " 11  LeadOrigin_Landing Page Submission                9029 non-null   uint8  \n",
            " 12  LeadOrigin_Lead Add Form                          9029 non-null   uint8  \n",
            " 13  LeadOrigin_Lead Import                            9029 non-null   uint8  \n",
            " 14  LeadSource_Click2call                             9029 non-null   uint8  \n",
            " 15  LeadSource_Direct Traffic                         9029 non-null   uint8  \n",
            " 16  LeadSource_Facebook                               9029 non-null   uint8  \n",
            " 17  LeadSource_Google                                 9029 non-null   uint8  \n",
            " 18  LeadSource_Live Chat                              9029 non-null   uint8  \n",
            " 19  LeadSource_NC_EDM                                 9029 non-null   uint8  \n",
            " 20  LeadSource_Olark Chat                             9029 non-null   uint8  \n",
            " 21  LeadSource_Organic Search                         9029 non-null   uint8  \n",
            " 22  LeadSource_Pay per Click Ads                      9029 non-null   uint8  \n",
            " 23  LeadSource_Press_Release                          9029 non-null   uint8  \n",
            " 24  LeadSource_Reference                              9029 non-null   uint8  \n",
            " 25  LeadSource_Referral Sites                         9029 non-null   uint8  \n",
            " 26  LeadSource_Social Media                           9029 non-null   uint8  \n",
            " 27  LeadSource_WeLearn                                9029 non-null   uint8  \n",
            " 28  LeadSource_Welingak Website                       9029 non-null   uint8  \n",
            " 29  LeadSource_bing                                   9029 non-null   uint8  \n",
            " 30  LeadSource_blog                                   9029 non-null   uint8  \n",
            " 31  LeadSource_testone                                9029 non-null   uint8  \n",
            " 32  LeadSource_welearnblog_Home                       9029 non-null   uint8  \n",
            " 33  LastActivity_Approached upfront                   9029 non-null   uint8  \n",
            " 34  LastActivity_Converted to Lead                    9029 non-null   uint8  \n",
            " 35  LastActivity_Email Bounced                        9029 non-null   uint8  \n",
            " 36  LastActivity_Email Link Clicked                   9029 non-null   uint8  \n",
            " 37  LastActivity_Email Marked Spam                    9029 non-null   uint8  \n",
            " 38  LastActivity_Email Opened                         9029 non-null   uint8  \n",
            " 39  LastActivity_Email Received                       9029 non-null   uint8  \n",
            " 40  LastActivity_Form Submitted on Website            9029 non-null   uint8  \n",
            " 41  LastActivity_Had a Phone Conversation             9029 non-null   uint8  \n",
            " 42  LastActivity_Olark Chat Conversation              9029 non-null   uint8  \n",
            " 43  LastActivity_Page Visited on Website              9029 non-null   uint8  \n",
            " 44  LastActivity_SMS Sent                             9029 non-null   uint8  \n",
            " 45  LastActivity_Unknown                              9029 non-null   uint8  \n",
            " 46  LastActivity_Unreachable                          9029 non-null   uint8  \n",
            " 47  LastActivity_Unsubscribed                         9029 non-null   uint8  \n",
            " 48  LastActivity_View in browser link Clicked         9029 non-null   uint8  \n",
            " 49  LastActivity_Visited Booth in Tradeshow           9029 non-null   uint8  \n",
            " 50  CurrentOccupation_Housewife                       9029 non-null   uint8  \n",
            " 51  CurrentOccupation_No Information                  9029 non-null   uint8  \n",
            " 52  CurrentOccupation_Other                           9029 non-null   uint8  \n",
            " 53  CurrentOccupation_Student                         9029 non-null   uint8  \n",
            " 54  CurrentOccupation_Unemployed                      9029 non-null   uint8  \n",
            " 55  CurrentOccupation_Working Professional            9029 non-null   uint8  \n",
            " 56  LastNotableActivity_Approached upfront            9029 non-null   uint8  \n",
            " 57  LastNotableActivity_Email Bounced                 9029 non-null   uint8  \n",
            " 58  LastNotableActivity_Email Link Clicked            9029 non-null   uint8  \n",
            " 59  LastNotableActivity_Email Marked Spam             9029 non-null   uint8  \n",
            " 60  LastNotableActivity_Email Opened                  9029 non-null   uint8  \n",
            " 61  LastNotableActivity_Email Received                9029 non-null   uint8  \n",
            " 62  LastNotableActivity_Form Submitted on Website     9029 non-null   uint8  \n",
            " 63  LastNotableActivity_Had a Phone Conversation      9029 non-null   uint8  \n",
            " 64  LastNotableActivity_Modified                      9029 non-null   uint8  \n",
            " 65  LastNotableActivity_Olark Chat Conversation       9029 non-null   uint8  \n",
            " 66  LastNotableActivity_Page Visited on Website       9029 non-null   uint8  \n",
            " 67  LastNotableActivity_SMS Sent                      9029 non-null   uint8  \n",
            " 68  LastNotableActivity_Unreachable                   9029 non-null   uint8  \n",
            " 69  LastNotableActivity_Unsubscribed                  9029 non-null   uint8  \n",
            " 70  LastNotableActivity_View in browser link Clicked  9029 non-null   uint8  \n",
            "dtypes: float64(2), int64(8), uint8(61)\n",
            "memory usage: 1.5 MB\n"
          ]
        }
      ],
      "source": [
        "new_lead1.info()"
      ]
    },
    {
      "cell_type": "code",
      "execution_count": 115,
      "metadata": {
        "scrolled": true,
        "id": "k2y0wxrxd9et",
        "outputId": "1f2681c1-86a6-458d-df7d-09cac0086288",
        "colab": {
          "base_uri": "https://localhost:8080/"
        }
      },
      "outputs": [
        {
          "output_type": "stream",
          "name": "stdout",
          "text": [
            "Do Not Email                                        0.0\n",
            "LastActivity_Unknown                                0.0\n",
            "CurrentOccupation_No Information                    0.0\n",
            "CurrentOccupation_Housewife                         0.0\n",
            "LastActivity_Visited Booth in Tradeshow             0.0\n",
            "                                                   ... \n",
            "LeadSource_Press_Release                            0.0\n",
            "LeadSource_Pay per Click Ads                        0.0\n",
            "LeadSource_Organic Search                           0.0\n",
            "LeadSource_Olark Chat                               0.0\n",
            "LastNotableActivity_View in browser link Clicked    0.0\n",
            "Length: 71, dtype: float64\n"
          ]
        }
      ],
      "source": [
        "# NULL PERCENTAGE\n",
        "print(round(100*(new_lead1.isnull().sum()/len(new_lead1.index)), 2).sort_values(ascending=False))"
      ]
    },
    {
      "cell_type": "code",
      "execution_count": 116,
      "metadata": {
        "id": "GpzTnwBZd9et",
        "outputId": "0db9ae6b-9141-47f3-f9c3-8a5a5519d9bf",
        "colab": {
          "base_uri": "https://localhost:8080/"
        }
      },
      "outputs": [
        {
          "output_type": "execute_result",
          "data": {
            "text/plain": [
              "(9029, 71)"
            ]
          },
          "metadata": {},
          "execution_count": 116
        }
      ],
      "source": [
        "# DATASET SHAPE\n",
        "new_lead1.shape"
      ]
    },
    {
      "cell_type": "markdown",
      "metadata": {
        "id": "W8yRjHAed9et"
      },
      "source": [
        "Since there are around 71 columns, we will not be looking at the correlation using heat map as we will not be able to infer anything from the heat map due to huge data"
      ]
    },
    {
      "cell_type": "markdown",
      "metadata": {
        "id": "4m2uLu-pd9et"
      },
      "source": [
        "### Step 5: Test-Train Split"
      ]
    },
    {
      "cell_type": "code",
      "execution_count": 117,
      "metadata": {
        "id": "GukJj39Hd9eu",
        "outputId": "ad11ad08-a43c-4d96-ae50-51cd855ec249",
        "colab": {
          "base_uri": "https://localhost:8080/",
          "height": 369
        }
      },
      "outputs": [
        {
          "output_type": "execute_result",
          "data": {
            "text/plain": [
              "   Do Not Email  Do Not Call  TotalVisits  Total Time Spent on Website  \\\n",
              "0             0            0          0.0                            0   \n",
              "1             0            0          5.0                          674   \n",
              "2             0            0          2.0                         1532   \n",
              "3             0            0          1.0                          305   \n",
              "4             0            0          2.0                         1428   \n",
              "\n",
              "   Page Views Per Visit  Search  Digital Advertisement  \\\n",
              "0                   0.0       0                      0   \n",
              "1                   2.5       0                      0   \n",
              "2                   2.0       0                      0   \n",
              "3                   1.0       0                      0   \n",
              "4                   1.0       0                      0   \n",
              "\n",
              "   Through Recommendations  A free copy of Mastering The Interview  \\\n",
              "0                        0                                       0   \n",
              "1                        0                                       0   \n",
              "2                        0                                       1   \n",
              "3                        0                                       0   \n",
              "4                        0                                       0   \n",
              "\n",
              "   LeadOrigin_API  ...  LastNotableActivity_Email Received  \\\n",
              "0               1  ...                                   0   \n",
              "1               1  ...                                   0   \n",
              "2               0  ...                                   0   \n",
              "3               0  ...                                   0   \n",
              "4               0  ...                                   0   \n",
              "\n",
              "   LastNotableActivity_Form Submitted on Website  \\\n",
              "0                                              0   \n",
              "1                                              0   \n",
              "2                                              0   \n",
              "3                                              0   \n",
              "4                                              0   \n",
              "\n",
              "   LastNotableActivity_Had a Phone Conversation  LastNotableActivity_Modified  \\\n",
              "0                                             0                             1   \n",
              "1                                             0                             0   \n",
              "2                                             0                             0   \n",
              "3                                             0                             1   \n",
              "4                                             0                             1   \n",
              "\n",
              "   LastNotableActivity_Olark Chat Conversation  \\\n",
              "0                                            0   \n",
              "1                                            0   \n",
              "2                                            0   \n",
              "3                                            0   \n",
              "4                                            0   \n",
              "\n",
              "   LastNotableActivity_Page Visited on Website  LastNotableActivity_SMS Sent  \\\n",
              "0                                            0                             0   \n",
              "1                                            0                             0   \n",
              "2                                            0                             0   \n",
              "3                                            0                             0   \n",
              "4                                            0                             0   \n",
              "\n",
              "   LastNotableActivity_Unreachable  LastNotableActivity_Unsubscribed  \\\n",
              "0                                0                                 0   \n",
              "1                                0                                 0   \n",
              "2                                0                                 0   \n",
              "3                                0                                 0   \n",
              "4                                0                                 0   \n",
              "\n",
              "   LastNotableActivity_View in browser link Clicked  \n",
              "0                                                 0  \n",
              "1                                                 0  \n",
              "2                                                 0  \n",
              "3                                                 0  \n",
              "4                                                 0  \n",
              "\n",
              "[5 rows x 70 columns]"
            ],
            "text/html": [
              "\n",
              "  <div id=\"df-0cb4d126-2c5a-49a4-aec3-d99cb453fb75\">\n",
              "    <div class=\"colab-df-container\">\n",
              "      <div>\n",
              "<style scoped>\n",
              "    .dataframe tbody tr th:only-of-type {\n",
              "        vertical-align: middle;\n",
              "    }\n",
              "\n",
              "    .dataframe tbody tr th {\n",
              "        vertical-align: top;\n",
              "    }\n",
              "\n",
              "    .dataframe thead th {\n",
              "        text-align: right;\n",
              "    }\n",
              "</style>\n",
              "<table border=\"1\" class=\"dataframe\">\n",
              "  <thead>\n",
              "    <tr style=\"text-align: right;\">\n",
              "      <th></th>\n",
              "      <th>Do Not Email</th>\n",
              "      <th>Do Not Call</th>\n",
              "      <th>TotalVisits</th>\n",
              "      <th>Total Time Spent on Website</th>\n",
              "      <th>Page Views Per Visit</th>\n",
              "      <th>Search</th>\n",
              "      <th>Digital Advertisement</th>\n",
              "      <th>Through Recommendations</th>\n",
              "      <th>A free copy of Mastering The Interview</th>\n",
              "      <th>LeadOrigin_API</th>\n",
              "      <th>...</th>\n",
              "      <th>LastNotableActivity_Email Received</th>\n",
              "      <th>LastNotableActivity_Form Submitted on Website</th>\n",
              "      <th>LastNotableActivity_Had a Phone Conversation</th>\n",
              "      <th>LastNotableActivity_Modified</th>\n",
              "      <th>LastNotableActivity_Olark Chat Conversation</th>\n",
              "      <th>LastNotableActivity_Page Visited on Website</th>\n",
              "      <th>LastNotableActivity_SMS Sent</th>\n",
              "      <th>LastNotableActivity_Unreachable</th>\n",
              "      <th>LastNotableActivity_Unsubscribed</th>\n",
              "      <th>LastNotableActivity_View in browser link Clicked</th>\n",
              "    </tr>\n",
              "  </thead>\n",
              "  <tbody>\n",
              "    <tr>\n",
              "      <th>0</th>\n",
              "      <td>0</td>\n",
              "      <td>0</td>\n",
              "      <td>0.0</td>\n",
              "      <td>0</td>\n",
              "      <td>0.0</td>\n",
              "      <td>0</td>\n",
              "      <td>0</td>\n",
              "      <td>0</td>\n",
              "      <td>0</td>\n",
              "      <td>1</td>\n",
              "      <td>...</td>\n",
              "      <td>0</td>\n",
              "      <td>0</td>\n",
              "      <td>0</td>\n",
              "      <td>1</td>\n",
              "      <td>0</td>\n",
              "      <td>0</td>\n",
              "      <td>0</td>\n",
              "      <td>0</td>\n",
              "      <td>0</td>\n",
              "      <td>0</td>\n",
              "    </tr>\n",
              "    <tr>\n",
              "      <th>1</th>\n",
              "      <td>0</td>\n",
              "      <td>0</td>\n",
              "      <td>5.0</td>\n",
              "      <td>674</td>\n",
              "      <td>2.5</td>\n",
              "      <td>0</td>\n",
              "      <td>0</td>\n",
              "      <td>0</td>\n",
              "      <td>0</td>\n",
              "      <td>1</td>\n",
              "      <td>...</td>\n",
              "      <td>0</td>\n",
              "      <td>0</td>\n",
              "      <td>0</td>\n",
              "      <td>0</td>\n",
              "      <td>0</td>\n",
              "      <td>0</td>\n",
              "      <td>0</td>\n",
              "      <td>0</td>\n",
              "      <td>0</td>\n",
              "      <td>0</td>\n",
              "    </tr>\n",
              "    <tr>\n",
              "      <th>2</th>\n",
              "      <td>0</td>\n",
              "      <td>0</td>\n",
              "      <td>2.0</td>\n",
              "      <td>1532</td>\n",
              "      <td>2.0</td>\n",
              "      <td>0</td>\n",
              "      <td>0</td>\n",
              "      <td>0</td>\n",
              "      <td>1</td>\n",
              "      <td>0</td>\n",
              "      <td>...</td>\n",
              "      <td>0</td>\n",
              "      <td>0</td>\n",
              "      <td>0</td>\n",
              "      <td>0</td>\n",
              "      <td>0</td>\n",
              "      <td>0</td>\n",
              "      <td>0</td>\n",
              "      <td>0</td>\n",
              "      <td>0</td>\n",
              "      <td>0</td>\n",
              "    </tr>\n",
              "    <tr>\n",
              "      <th>3</th>\n",
              "      <td>0</td>\n",
              "      <td>0</td>\n",
              "      <td>1.0</td>\n",
              "      <td>305</td>\n",
              "      <td>1.0</td>\n",
              "      <td>0</td>\n",
              "      <td>0</td>\n",
              "      <td>0</td>\n",
              "      <td>0</td>\n",
              "      <td>0</td>\n",
              "      <td>...</td>\n",
              "      <td>0</td>\n",
              "      <td>0</td>\n",
              "      <td>0</td>\n",
              "      <td>1</td>\n",
              "      <td>0</td>\n",
              "      <td>0</td>\n",
              "      <td>0</td>\n",
              "      <td>0</td>\n",
              "      <td>0</td>\n",
              "      <td>0</td>\n",
              "    </tr>\n",
              "    <tr>\n",
              "      <th>4</th>\n",
              "      <td>0</td>\n",
              "      <td>0</td>\n",
              "      <td>2.0</td>\n",
              "      <td>1428</td>\n",
              "      <td>1.0</td>\n",
              "      <td>0</td>\n",
              "      <td>0</td>\n",
              "      <td>0</td>\n",
              "      <td>0</td>\n",
              "      <td>0</td>\n",
              "      <td>...</td>\n",
              "      <td>0</td>\n",
              "      <td>0</td>\n",
              "      <td>0</td>\n",
              "      <td>1</td>\n",
              "      <td>0</td>\n",
              "      <td>0</td>\n",
              "      <td>0</td>\n",
              "      <td>0</td>\n",
              "      <td>0</td>\n",
              "      <td>0</td>\n",
              "    </tr>\n",
              "  </tbody>\n",
              "</table>\n",
              "<p>5 rows × 70 columns</p>\n",
              "</div>\n",
              "      <button class=\"colab-df-convert\" onclick=\"convertToInteractive('df-0cb4d126-2c5a-49a4-aec3-d99cb453fb75')\"\n",
              "              title=\"Convert this dataframe to an interactive table.\"\n",
              "              style=\"display:none;\">\n",
              "        \n",
              "  <svg xmlns=\"http://www.w3.org/2000/svg\" height=\"24px\"viewBox=\"0 0 24 24\"\n",
              "       width=\"24px\">\n",
              "    <path d=\"M0 0h24v24H0V0z\" fill=\"none\"/>\n",
              "    <path d=\"M18.56 5.44l.94 2.06.94-2.06 2.06-.94-2.06-.94-.94-2.06-.94 2.06-2.06.94zm-11 1L8.5 8.5l.94-2.06 2.06-.94-2.06-.94L8.5 2.5l-.94 2.06-2.06.94zm10 10l.94 2.06.94-2.06 2.06-.94-2.06-.94-.94-2.06-.94 2.06-2.06.94z\"/><path d=\"M17.41 7.96l-1.37-1.37c-.4-.4-.92-.59-1.43-.59-.52 0-1.04.2-1.43.59L10.3 9.45l-7.72 7.72c-.78.78-.78 2.05 0 2.83L4 21.41c.39.39.9.59 1.41.59.51 0 1.02-.2 1.41-.59l7.78-7.78 2.81-2.81c.8-.78.8-2.07 0-2.86zM5.41 20L4 18.59l7.72-7.72 1.47 1.35L5.41 20z\"/>\n",
              "  </svg>\n",
              "      </button>\n",
              "      \n",
              "  <style>\n",
              "    .colab-df-container {\n",
              "      display:flex;\n",
              "      flex-wrap:wrap;\n",
              "      gap: 12px;\n",
              "    }\n",
              "\n",
              "    .colab-df-convert {\n",
              "      background-color: #E8F0FE;\n",
              "      border: none;\n",
              "      border-radius: 50%;\n",
              "      cursor: pointer;\n",
              "      display: none;\n",
              "      fill: #1967D2;\n",
              "      height: 32px;\n",
              "      padding: 0 0 0 0;\n",
              "      width: 32px;\n",
              "    }\n",
              "\n",
              "    .colab-df-convert:hover {\n",
              "      background-color: #E2EBFA;\n",
              "      box-shadow: 0px 1px 2px rgba(60, 64, 67, 0.3), 0px 1px 3px 1px rgba(60, 64, 67, 0.15);\n",
              "      fill: #174EA6;\n",
              "    }\n",
              "\n",
              "    [theme=dark] .colab-df-convert {\n",
              "      background-color: #3B4455;\n",
              "      fill: #D2E3FC;\n",
              "    }\n",
              "\n",
              "    [theme=dark] .colab-df-convert:hover {\n",
              "      background-color: #434B5C;\n",
              "      box-shadow: 0px 1px 3px 1px rgba(0, 0, 0, 0.15);\n",
              "      filter: drop-shadow(0px 1px 2px rgba(0, 0, 0, 0.3));\n",
              "      fill: #FFFFFF;\n",
              "    }\n",
              "  </style>\n",
              "\n",
              "      <script>\n",
              "        const buttonEl =\n",
              "          document.querySelector('#df-0cb4d126-2c5a-49a4-aec3-d99cb453fb75 button.colab-df-convert');\n",
              "        buttonEl.style.display =\n",
              "          google.colab.kernel.accessAllowed ? 'block' : 'none';\n",
              "\n",
              "        async function convertToInteractive(key) {\n",
              "          const element = document.querySelector('#df-0cb4d126-2c5a-49a4-aec3-d99cb453fb75');\n",
              "          const dataTable =\n",
              "            await google.colab.kernel.invokeFunction('convertToInteractive',\n",
              "                                                     [key], {});\n",
              "          if (!dataTable) return;\n",
              "\n",
              "          const docLinkHtml = 'Like what you see? Visit the ' +\n",
              "            '<a target=\"_blank\" href=https://colab.research.google.com/notebooks/data_table.ipynb>data table notebook</a>'\n",
              "            + ' to learn more about interactive tables.';\n",
              "          element.innerHTML = '';\n",
              "          dataTable['output_type'] = 'display_data';\n",
              "          await google.colab.output.renderOutput(dataTable, element);\n",
              "          const docLink = document.createElement('div');\n",
              "          docLink.innerHTML = docLinkHtml;\n",
              "          element.appendChild(docLink);\n",
              "        }\n",
              "      </script>\n",
              "    </div>\n",
              "  </div>\n",
              "  "
            ]
          },
          "metadata": {},
          "execution_count": 117
        }
      ],
      "source": [
        "# X VARIABLE\n",
        "\n",
        "X = new_lead1.drop(['Converted'], axis=1)\n",
        "X.head()"
      ]
    },
    {
      "cell_type": "code",
      "execution_count": 118,
      "metadata": {
        "id": "sGFnaSBEd9eu",
        "outputId": "a161ccaf-f293-4c85-8037-c90e57ee4088",
        "colab": {
          "base_uri": "https://localhost:8080/"
        }
      },
      "outputs": [
        {
          "output_type": "execute_result",
          "data": {
            "text/plain": [
              "0    0\n",
              "1    0\n",
              "2    1\n",
              "3    0\n",
              "4    1\n",
              "Name: Converted, dtype: int64"
            ]
          },
          "metadata": {},
          "execution_count": 118
        }
      ],
      "source": [
        "# y VARIABLE\n",
        "y = new_lead1['Converted']\n",
        "y.head()"
      ]
    },
    {
      "cell_type": "code",
      "execution_count": 119,
      "metadata": {
        "id": "I5CNuBKDd9eu"
      },
      "outputs": [],
      "source": [
        "# SPLITTING DATA TO TRAIN AND TEST\n",
        "\n",
        "X_train, X_test, y_train, y_test = train_test_split(X, y, train_size=0.7, test_size=0.3, random_state=42)"
      ]
    },
    {
      "cell_type": "markdown",
      "metadata": {
        "id": "FNkuHZnqd9eu"
      },
      "source": [
        "### Step 6: Rescaling the features with MinMax Scaling"
      ]
    },
    {
      "cell_type": "code",
      "execution_count": 120,
      "metadata": {
        "id": "ZLGuEhUud9ev",
        "outputId": "918d12c6-92ed-472a-83d9-944f85022c0a",
        "colab": {
          "base_uri": "https://localhost:8080/",
          "height": 369
        }
      },
      "outputs": [
        {
          "output_type": "execute_result",
          "data": {
            "text/plain": [
              "      Do Not Email  Do Not Call  TotalVisits  Total Time Spent on Website  \\\n",
              "2240             0            0       0.1875                     0.898963   \n",
              "113              0            0       0.3125                     0.706360   \n",
              "4132             0            0       0.3750                     0.768155   \n",
              "5573             0            0       0.1250                     0.028868   \n",
              "1109             0            0       0.0625                     0.009021   \n",
              "\n",
              "      Page Views Per Visit  Search  Digital Advertisement  \\\n",
              "2240                 0.375       0                      0   \n",
              "113                  0.625       0                      0   \n",
              "4132                 0.750       0                      0   \n",
              "5573                 0.250       0                      0   \n",
              "1109                 0.125       0                      0   \n",
              "\n",
              "      Through Recommendations  A free copy of Mastering The Interview  \\\n",
              "2240                        0                                       0   \n",
              "113                         0                                       0   \n",
              "4132                        0                                       1   \n",
              "5573                        0                                       1   \n",
              "1109                        0                                       0   \n",
              "\n",
              "      LeadOrigin_API  ...  LastNotableActivity_Email Received  \\\n",
              "2240               0  ...                                   0   \n",
              "113                1  ...                                   0   \n",
              "4132               0  ...                                   0   \n",
              "5573               0  ...                                   0   \n",
              "1109               1  ...                                   0   \n",
              "\n",
              "      LastNotableActivity_Form Submitted on Website  \\\n",
              "2240                                              0   \n",
              "113                                               0   \n",
              "4132                                              0   \n",
              "5573                                              0   \n",
              "1109                                              0   \n",
              "\n",
              "      LastNotableActivity_Had a Phone Conversation  \\\n",
              "2240                                             0   \n",
              "113                                              0   \n",
              "4132                                             0   \n",
              "5573                                             0   \n",
              "1109                                             0   \n",
              "\n",
              "      LastNotableActivity_Modified  \\\n",
              "2240                             0   \n",
              "113                              1   \n",
              "4132                             1   \n",
              "5573                             0   \n",
              "1109                             1   \n",
              "\n",
              "      LastNotableActivity_Olark Chat Conversation  \\\n",
              "2240                                            0   \n",
              "113                                             0   \n",
              "4132                                            0   \n",
              "5573                                            0   \n",
              "1109                                            0   \n",
              "\n",
              "      LastNotableActivity_Page Visited on Website  \\\n",
              "2240                                            0   \n",
              "113                                             0   \n",
              "4132                                            0   \n",
              "5573                                            0   \n",
              "1109                                            0   \n",
              "\n",
              "      LastNotableActivity_SMS Sent  LastNotableActivity_Unreachable  \\\n",
              "2240                             0                                0   \n",
              "113                              0                                0   \n",
              "4132                             0                                0   \n",
              "5573                             0                                0   \n",
              "1109                             0                                0   \n",
              "\n",
              "      LastNotableActivity_Unsubscribed  \\\n",
              "2240                                 0   \n",
              "113                                  0   \n",
              "4132                                 0   \n",
              "5573                                 0   \n",
              "1109                                 0   \n",
              "\n",
              "      LastNotableActivity_View in browser link Clicked  \n",
              "2240                                                 0  \n",
              "113                                                  0  \n",
              "4132                                                 0  \n",
              "5573                                                 0  \n",
              "1109                                                 0  \n",
              "\n",
              "[5 rows x 70 columns]"
            ],
            "text/html": [
              "\n",
              "  <div id=\"df-d964f68b-fe1a-432f-a773-3f47342e6ae8\">\n",
              "    <div class=\"colab-df-container\">\n",
              "      <div>\n",
              "<style scoped>\n",
              "    .dataframe tbody tr th:only-of-type {\n",
              "        vertical-align: middle;\n",
              "    }\n",
              "\n",
              "    .dataframe tbody tr th {\n",
              "        vertical-align: top;\n",
              "    }\n",
              "\n",
              "    .dataframe thead th {\n",
              "        text-align: right;\n",
              "    }\n",
              "</style>\n",
              "<table border=\"1\" class=\"dataframe\">\n",
              "  <thead>\n",
              "    <tr style=\"text-align: right;\">\n",
              "      <th></th>\n",
              "      <th>Do Not Email</th>\n",
              "      <th>Do Not Call</th>\n",
              "      <th>TotalVisits</th>\n",
              "      <th>Total Time Spent on Website</th>\n",
              "      <th>Page Views Per Visit</th>\n",
              "      <th>Search</th>\n",
              "      <th>Digital Advertisement</th>\n",
              "      <th>Through Recommendations</th>\n",
              "      <th>A free copy of Mastering The Interview</th>\n",
              "      <th>LeadOrigin_API</th>\n",
              "      <th>...</th>\n",
              "      <th>LastNotableActivity_Email Received</th>\n",
              "      <th>LastNotableActivity_Form Submitted on Website</th>\n",
              "      <th>LastNotableActivity_Had a Phone Conversation</th>\n",
              "      <th>LastNotableActivity_Modified</th>\n",
              "      <th>LastNotableActivity_Olark Chat Conversation</th>\n",
              "      <th>LastNotableActivity_Page Visited on Website</th>\n",
              "      <th>LastNotableActivity_SMS Sent</th>\n",
              "      <th>LastNotableActivity_Unreachable</th>\n",
              "      <th>LastNotableActivity_Unsubscribed</th>\n",
              "      <th>LastNotableActivity_View in browser link Clicked</th>\n",
              "    </tr>\n",
              "  </thead>\n",
              "  <tbody>\n",
              "    <tr>\n",
              "      <th>2240</th>\n",
              "      <td>0</td>\n",
              "      <td>0</td>\n",
              "      <td>0.1875</td>\n",
              "      <td>0.898963</td>\n",
              "      <td>0.375</td>\n",
              "      <td>0</td>\n",
              "      <td>0</td>\n",
              "      <td>0</td>\n",
              "      <td>0</td>\n",
              "      <td>0</td>\n",
              "      <td>...</td>\n",
              "      <td>0</td>\n",
              "      <td>0</td>\n",
              "      <td>0</td>\n",
              "      <td>0</td>\n",
              "      <td>0</td>\n",
              "      <td>0</td>\n",
              "      <td>0</td>\n",
              "      <td>0</td>\n",
              "      <td>0</td>\n",
              "      <td>0</td>\n",
              "    </tr>\n",
              "    <tr>\n",
              "      <th>113</th>\n",
              "      <td>0</td>\n",
              "      <td>0</td>\n",
              "      <td>0.3125</td>\n",
              "      <td>0.706360</td>\n",
              "      <td>0.625</td>\n",
              "      <td>0</td>\n",
              "      <td>0</td>\n",
              "      <td>0</td>\n",
              "      <td>0</td>\n",
              "      <td>1</td>\n",
              "      <td>...</td>\n",
              "      <td>0</td>\n",
              "      <td>0</td>\n",
              "      <td>0</td>\n",
              "      <td>1</td>\n",
              "      <td>0</td>\n",
              "      <td>0</td>\n",
              "      <td>0</td>\n",
              "      <td>0</td>\n",
              "      <td>0</td>\n",
              "      <td>0</td>\n",
              "    </tr>\n",
              "    <tr>\n",
              "      <th>4132</th>\n",
              "      <td>0</td>\n",
              "      <td>0</td>\n",
              "      <td>0.3750</td>\n",
              "      <td>0.768155</td>\n",
              "      <td>0.750</td>\n",
              "      <td>0</td>\n",
              "      <td>0</td>\n",
              "      <td>0</td>\n",
              "      <td>1</td>\n",
              "      <td>0</td>\n",
              "      <td>...</td>\n",
              "      <td>0</td>\n",
              "      <td>0</td>\n",
              "      <td>0</td>\n",
              "      <td>1</td>\n",
              "      <td>0</td>\n",
              "      <td>0</td>\n",
              "      <td>0</td>\n",
              "      <td>0</td>\n",
              "      <td>0</td>\n",
              "      <td>0</td>\n",
              "    </tr>\n",
              "    <tr>\n",
              "      <th>5573</th>\n",
              "      <td>0</td>\n",
              "      <td>0</td>\n",
              "      <td>0.1250</td>\n",
              "      <td>0.028868</td>\n",
              "      <td>0.250</td>\n",
              "      <td>0</td>\n",
              "      <td>0</td>\n",
              "      <td>0</td>\n",
              "      <td>1</td>\n",
              "      <td>0</td>\n",
              "      <td>...</td>\n",
              "      <td>0</td>\n",
              "      <td>0</td>\n",
              "      <td>0</td>\n",
              "      <td>0</td>\n",
              "      <td>0</td>\n",
              "      <td>0</td>\n",
              "      <td>0</td>\n",
              "      <td>0</td>\n",
              "      <td>0</td>\n",
              "      <td>0</td>\n",
              "    </tr>\n",
              "    <tr>\n",
              "      <th>1109</th>\n",
              "      <td>0</td>\n",
              "      <td>0</td>\n",
              "      <td>0.0625</td>\n",
              "      <td>0.009021</td>\n",
              "      <td>0.125</td>\n",
              "      <td>0</td>\n",
              "      <td>0</td>\n",
              "      <td>0</td>\n",
              "      <td>0</td>\n",
              "      <td>1</td>\n",
              "      <td>...</td>\n",
              "      <td>0</td>\n",
              "      <td>0</td>\n",
              "      <td>0</td>\n",
              "      <td>1</td>\n",
              "      <td>0</td>\n",
              "      <td>0</td>\n",
              "      <td>0</td>\n",
              "      <td>0</td>\n",
              "      <td>0</td>\n",
              "      <td>0</td>\n",
              "    </tr>\n",
              "  </tbody>\n",
              "</table>\n",
              "<p>5 rows × 70 columns</p>\n",
              "</div>\n",
              "      <button class=\"colab-df-convert\" onclick=\"convertToInteractive('df-d964f68b-fe1a-432f-a773-3f47342e6ae8')\"\n",
              "              title=\"Convert this dataframe to an interactive table.\"\n",
              "              style=\"display:none;\">\n",
              "        \n",
              "  <svg xmlns=\"http://www.w3.org/2000/svg\" height=\"24px\"viewBox=\"0 0 24 24\"\n",
              "       width=\"24px\">\n",
              "    <path d=\"M0 0h24v24H0V0z\" fill=\"none\"/>\n",
              "    <path d=\"M18.56 5.44l.94 2.06.94-2.06 2.06-.94-2.06-.94-.94-2.06-.94 2.06-2.06.94zm-11 1L8.5 8.5l.94-2.06 2.06-.94-2.06-.94L8.5 2.5l-.94 2.06-2.06.94zm10 10l.94 2.06.94-2.06 2.06-.94-2.06-.94-.94-2.06-.94 2.06-2.06.94z\"/><path d=\"M17.41 7.96l-1.37-1.37c-.4-.4-.92-.59-1.43-.59-.52 0-1.04.2-1.43.59L10.3 9.45l-7.72 7.72c-.78.78-.78 2.05 0 2.83L4 21.41c.39.39.9.59 1.41.59.51 0 1.02-.2 1.41-.59l7.78-7.78 2.81-2.81c.8-.78.8-2.07 0-2.86zM5.41 20L4 18.59l7.72-7.72 1.47 1.35L5.41 20z\"/>\n",
              "  </svg>\n",
              "      </button>\n",
              "      \n",
              "  <style>\n",
              "    .colab-df-container {\n",
              "      display:flex;\n",
              "      flex-wrap:wrap;\n",
              "      gap: 12px;\n",
              "    }\n",
              "\n",
              "    .colab-df-convert {\n",
              "      background-color: #E8F0FE;\n",
              "      border: none;\n",
              "      border-radius: 50%;\n",
              "      cursor: pointer;\n",
              "      display: none;\n",
              "      fill: #1967D2;\n",
              "      height: 32px;\n",
              "      padding: 0 0 0 0;\n",
              "      width: 32px;\n",
              "    }\n",
              "\n",
              "    .colab-df-convert:hover {\n",
              "      background-color: #E2EBFA;\n",
              "      box-shadow: 0px 1px 2px rgba(60, 64, 67, 0.3), 0px 1px 3px 1px rgba(60, 64, 67, 0.15);\n",
              "      fill: #174EA6;\n",
              "    }\n",
              "\n",
              "    [theme=dark] .colab-df-convert {\n",
              "      background-color: #3B4455;\n",
              "      fill: #D2E3FC;\n",
              "    }\n",
              "\n",
              "    [theme=dark] .colab-df-convert:hover {\n",
              "      background-color: #434B5C;\n",
              "      box-shadow: 0px 1px 3px 1px rgba(0, 0, 0, 0.15);\n",
              "      filter: drop-shadow(0px 1px 2px rgba(0, 0, 0, 0.3));\n",
              "      fill: #FFFFFF;\n",
              "    }\n",
              "  </style>\n",
              "\n",
              "      <script>\n",
              "        const buttonEl =\n",
              "          document.querySelector('#df-d964f68b-fe1a-432f-a773-3f47342e6ae8 button.colab-df-convert');\n",
              "        buttonEl.style.display =\n",
              "          google.colab.kernel.accessAllowed ? 'block' : 'none';\n",
              "\n",
              "        async function convertToInteractive(key) {\n",
              "          const element = document.querySelector('#df-d964f68b-fe1a-432f-a773-3f47342e6ae8');\n",
              "          const dataTable =\n",
              "            await google.colab.kernel.invokeFunction('convertToInteractive',\n",
              "                                                     [key], {});\n",
              "          if (!dataTable) return;\n",
              "\n",
              "          const docLinkHtml = 'Like what you see? Visit the ' +\n",
              "            '<a target=\"_blank\" href=https://colab.research.google.com/notebooks/data_table.ipynb>data table notebook</a>'\n",
              "            + ' to learn more about interactive tables.';\n",
              "          element.innerHTML = '';\n",
              "          dataTable['output_type'] = 'display_data';\n",
              "          await google.colab.output.renderOutput(dataTable, element);\n",
              "          const docLink = document.createElement('div');\n",
              "          docLink.innerHTML = docLinkHtml;\n",
              "          element.appendChild(docLink);\n",
              "        }\n",
              "      </script>\n",
              "    </div>\n",
              "  </div>\n",
              "  "
            ]
          },
          "metadata": {},
          "execution_count": 120
        }
      ],
      "source": [
        "scaler = MinMaxScaler()\n",
        "\n",
        "X_train[['TotalVisits','Total Time Spent on Website','Page Views Per Visit']] = scaler.fit_transform(X_train[['TotalVisits',\n",
        "                                                                        'Total Time Spent on Website','Page Views Per Visit']])\n",
        "X_train.head()"
      ]
    },
    {
      "cell_type": "code",
      "execution_count": 121,
      "metadata": {
        "id": "PzrdSxK4d9ev",
        "outputId": "28b94f3c-90d1-4cdf-e799-e14bab443e53",
        "colab": {
          "base_uri": "https://localhost:8080/"
        }
      },
      "outputs": [
        {
          "output_type": "execute_result",
          "data": {
            "text/plain": [
              "38.50924797873519"
            ]
          },
          "metadata": {},
          "execution_count": 121
        }
      ],
      "source": [
        "# CONVERSION RATE PERCENTAGE\n",
        "\n",
        "converted = (sum(new_lead1['Converted'])/len(new_lead1['Converted'].index))*100\n",
        "converted"
      ]
    },
    {
      "cell_type": "markdown",
      "metadata": {
        "id": "dlOtpDHmd9ev"
      },
      "source": [
        "#### We have almost 39% conversion rate"
      ]
    },
    {
      "cell_type": "markdown",
      "metadata": {
        "id": "9hnB9JCGd9ev"
      },
      "source": [
        "### Step 7: Model Building\n"
      ]
    },
    {
      "cell_type": "markdown",
      "metadata": {
        "id": "k78CA5nTd9ev"
      },
      "source": [
        "Running the Initial Training Model\n",
        "\n",
        "Assessing the model with StatsModels"
      ]
    },
    {
      "cell_type": "code",
      "execution_count": 122,
      "metadata": {
        "id": "jouE26Gud9ew",
        "outputId": "89efdb25-c321-4d26-c867-a523a4132b7c",
        "colab": {
          "base_uri": "https://localhost:8080/"
        }
      },
      "outputs": [
        {
          "output_type": "stream",
          "name": "stdout",
          "text": [
            "                 Generalized Linear Model Regression Results                  \n",
            "==============================================================================\n",
            "Dep. Variable:              Converted   No. Observations:                 6320\n",
            "Model:                            GLM   Df Residuals:                     6259\n",
            "Model Family:                Binomial   Df Model:                           60\n",
            "Link Function:                  logit   Scale:                          1.0000\n",
            "Method:                          IRLS   Log-Likelihood:                    nan\n",
            "Date:                Tue, 28 Feb 2023   Deviance:                   1.5013e+05\n",
            "Time:                        06:34:58   Pearson chi2:                 7.34e+18\n",
            "No. Iterations:                   100                                         \n",
            "Covariance Type:            nonrobust                                         \n",
            "====================================================================================================================\n",
            "                                                       coef    std err          z      P>|z|      [0.025      0.975]\n",
            "--------------------------------------------------------------------------------------------------------------------\n",
            "const                                             1.647e+15    6.4e+07   2.57e+07      0.000    1.65e+15    1.65e+15\n",
            "Do Not Email                                     -5.119e+14   4.48e+06  -1.14e+08      0.000   -5.12e+14   -5.12e+14\n",
            "Do Not Call                                       7.385e+15   4.76e+07   1.55e+08      0.000    7.39e+15    7.39e+15\n",
            "TotalVisits                                       2.834e+14   7.66e+06    3.7e+07      0.000    2.83e+14    2.83e+14\n",
            "Total Time Spent on Website                       2.089e+15   4.01e+06   5.21e+08      0.000    2.09e+15    2.09e+15\n",
            "Page Views Per Visit                             -5.782e+14   6.53e+06  -8.85e+07      0.000   -5.78e+14   -5.78e+14\n",
            "Search                                            3.549e+14   2.44e+07   1.45e+07      0.000    3.55e+14    3.55e+14\n",
            "Digital Advertisement                             5.683e+14   4.76e+07   1.19e+07      0.000    5.68e+14    5.68e+14\n",
            "Through Recommendations                           5.024e+14    4.2e+07   1.19e+07      0.000    5.02e+14    5.02e+14\n",
            "A free copy of Mastering The Interview            -6.37e+14   2.69e+06  -2.37e+08      0.000   -6.37e+14   -6.37e+14\n",
            "LeadOrigin_API                                   -4.167e+15   6.74e+07  -6.18e+07      0.000   -4.17e+15   -4.17e+15\n",
            "LeadOrigin_Landing Page Submission               -3.072e+15   6.74e+07  -4.56e+07      0.000   -3.07e+15   -3.07e+15\n",
            "LeadOrigin_Lead Add Form                         -7.907e+14   6.86e+07  -1.15e+07      0.000   -7.91e+14   -7.91e+14\n",
            "LeadOrigin_Lead Import                           -2.298e+15   8.27e+07  -2.78e+07      0.000    -2.3e+15    -2.3e+15\n",
            "LeadSource_Click2call                              5.15e+15   4.69e+07    1.1e+08      0.000    5.15e+15    5.15e+15\n",
            "LeadSource_Direct Traffic                         1.135e+15   1.17e+07   9.72e+07      0.000    1.14e+15    1.14e+15\n",
            "LeadSource_Facebook                              -4.321e+14   4.62e+07  -9.35e+06      0.000   -4.32e+14   -4.32e+14\n",
            "LeadSource_Google                                 1.226e+15   1.15e+07   1.06e+08      0.000    1.23e+15    1.23e+15\n",
            "LeadSource_Live Chat                              9.323e+13   4.67e+07   1.99e+06      0.000    9.32e+13    9.32e+13\n",
            "LeadSource_NC_EDM                                    4.4618    1.8e-07   2.49e+07      0.000       4.462       4.462\n",
            "LeadSource_Olark Chat                             1.407e+15   1.18e+07   1.19e+08      0.000    1.41e+15    1.41e+15\n",
            "LeadSource_Organic Search                          9.98e+14   1.18e+07   8.47e+07      0.000    9.98e+14    9.98e+14\n",
            "LeadSource_Pay per Click Ads                         3.8583   6.82e-08   5.66e+07      0.000       3.858       3.858\n",
            "LeadSource_Press_Release                            -4.0740   9.79e-08  -4.16e+07      0.000      -4.074      -4.074\n",
            "LeadSource_Reference                             -5.493e+14   1.51e+07  -3.65e+07      0.000   -5.49e+14   -5.49e+14\n",
            "LeadSource_Referral Sites                         1.984e+15   1.35e+07   1.47e+08      0.000    1.98e+15    1.98e+15\n",
            "LeadSource_Social Media                          -2.386e+15    6.4e+07  -3.73e+07      0.000   -2.39e+15   -2.39e+15\n",
            "LeadSource_WeLearn                                   1.3319   8.41e-08   1.58e+07      0.000       1.332       1.332\n",
            "LeadSource_Welingak Website                      -1.522e+14   1.58e+07  -9.63e+06      0.000   -1.52e+14   -1.52e+14\n",
            "LeadSource_bing                                  -1.666e+15   3.04e+07  -5.49e+07      0.000   -1.67e+15   -1.67e+15\n",
            "LeadSource_blog                                  -1.913e+15   6.38e+07     -3e+07      0.000   -1.91e+15   -1.91e+15\n",
            "LeadSource_testone                               -3.021e+15    6.4e+07  -4.72e+07      0.000   -3.02e+15   -3.02e+15\n",
            "LeadSource_welearnblog_Home                      -2.247e+14   6.38e+07  -3.52e+06      0.000   -2.25e+14   -2.25e+14\n",
            "LastActivity_Approached upfront                   4.844e+15   2.72e+07   1.78e+08      0.000    4.84e+15    4.84e+15\n",
            "LastActivity_Converted to Lead                   -3.932e+14   9.39e+06  -4.19e+07      0.000   -3.93e+14   -3.93e+14\n",
            "LastActivity_Email Bounced                       -4.687e+14   1.02e+07  -4.58e+07      0.000   -4.69e+14   -4.69e+14\n",
            "LastActivity_Email Link Clicked                   5.982e+14   1.14e+07   5.24e+07      0.000    5.98e+14    5.98e+14\n",
            "LastActivity_Email Marked Spam                    1.748e+15   2.32e+07   7.52e+07      0.000    1.75e+15    1.75e+15\n",
            "LastActivity_Email Opened                         5.378e+14    9.1e+06   5.91e+07      0.000    5.38e+14    5.38e+14\n",
            "LastActivity_Email Received                       4.283e+15   6.38e+07   6.71e+07      0.000    4.28e+15    4.28e+15\n",
            "LastActivity_Form Submitted on Website           -4.696e+14   1.13e+07  -4.16e+07      0.000    -4.7e+14    -4.7e+14\n",
            "LastActivity_Had a Phone Conversation             -6.54e+14   2.26e+07  -2.89e+07      0.000   -6.54e+14   -6.54e+14\n",
            "LastActivity_Olark Chat Conversation              4.007e+14   9.09e+06   4.41e+07      0.000    4.01e+14    4.01e+14\n",
            "LastActivity_Page Visited on Website             -1.376e+14   9.54e+06  -1.44e+07      0.000   -1.38e+14   -1.38e+14\n",
            "LastActivity_SMS Sent                             6.059e+14   9.11e+06   6.65e+07      0.000    6.06e+14    6.06e+14\n",
            "LastActivity_Unknown                             -8.769e+14   1.19e+07  -7.35e+07      0.000   -8.77e+14   -8.77e+14\n",
            "LastActivity_Unreachable                         -6.912e+14   1.29e+07  -5.35e+07      0.000   -6.91e+14   -6.91e+14\n",
            "LastActivity_Unsubscribed                          4.01e+14   2.39e+07   1.68e+07      0.000    4.01e+14    4.01e+14\n",
            "LastActivity_View in browser link Clicked        -3.885e+15   6.33e+07  -6.14e+07      0.000   -3.89e+15   -3.89e+15\n",
            "LastActivity_Visited Booth in Tradeshow          -4.195e+15   6.37e+07  -6.58e+07      0.000    -4.2e+15    -4.2e+15\n",
            "CurrentOccupation_Housewife                        5.79e+15   4.12e+07   1.41e+08      0.000    5.79e+15    5.79e+15\n",
            "CurrentOccupation_No Information                  1.062e+14   3.37e+07   3.15e+06      0.000    1.06e+14    1.06e+14\n",
            "CurrentOccupation_Other                           8.066e+14   3.89e+07   2.07e+07      0.000    8.07e+14    8.07e+14\n",
            "CurrentOccupation_Student                          1.02e+15   3.41e+07   2.99e+07      0.000    1.02e+15    1.02e+15\n",
            "CurrentOccupation_Unemployed                      4.757e+14   3.37e+07   1.41e+07      0.000    4.76e+14    4.76e+14\n",
            "CurrentOccupation_Working Professional            1.426e+15   3.38e+07   4.21e+07      0.000    1.43e+15    1.43e+15\n",
            "LastNotableActivity_Approached upfront              -0.1055   1.39e-08  -7.57e+06      0.000      -0.105      -0.105\n",
            "LastNotableActivity_Email Bounced                 1.977e+14   1.54e+07   1.28e+07      0.000    1.98e+14    1.98e+14\n",
            "LastNotableActivity_Email Link Clicked           -4.048e+14   1.45e+07  -2.78e+07      0.000   -4.05e+14   -4.05e+14\n",
            "LastNotableActivity_Email Marked Spam             1.748e+15   2.32e+07   7.52e+07      0.000    1.75e+15    1.75e+15\n",
            "LastNotableActivity_Email Opened                 -1.641e+15   1.16e+07  -1.42e+08      0.000   -1.64e+15   -1.64e+15\n",
            "LastNotableActivity_Email Received                   0.8043   8.55e-09   9.41e+07      0.000       0.804       0.804\n",
            "LastNotableActivity_Form Submitted on Website    -5.331e+14   6.33e+07  -8.42e+06      0.000   -5.33e+14   -5.33e+14\n",
            "LastNotableActivity_Had a Phone Conversation      2.352e+15   3.12e+07   7.55e+07      0.000    2.35e+15    2.35e+15\n",
            "LastNotableActivity_Modified                     -2.024e+14   1.11e+07  -1.83e+07      0.000   -2.02e+14   -2.02e+14\n",
            "LastNotableActivity_Olark Chat Conversation      -1.769e+15   1.26e+07   -1.4e+08      0.000   -1.77e+15   -1.77e+15\n",
            "LastNotableActivity_Page Visited on Website       6.196e+13   1.26e+07   4.92e+06      0.000     6.2e+13     6.2e+13\n",
            "LastNotableActivity_SMS Sent                     -2.024e+14   1.16e+07  -1.74e+07      0.000   -2.02e+14   -2.02e+14\n",
            "LastNotableActivity_Unreachable                   8.738e+14   1.97e+07   4.44e+07      0.000    8.74e+14    8.74e+14\n",
            "LastNotableActivity_Unsubscribed                  1.652e+14   2.72e+07   6.07e+06      0.000    1.65e+14    1.65e+14\n",
            "LastNotableActivity_View in browser link Clicked  1.002e+15   8.79e+07   1.14e+07      0.000       1e+15       1e+15\n",
            "====================================================================================================================\n"
          ]
        }
      ],
      "source": [
        "# Logistic regression model WITH ALL THE COLUMNS\n",
        "logm1 = sm.GLM(y_train,(sm.add_constant(X_train)), family = sm.families.Binomial())\n",
        "print(logm1.fit().summary())"
      ]
    },
    {
      "cell_type": "markdown",
      "metadata": {
        "id": "LnZa3hMcd9ew"
      },
      "source": [
        "### Step 8: Feature Selection Using RFE"
      ]
    },
    {
      "cell_type": "code",
      "execution_count": 123,
      "metadata": {
        "id": "FnyAQTMOd9ew"
      },
      "outputs": [],
      "source": [
        "logreg = LogisticRegression()\n",
        "\n",
        "# running RFE with 20 variables as output\n",
        "\n",
        "rfe = RFE(logreg,n_features_to_select= 20)            \n",
        "rfe = rfe.fit(X_train, y_train)"
      ]
    },
    {
      "cell_type": "code",
      "execution_count": 124,
      "metadata": {
        "id": "FhLSj_1Zd9ew",
        "outputId": "b578f006-dc2e-4c76-b964-d59e56f72cd6",
        "colab": {
          "base_uri": "https://localhost:8080/"
        }
      },
      "outputs": [
        {
          "output_type": "execute_result",
          "data": {
            "text/plain": [
              "array([ True, False,  True,  True,  True,  True, False, False, False,\n",
              "       False, False,  True, False, False, False, False, False, False,\n",
              "       False,  True, False, False, False,  True, False, False, False,\n",
              "        True, False, False, False, False,  True, False, False, False,\n",
              "       False,  True, False, False,  True,  True, False,  True, False,\n",
              "       False, False, False, False,  True,  True, False, False, False,\n",
              "        True, False, False, False, False, False, False, False,  True,\n",
              "        True, False, False, False,  True, False, False])"
            ]
          },
          "metadata": {},
          "execution_count": 124
        }
      ],
      "source": [
        "rfe.support_"
      ]
    },
    {
      "cell_type": "code",
      "execution_count": 125,
      "metadata": {
        "scrolled": true,
        "id": "dtWSt6tpd9ex",
        "outputId": "f9e83f6d-82ac-4eba-f5a9-125979415447",
        "colab": {
          "base_uri": "https://localhost:8080/"
        }
      },
      "outputs": [
        {
          "output_type": "execute_result",
          "data": {
            "text/plain": [
              "[('Do Not Email', True, 1),\n",
              " ('Do Not Call', False, 13),\n",
              " ('TotalVisits', True, 1),\n",
              " ('Total Time Spent on Website', True, 1),\n",
              " ('Page Views Per Visit', True, 1),\n",
              " ('Search', True, 1),\n",
              " ('Digital Advertisement', False, 45),\n",
              " ('Through Recommendations', False, 30),\n",
              " ('A free copy of Mastering The Interview', False, 37),\n",
              " ('LeadOrigin_API', False, 9),\n",
              " ('LeadOrigin_Landing Page Submission', False, 8),\n",
              " ('LeadOrigin_Lead Add Form', True, 1),\n",
              " ('LeadOrigin_Lead Import', False, 20),\n",
              " ('LeadSource_Click2call', False, 29),\n",
              " ('LeadSource_Direct Traffic', False, 16),\n",
              " ('LeadSource_Facebook', False, 10),\n",
              " ('LeadSource_Google', False, 27),\n",
              " ('LeadSource_Live Chat', False, 38),\n",
              " ('LeadSource_NC_EDM', False, 46),\n",
              " ('LeadSource_Olark Chat', True, 1),\n",
              " ('LeadSource_Organic Search', False, 26),\n",
              " ('LeadSource_Pay per Click Ads', False, 47),\n",
              " ('LeadSource_Press_Release', False, 48),\n",
              " ('LeadSource_Reference', True, 1),\n",
              " ('LeadSource_Referral Sites', False, 25),\n",
              " ('LeadSource_Social Media', False, 41),\n",
              " ('LeadSource_WeLearn', False, 50),\n",
              " ('LeadSource_Welingak Website', True, 1),\n",
              " ('LeadSource_bing', False, 18),\n",
              " ('LeadSource_blog', False, 35),\n",
              " ('LeadSource_testone', False, 31),\n",
              " ('LeadSource_welearnblog_Home', False, 39),\n",
              " ('LastActivity_Approached upfront', True, 1),\n",
              " ('LastActivity_Converted to Lead', False, 19),\n",
              " ('LastActivity_Email Bounced', False, 6),\n",
              " ('LastActivity_Email Link Clicked', False, 14),\n",
              " ('LastActivity_Email Marked Spam', False, 17),\n",
              " ('LastActivity_Email Opened', True, 1),\n",
              " ('LastActivity_Email Received', False, 43),\n",
              " ('LastActivity_Form Submitted on Website', False, 34),\n",
              " ('LastActivity_Had a Phone Conversation', True, 1),\n",
              " ('LastActivity_Olark Chat Conversation', True, 1),\n",
              " ('LastActivity_Page Visited on Website', False, 33),\n",
              " ('LastActivity_SMS Sent', True, 1),\n",
              " ('LastActivity_Unknown', False, 7),\n",
              " ('LastActivity_Unreachable', False, 28),\n",
              " ('LastActivity_Unsubscribed', False, 22),\n",
              " ('LastActivity_View in browser link Clicked', False, 24),\n",
              " ('LastActivity_Visited Booth in Tradeshow', False, 40),\n",
              " ('CurrentOccupation_Housewife', True, 1),\n",
              " ('CurrentOccupation_No Information', True, 1),\n",
              " ('CurrentOccupation_Other', False, 36),\n",
              " ('CurrentOccupation_Student', False, 11),\n",
              " ('CurrentOccupation_Unemployed', False, 12),\n",
              " ('CurrentOccupation_Working Professional', True, 1),\n",
              " ('LastNotableActivity_Approached upfront', False, 51),\n",
              " ('LastNotableActivity_Email Bounced', False, 21),\n",
              " ('LastNotableActivity_Email Link Clicked', False, 4),\n",
              " ('LastNotableActivity_Email Marked Spam', False, 15),\n",
              " ('LastNotableActivity_Email Opened', False, 2),\n",
              " ('LastNotableActivity_Email Received', False, 49),\n",
              " ('LastNotableActivity_Form Submitted on Website', False, 44),\n",
              " ('LastNotableActivity_Had a Phone Conversation', True, 1),\n",
              " ('LastNotableActivity_Modified', True, 1),\n",
              " ('LastNotableActivity_Olark Chat Conversation', False, 3),\n",
              " ('LastNotableActivity_Page Visited on Website', False, 5),\n",
              " ('LastNotableActivity_SMS Sent', False, 23),\n",
              " ('LastNotableActivity_Unreachable', True, 1),\n",
              " ('LastNotableActivity_Unsubscribed', False, 42),\n",
              " ('LastNotableActivity_View in browser link Clicked', False, 32)]"
            ]
          },
          "metadata": {},
          "execution_count": 125
        }
      ],
      "source": [
        "list(zip(X_train.columns, rfe.support_, rfe.ranking_))"
      ]
    },
    {
      "cell_type": "code",
      "execution_count": 126,
      "metadata": {
        "id": "c-j_9Z2Cd9ex",
        "outputId": "aa2ef116-9f74-45a8-8f79-e21bbea1820f",
        "colab": {
          "base_uri": "https://localhost:8080/"
        }
      },
      "outputs": [
        {
          "output_type": "execute_result",
          "data": {
            "text/plain": [
              "Index(['Do Not Email', 'TotalVisits', 'Total Time Spent on Website',\n",
              "       'Page Views Per Visit', 'Search', 'LeadOrigin_Lead Add Form',\n",
              "       'LeadSource_Olark Chat', 'LeadSource_Reference',\n",
              "       'LeadSource_Welingak Website', 'LastActivity_Approached upfront',\n",
              "       'LastActivity_Email Opened', 'LastActivity_Had a Phone Conversation',\n",
              "       'LastActivity_Olark Chat Conversation', 'LastActivity_SMS Sent',\n",
              "       'CurrentOccupation_Housewife', 'CurrentOccupation_No Information',\n",
              "       'CurrentOccupation_Working Professional',\n",
              "       'LastNotableActivity_Had a Phone Conversation',\n",
              "       'LastNotableActivity_Modified', 'LastNotableActivity_Unreachable'],\n",
              "      dtype='object')"
            ]
          },
          "metadata": {},
          "execution_count": 126
        }
      ],
      "source": [
        "# VARIABLE CHOOSEN BY RFE\n",
        "\n",
        "col = X_train.columns[rfe.support_]\n",
        "col"
      ]
    },
    {
      "cell_type": "markdown",
      "metadata": {
        "id": "srOnzJgdd9ex"
      },
      "source": [
        "#### Rebuilding Model - Model 2"
      ]
    },
    {
      "cell_type": "code",
      "execution_count": 127,
      "metadata": {
        "id": "Vd5399-id9ex",
        "outputId": "8db2b3d2-6a06-4e07-b106-f2e995046bb3",
        "colab": {
          "base_uri": "https://localhost:8080/"
        }
      },
      "outputs": [
        {
          "output_type": "stream",
          "name": "stdout",
          "text": [
            "                 Generalized Linear Model Regression Results                  \n",
            "==============================================================================\n",
            "Dep. Variable:              Converted   No. Observations:                 6320\n",
            "Model:                            GLM   Df Residuals:                     6299\n",
            "Model Family:                Binomial   Df Model:                           20\n",
            "Link Function:                  logit   Scale:                          1.0000\n",
            "Method:                          IRLS   Log-Likelihood:                -2501.1\n",
            "Date:                Tue, 28 Feb 2023   Deviance:                       5002.3\n",
            "Time:                        06:35:06   Pearson chi2:                 6.53e+03\n",
            "No. Iterations:                    22                                         \n",
            "Covariance Type:            nonrobust                                         \n",
            "================================================================================================================\n",
            "                                                   coef    std err          z      P>|z|      [0.025      0.975]\n",
            "----------------------------------------------------------------------------------------------------------------\n",
            "const                                           -2.5570      0.153    -16.659      0.000      -2.858      -2.256\n",
            "Do Not Email                                    -1.1023      0.176     -6.276      0.000      -1.447      -0.758\n",
            "TotalVisits                                      1.7989      0.290      6.206      0.000       1.231       2.367\n",
            "Total Time Spent on Website                      4.5119      0.169     26.717      0.000       4.181       4.843\n",
            "Page Views Per Visit                            -0.8642      0.250     -3.453      0.001      -1.355      -0.374\n",
            "Search                                          -1.6356      1.011     -1.618      0.106      -3.617       0.346\n",
            "LeadOrigin_Lead Add Form                         3.0358      0.512      5.932      0.000       2.033       4.039\n",
            "LeadSource_Olark Chat                            1.4699      0.134     10.947      0.000       1.207       1.733\n",
            "LeadSource_Reference                             0.6403      0.540      1.185      0.236      -0.418       1.699\n",
            "LeadSource_Welingak Website                      2.6586      0.876      3.036      0.002       0.942       4.375\n",
            "LastActivity_Approached upfront                 23.9469   2.63e+04      0.001      0.999   -5.16e+04    5.17e+04\n",
            "LastActivity_Email Opened                        0.5394      0.117      4.599      0.000       0.310       0.769\n",
            "LastActivity_Had a Phone Conversation            1.1718      0.939      1.248      0.212      -0.668       3.011\n",
            "LastActivity_Olark Chat Conversation            -0.5893      0.190     -3.101      0.002      -0.962      -0.217\n",
            "LastActivity_SMS Sent                            1.7403      0.118     14.697      0.000       1.508       1.972\n",
            "CurrentOccupation_Housewife                     23.9667   2.43e+04      0.001      0.999   -4.76e+04    4.76e+04\n",
            "CurrentOccupation_No Information                -1.2346      0.090    -13.681      0.000      -1.411      -1.058\n",
            "CurrentOccupation_Working Professional           2.6225      0.203     12.889      0.000       2.224       3.021\n",
            "LastNotableActivity_Had a Phone Conversation     2.3799      1.501      1.585      0.113      -0.562       5.322\n",
            "LastNotableActivity_Modified                    -0.5521      0.090     -6.131      0.000      -0.729      -0.376\n",
            "LastNotableActivity_Unreachable                  2.0387      0.556      3.665      0.000       0.948       3.129\n",
            "================================================================================================================\n"
          ]
        }
      ],
      "source": [
        "X_train_sm = sm.add_constant(X_train[col])\n",
        "logm2 = sm.GLM(y_train,X_train_sm, family = sm.families.Binomial())\n",
        "res = logm2.fit()\n",
        "print(res.summary())"
      ]
    },
    {
      "cell_type": "markdown",
      "metadata": {
        "id": "_5XNX5D9d9ey"
      },
      "source": [
        "Removing column LastActivity_Approached_Upfront as it has a high pvalue and hence is insignificant"
      ]
    },
    {
      "cell_type": "code",
      "execution_count": 128,
      "metadata": {
        "id": "WOkywVU5d9ey"
      },
      "outputs": [],
      "source": [
        "col = col.drop('LastActivity_Approached upfront',1)"
      ]
    },
    {
      "cell_type": "markdown",
      "metadata": {
        "id": "BgPSioISd9ey"
      },
      "source": [
        "#### Rebuilding Model - Model 3"
      ]
    },
    {
      "cell_type": "code",
      "execution_count": 129,
      "metadata": {
        "id": "6jEvzawtd9ey",
        "outputId": "d4f2f08c-1b96-4e9a-ca39-c7c150e8e764",
        "colab": {
          "base_uri": "https://localhost:8080/"
        }
      },
      "outputs": [
        {
          "output_type": "stream",
          "name": "stdout",
          "text": [
            "                 Generalized Linear Model Regression Results                  \n",
            "==============================================================================\n",
            "Dep. Variable:              Converted   No. Observations:                 6320\n",
            "Model:                            GLM   Df Residuals:                     6300\n",
            "Model Family:                Binomial   Df Model:                           19\n",
            "Link Function:                  logit   Scale:                          1.0000\n",
            "Method:                          IRLS   Log-Likelihood:                -2506.6\n",
            "Date:                Tue, 28 Feb 2023   Deviance:                       5013.2\n",
            "Time:                        06:35:06   Pearson chi2:                 6.53e+03\n",
            "No. Iterations:                    21                                         \n",
            "Covariance Type:            nonrobust                                         \n",
            "================================================================================================================\n",
            "                                                   coef    std err          z      P>|z|      [0.025      0.975]\n",
            "----------------------------------------------------------------------------------------------------------------\n",
            "const                                           -2.5414      0.153    -16.608      0.000      -2.841      -2.241\n",
            "Do Not Email                                    -1.1140      0.175     -6.350      0.000      -1.458      -0.770\n",
            "TotalVisits                                      1.7878      0.290      6.171      0.000       1.220       2.356\n",
            "Total Time Spent on Website                      4.5173      0.169     26.768      0.000       4.187       4.848\n",
            "Page Views Per Visit                            -0.8483      0.250     -3.393      0.001      -1.338      -0.358\n",
            "Search                                          -1.6363      1.012     -1.617      0.106      -3.620       0.347\n",
            "LeadOrigin_Lead Add Form                         3.0402      0.511      5.946      0.000       2.038       4.042\n",
            "LeadSource_Olark Chat                            1.4873      0.134     11.087      0.000       1.224       1.750\n",
            "LeadSource_Reference                             0.6399      0.540      1.186      0.236      -0.418       1.698\n",
            "LeadSource_Welingak Website                      2.6555      0.875      3.034      0.002       0.940       4.371\n",
            "LastActivity_Email Opened                        0.5164      0.117      4.424      0.000       0.288       0.745\n",
            "LastActivity_Had a Phone Conversation            1.1429      0.939      1.218      0.223      -0.697       2.982\n",
            "LastActivity_Olark Chat Conversation            -0.6220      0.190     -3.282      0.001      -0.994      -0.250\n",
            "LastActivity_SMS Sent                            1.7182      0.118     14.579      0.000       1.487       1.949\n",
            "CurrentOccupation_Housewife                     22.9568   1.47e+04      0.002      0.999   -2.88e+04    2.89e+04\n",
            "CurrentOccupation_No Information                -1.2409      0.090    -13.758      0.000      -1.418      -1.064\n",
            "CurrentOccupation_Working Professional           2.6161      0.203     12.868      0.000       2.218       3.015\n",
            "LastNotableActivity_Had a Phone Conversation     2.3908      1.501      1.592      0.111      -0.552       5.333\n",
            "LastNotableActivity_Modified                    -0.5431      0.090     -6.041      0.000      -0.719      -0.367\n",
            "LastNotableActivity_Unreachable                  2.0197      0.556      3.630      0.000       0.929       3.110\n",
            "================================================================================================================\n"
          ]
        }
      ],
      "source": [
        "X_train_sm = sm.add_constant(X_train[col])\n",
        "logm3 = sm.GLM(y_train,X_train_sm, family = sm.families.Binomial())\n",
        "res = logm3.fit()\n",
        "print(res.summary())"
      ]
    },
    {
      "cell_type": "markdown",
      "metadata": {
        "id": "mzrPEfKyd9ey"
      },
      "source": [
        "Removing column CurrentOccupation_Housewife as it has a high pvalue and hence is insignificant"
      ]
    },
    {
      "cell_type": "code",
      "execution_count": 130,
      "metadata": {
        "id": "CgQTQtj4d9ey"
      },
      "outputs": [],
      "source": [
        "col = col.drop('CurrentOccupation_Housewife',1)"
      ]
    },
    {
      "cell_type": "markdown",
      "metadata": {
        "id": "D_7Mf0Uyd9ey"
      },
      "source": [
        "#### Rebuilding Model - Model 4"
      ]
    },
    {
      "cell_type": "code",
      "execution_count": 131,
      "metadata": {
        "id": "NJt2AhSed9ez",
        "outputId": "1345bbe9-3773-4884-dcd1-214ed3c40a80",
        "colab": {
          "base_uri": "https://localhost:8080/"
        }
      },
      "outputs": [
        {
          "output_type": "stream",
          "name": "stdout",
          "text": [
            "                 Generalized Linear Model Regression Results                  \n",
            "==============================================================================\n",
            "Dep. Variable:              Converted   No. Observations:                 6320\n",
            "Model:                            GLM   Df Residuals:                     6301\n",
            "Model Family:                Binomial   Df Model:                           18\n",
            "Link Function:                  logit   Scale:                          1.0000\n",
            "Method:                          IRLS   Log-Likelihood:                -2513.3\n",
            "Date:                Tue, 28 Feb 2023   Deviance:                       5026.7\n",
            "Time:                        06:35:06   Pearson chi2:                 6.54e+03\n",
            "No. Iterations:                     7                                         \n",
            "Covariance Type:            nonrobust                                         \n",
            "================================================================================================================\n",
            "                                                   coef    std err          z      P>|z|      [0.025      0.975]\n",
            "----------------------------------------------------------------------------------------------------------------\n",
            "const                                           -2.5270      0.153    -16.565      0.000      -2.826      -2.228\n",
            "Do Not Email                                    -1.1188      0.175     -6.380      0.000      -1.463      -0.775\n",
            "TotalVisits                                      1.7768      0.289      6.139      0.000       1.210       2.344\n",
            "Total Time Spent on Website                      4.5123      0.169     26.772      0.000       4.182       4.843\n",
            "Page Views Per Visit                            -0.8528      0.250     -3.414      0.001      -1.342      -0.363\n",
            "Search                                          -1.6358      1.011     -1.619      0.106      -3.617       0.345\n",
            "LeadOrigin_Lead Add Form                         3.0313      0.511      5.930      0.000       2.029       4.033\n",
            "LeadSource_Olark Chat                            1.4768      0.134     11.028      0.000       1.214       1.739\n",
            "LeadSource_Reference                             0.6579      0.539      1.220      0.223      -0.399       1.715\n",
            "LeadSource_Welingak Website                      2.6524      0.875      3.030      0.002       0.937       4.368\n",
            "LastActivity_Email Opened                        0.5166      0.116      4.440      0.000       0.289       0.745\n",
            "LastActivity_Had a Phone Conversation            1.1276      0.939      1.201      0.230      -0.712       2.967\n",
            "LastActivity_Olark Chat Conversation            -0.6290      0.189     -3.322      0.001      -1.000      -0.258\n",
            "LastActivity_SMS Sent                            1.7107      0.118     14.551      0.000       1.480       1.941\n",
            "CurrentOccupation_No Information                -1.2457      0.090    -13.822      0.000      -1.422      -1.069\n",
            "CurrentOccupation_Working Professional           2.6078      0.203     12.834      0.000       2.210       3.006\n",
            "LastNotableActivity_Had a Phone Conversation     2.3999      1.501      1.598      0.110      -0.543       5.343\n",
            "LastNotableActivity_Modified                    -0.5378      0.090     -5.995      0.000      -0.714      -0.362\n",
            "LastNotableActivity_Unreachable                  2.0149      0.556      3.621      0.000       0.924       3.105\n",
            "================================================================================================================\n"
          ]
        }
      ],
      "source": [
        "X_train_sm = sm.add_constant(X_train[col])\n",
        "logm4 = sm.GLM(y_train,X_train_sm, family = sm.families.Binomial())\n",
        "res = logm4.fit()\n",
        "print(res.summary())"
      ]
    },
    {
      "cell_type": "markdown",
      "metadata": {
        "id": "4N0Aw2Sld9ez"
      },
      "source": [
        "Removing column LastActivity_Had a Phone Conversation as it has high pvalue and hence is insignificant"
      ]
    },
    {
      "cell_type": "code",
      "execution_count": 132,
      "metadata": {
        "id": "DcWyVvHAd9ez"
      },
      "outputs": [],
      "source": [
        "col = col.drop('LastActivity_Had a Phone Conversation',1)"
      ]
    },
    {
      "cell_type": "markdown",
      "metadata": {
        "id": "LOqFN66Fd9ez"
      },
      "source": [
        "#### Rebuilding Model - Model 5"
      ]
    },
    {
      "cell_type": "code",
      "execution_count": 133,
      "metadata": {
        "id": "oLw4SNHhd9ez",
        "outputId": "6925c42e-23b7-4b98-8aa4-d987d0fba915",
        "colab": {
          "base_uri": "https://localhost:8080/"
        }
      },
      "outputs": [
        {
          "output_type": "stream",
          "name": "stdout",
          "text": [
            "                 Generalized Linear Model Regression Results                  \n",
            "==============================================================================\n",
            "Dep. Variable:              Converted   No. Observations:                 6320\n",
            "Model:                            GLM   Df Residuals:                     6302\n",
            "Model Family:                Binomial   Df Model:                           17\n",
            "Link Function:                  logit   Scale:                          1.0000\n",
            "Method:                          IRLS   Log-Likelihood:                -2514.1\n",
            "Date:                Tue, 28 Feb 2023   Deviance:                       5028.2\n",
            "Time:                        06:35:06   Pearson chi2:                 6.30e+03\n",
            "No. Iterations:                     7                                         \n",
            "Covariance Type:            nonrobust                                         \n",
            "================================================================================================================\n",
            "                                                   coef    std err          z      P>|z|      [0.025      0.975]\n",
            "----------------------------------------------------------------------------------------------------------------\n",
            "const                                           -2.5174      0.152    -16.541      0.000      -2.816      -2.219\n",
            "Do Not Email                                    -1.1242      0.175     -6.414      0.000      -1.468      -0.781\n",
            "TotalVisits                                      1.7711      0.289      6.122      0.000       1.204       2.338\n",
            "Total Time Spent on Website                      4.5135      0.169     26.784      0.000       4.183       4.844\n",
            "Page Views Per Visit                            -0.8513      0.250     -3.409      0.001      -1.341      -0.362\n",
            "Search                                          -1.6344      1.011     -1.617      0.106      -3.615       0.346\n",
            "LeadOrigin_Lead Add Form                         3.0307      0.511      5.931      0.000       2.029       4.032\n",
            "LeadSource_Olark Chat                            1.4756      0.134     11.022      0.000       1.213       1.738\n",
            "LeadSource_Reference                             0.6636      0.539      1.231      0.219      -0.393       1.721\n",
            "LeadSource_Welingak Website                      2.6507      0.875      3.029      0.002       0.935       4.366\n",
            "LastActivity_Email Opened                        0.5072      0.116      4.373      0.000       0.280       0.735\n",
            "LastActivity_Olark Chat Conversation            -0.6397      0.189     -3.383      0.001      -1.010      -0.269\n",
            "LastActivity_SMS Sent                            1.7015      0.117     14.517      0.000       1.472       1.931\n",
            "CurrentOccupation_No Information                -1.2474      0.090    -13.845      0.000      -1.424      -1.071\n",
            "CurrentOccupation_Working Professional           2.6117      0.203     12.860      0.000       2.214       3.010\n",
            "LastNotableActivity_Had a Phone Conversation     3.5194      1.177      2.989      0.003       1.212       5.827\n",
            "LastNotableActivity_Modified                    -0.5343      0.090     -5.961      0.000      -0.710      -0.359\n",
            "LastNotableActivity_Unreachable                  2.0066      0.556      3.606      0.000       0.916       3.097\n",
            "================================================================================================================\n"
          ]
        }
      ],
      "source": [
        "X_train_sm = sm.add_constant(X_train[col])\n",
        "logm5 = sm.GLM(y_train,X_train_sm, family = sm.families.Binomial())\n",
        "res = logm5.fit()\n",
        "print(res.summary())"
      ]
    },
    {
      "cell_type": "markdown",
      "metadata": {
        "id": "o6Uqskfmd9e0"
      },
      "source": [
        "Removing column LeadSource_Reference as it has high pvalue and hence is insignificant "
      ]
    },
    {
      "cell_type": "code",
      "execution_count": 134,
      "metadata": {
        "id": "n76wQzU2d9e0"
      },
      "outputs": [],
      "source": [
        "col = col.drop('LeadSource_Reference',1)"
      ]
    },
    {
      "cell_type": "markdown",
      "metadata": {
        "id": "xCwHRNXgd9e0"
      },
      "source": [
        "#### Rebuilding Model - Model 6"
      ]
    },
    {
      "cell_type": "code",
      "execution_count": 135,
      "metadata": {
        "id": "BvAxZ3XRd9e0",
        "outputId": "75f85764-06a7-4a10-83dc-91640b51a003",
        "colab": {
          "base_uri": "https://localhost:8080/"
        }
      },
      "outputs": [
        {
          "output_type": "stream",
          "name": "stdout",
          "text": [
            "                 Generalized Linear Model Regression Results                  \n",
            "==============================================================================\n",
            "Dep. Variable:              Converted   No. Observations:                 6320\n",
            "Model:                            GLM   Df Residuals:                     6303\n",
            "Model Family:                Binomial   Df Model:                           16\n",
            "Link Function:                  logit   Scale:                          1.0000\n",
            "Method:                          IRLS   Log-Likelihood:                -2514.8\n",
            "Date:                Tue, 28 Feb 2023   Deviance:                       5029.6\n",
            "Time:                        06:35:07   Pearson chi2:                 6.28e+03\n",
            "No. Iterations:                     7                                         \n",
            "Covariance Type:            nonrobust                                         \n",
            "================================================================================================================\n",
            "                                                   coef    std err          z      P>|z|      [0.025      0.975]\n",
            "----------------------------------------------------------------------------------------------------------------\n",
            "const                                           -2.5134      0.152    -16.526      0.000      -2.811      -2.215\n",
            "Do Not Email                                    -1.1458      0.175     -6.537      0.000      -1.489      -0.802\n",
            "TotalVisits                                      1.7681      0.289      6.111      0.000       1.201       2.335\n",
            "Total Time Spent on Website                      4.5139      0.168     26.791      0.000       4.184       4.844\n",
            "Page Views Per Visit                            -0.8508      0.250     -3.407      0.001      -1.340      -0.361\n",
            "Search                                          -1.6345      1.011     -1.617      0.106      -3.615       0.346\n",
            "LeadOrigin_Lead Add Form                         3.6170      0.208     17.383      0.000       3.209       4.025\n",
            "LeadSource_Olark Chat                            1.4744      0.134     11.013      0.000       1.212       1.737\n",
            "LeadSource_Welingak Website                      2.0666      0.742      2.786      0.005       0.613       3.520\n",
            "LastActivity_Email Opened                        0.5049      0.116      4.358      0.000       0.278       0.732\n",
            "LastActivity_Olark Chat Conversation            -0.6424      0.189     -3.399      0.001      -1.013      -0.272\n",
            "LastActivity_SMS Sent                            1.6972      0.117     14.497      0.000       1.468       1.927\n",
            "CurrentOccupation_No Information                -1.2473      0.090    -13.844      0.000      -1.424      -1.071\n",
            "CurrentOccupation_Working Professional           2.6144      0.203     12.880      0.000       2.217       3.012\n",
            "LastNotableActivity_Had a Phone Conversation     3.5160      1.177      2.986      0.003       1.208       5.824\n",
            "LastNotableActivity_Modified                    -0.5339      0.090     -5.958      0.000      -0.710      -0.358\n",
            "LastNotableActivity_Unreachable                  2.0050      0.556      3.606      0.000       0.915       3.095\n",
            "================================================================================================================\n"
          ]
        }
      ],
      "source": [
        "X_train_sm = sm.add_constant(X_train[col])\n",
        "logm6 = sm.GLM(y_train,X_train_sm, family = sm.families.Binomial())\n",
        "res = logm6.fit()\n",
        "print(res.summary())"
      ]
    },
    {
      "cell_type": "markdown",
      "metadata": {
        "id": "ud3r01a1d9e0"
      },
      "source": [
        "Removing column Search as it has high pvalue and hence insignificant\n",
        "\n",
        "> Indented block\n",
        "\n"
      ]
    },
    {
      "cell_type": "code",
      "execution_count": 136,
      "metadata": {
        "id": "npm8tJLed9e0"
      },
      "outputs": [],
      "source": [
        "col = col.drop('Search',1)"
      ]
    },
    {
      "cell_type": "markdown",
      "metadata": {
        "id": "JVhrU2xQd9e0"
      },
      "source": [
        "#### Rebuilding Model - Model 7"
      ]
    },
    {
      "cell_type": "code",
      "execution_count": 137,
      "metadata": {
        "id": "bGp4isIOd9e1",
        "outputId": "e3e11fea-d074-4138-afc4-5075cb0a14c2",
        "colab": {
          "base_uri": "https://localhost:8080/"
        }
      },
      "outputs": [
        {
          "output_type": "stream",
          "name": "stdout",
          "text": [
            "                 Generalized Linear Model Regression Results                  \n",
            "==============================================================================\n",
            "Dep. Variable:              Converted   No. Observations:                 6320\n",
            "Model:                            GLM   Df Residuals:                     6304\n",
            "Model Family:                Binomial   Df Model:                           15\n",
            "Link Function:                  logit   Scale:                          1.0000\n",
            "Method:                          IRLS   Log-Likelihood:                -2516.2\n",
            "Date:                Tue, 28 Feb 2023   Deviance:                       5032.5\n",
            "Time:                        06:35:07   Pearson chi2:                 6.28e+03\n",
            "No. Iterations:                     7                                         \n",
            "Covariance Type:            nonrobust                                         \n",
            "================================================================================================================\n",
            "                                                   coef    std err          z      P>|z|      [0.025      0.975]\n",
            "----------------------------------------------------------------------------------------------------------------\n",
            "const                                           -2.5028      0.152    -16.475      0.000      -2.801      -2.205\n",
            "Do Not Email                                    -1.1452      0.175     -6.536      0.000      -1.489      -0.802\n",
            "TotalVisits                                      1.7397      0.289      6.023      0.000       1.174       2.306\n",
            "Total Time Spent on Website                      4.5109      0.168     26.784      0.000       4.181       4.841\n",
            "Page Views Per Visit                            -0.8591      0.250     -3.442      0.001      -1.348      -0.370\n",
            "LeadOrigin_Lead Add Form                         3.6099      0.208     17.356      0.000       3.202       4.018\n",
            "LeadSource_Olark Chat                            1.4653      0.134     10.951      0.000       1.203       1.728\n",
            "LeadSource_Welingak Website                      2.0660      0.742      2.786      0.005       0.612       3.520\n",
            "LastActivity_Email Opened                        0.5006      0.116      4.323      0.000       0.274       0.728\n",
            "LastActivity_Olark Chat Conversation            -0.6438      0.189     -3.408      0.001      -1.014      -0.273\n",
            "LastActivity_SMS Sent                            1.6955      0.117     14.489      0.000       1.466       1.925\n",
            "CurrentOccupation_No Information                -1.2447      0.090    -13.822      0.000      -1.421      -1.068\n",
            "CurrentOccupation_Working Professional           2.6123      0.203     12.869      0.000       2.214       3.010\n",
            "LastNotableActivity_Had a Phone Conversation     3.5184      1.176      2.991      0.003       1.213       5.824\n",
            "LastNotableActivity_Modified                    -0.5330      0.090     -5.949      0.000      -0.709      -0.357\n",
            "LastNotableActivity_Unreachable                  2.0055      0.556      3.607      0.000       0.916       3.095\n",
            "================================================================================================================\n"
          ]
        }
      ],
      "source": [
        "X_train_sm = sm.add_constant(X_train[col])\n",
        "logm7 = sm.GLM(y_train,X_train_sm, family = sm.families.Binomial())\n",
        "res = logm7.fit()\n",
        "print(res.summary())"
      ]
    },
    {
      "cell_type": "markdown",
      "metadata": {
        "id": "sYOL_cR1d9e1"
      },
      "source": [
        "Since the Model 7 seems to be stable with significant pvalues, we shall go ahead with this model for further analysis"
      ]
    },
    {
      "cell_type": "code",
      "execution_count": 138,
      "metadata": {
        "id": "8KQpWAGFd9e1",
        "outputId": "1f1ecf8a-1b18-4e24-fee2-2d3167f5a6e3",
        "colab": {
          "base_uri": "https://localhost:8080/"
        }
      },
      "outputs": [
        {
          "output_type": "execute_result",
          "data": {
            "text/plain": [
              "2240    0.692600\n",
              "113     0.539248\n",
              "4132    0.718698\n",
              "5573    0.133628\n",
              "1109    0.014225\n",
              "2282    0.031692\n",
              "2976    0.854208\n",
              "8431    0.399257\n",
              "2770    0.745493\n",
              "5790    0.995570\n",
              "dtype: float64"
            ]
          },
          "metadata": {},
          "execution_count": 138
        }
      ],
      "source": [
        "# predicted value on train set\n",
        "\n",
        "y_train_pred = res.predict(X_train_sm)\n",
        "y_train_pred[:10]"
      ]
    },
    {
      "cell_type": "code",
      "execution_count": 139,
      "metadata": {
        "id": "hbWZLrC5d9e1",
        "outputId": "5588f225-accb-45e9-a803-69ed8f4853ca",
        "colab": {
          "base_uri": "https://localhost:8080/"
        }
      },
      "outputs": [
        {
          "output_type": "execute_result",
          "data": {
            "text/plain": [
              "array([0.69260021, 0.53924773, 0.71869827, 0.13362844, 0.01422486,\n",
              "       0.03169166, 0.85420845, 0.39925732, 0.74549262, 0.99556994])"
            ]
          },
          "metadata": {},
          "execution_count": 139
        }
      ],
      "source": [
        "# Reshape\n",
        "\n",
        "y_train_pred = y_train_pred.values.reshape(-1)\n",
        "y_train_pred[:10]"
      ]
    },
    {
      "cell_type": "markdown",
      "metadata": {
        "id": "qA8XhBJDd9e2"
      },
      "source": [
        "##### PREDICTED DATAFRAME"
      ]
    },
    {
      "cell_type": "code",
      "execution_count": 140,
      "metadata": {
        "id": "s3RwazLqd9e2",
        "outputId": "73cdf118-f68f-4523-ea95-cef4268ce03e",
        "colab": {
          "base_uri": "https://localhost:8080/",
          "height": 206
        }
      },
      "outputs": [
        {
          "output_type": "execute_result",
          "data": {
            "text/plain": [
              "   Converted  Converted_Prob  LeadId\n",
              "0          0        0.692600    2240\n",
              "1          0        0.539248     113\n",
              "2          1        0.718698    4132\n",
              "3          0        0.133628    5573\n",
              "4          0        0.014225    1109"
            ],
            "text/html": [
              "\n",
              "  <div id=\"df-ff4aeb05-8fc1-41f7-92c6-18b1fd0823ad\">\n",
              "    <div class=\"colab-df-container\">\n",
              "      <div>\n",
              "<style scoped>\n",
              "    .dataframe tbody tr th:only-of-type {\n",
              "        vertical-align: middle;\n",
              "    }\n",
              "\n",
              "    .dataframe tbody tr th {\n",
              "        vertical-align: top;\n",
              "    }\n",
              "\n",
              "    .dataframe thead th {\n",
              "        text-align: right;\n",
              "    }\n",
              "</style>\n",
              "<table border=\"1\" class=\"dataframe\">\n",
              "  <thead>\n",
              "    <tr style=\"text-align: right;\">\n",
              "      <th></th>\n",
              "      <th>Converted</th>\n",
              "      <th>Converted_Prob</th>\n",
              "      <th>LeadId</th>\n",
              "    </tr>\n",
              "  </thead>\n",
              "  <tbody>\n",
              "    <tr>\n",
              "      <th>0</th>\n",
              "      <td>0</td>\n",
              "      <td>0.692600</td>\n",
              "      <td>2240</td>\n",
              "    </tr>\n",
              "    <tr>\n",
              "      <th>1</th>\n",
              "      <td>0</td>\n",
              "      <td>0.539248</td>\n",
              "      <td>113</td>\n",
              "    </tr>\n",
              "    <tr>\n",
              "      <th>2</th>\n",
              "      <td>1</td>\n",
              "      <td>0.718698</td>\n",
              "      <td>4132</td>\n",
              "    </tr>\n",
              "    <tr>\n",
              "      <th>3</th>\n",
              "      <td>0</td>\n",
              "      <td>0.133628</td>\n",
              "      <td>5573</td>\n",
              "    </tr>\n",
              "    <tr>\n",
              "      <th>4</th>\n",
              "      <td>0</td>\n",
              "      <td>0.014225</td>\n",
              "      <td>1109</td>\n",
              "    </tr>\n",
              "  </tbody>\n",
              "</table>\n",
              "</div>\n",
              "      <button class=\"colab-df-convert\" onclick=\"convertToInteractive('df-ff4aeb05-8fc1-41f7-92c6-18b1fd0823ad')\"\n",
              "              title=\"Convert this dataframe to an interactive table.\"\n",
              "              style=\"display:none;\">\n",
              "        \n",
              "  <svg xmlns=\"http://www.w3.org/2000/svg\" height=\"24px\"viewBox=\"0 0 24 24\"\n",
              "       width=\"24px\">\n",
              "    <path d=\"M0 0h24v24H0V0z\" fill=\"none\"/>\n",
              "    <path d=\"M18.56 5.44l.94 2.06.94-2.06 2.06-.94-2.06-.94-.94-2.06-.94 2.06-2.06.94zm-11 1L8.5 8.5l.94-2.06 2.06-.94-2.06-.94L8.5 2.5l-.94 2.06-2.06.94zm10 10l.94 2.06.94-2.06 2.06-.94-2.06-.94-.94-2.06-.94 2.06-2.06.94z\"/><path d=\"M17.41 7.96l-1.37-1.37c-.4-.4-.92-.59-1.43-.59-.52 0-1.04.2-1.43.59L10.3 9.45l-7.72 7.72c-.78.78-.78 2.05 0 2.83L4 21.41c.39.39.9.59 1.41.59.51 0 1.02-.2 1.41-.59l7.78-7.78 2.81-2.81c.8-.78.8-2.07 0-2.86zM5.41 20L4 18.59l7.72-7.72 1.47 1.35L5.41 20z\"/>\n",
              "  </svg>\n",
              "      </button>\n",
              "      \n",
              "  <style>\n",
              "    .colab-df-container {\n",
              "      display:flex;\n",
              "      flex-wrap:wrap;\n",
              "      gap: 12px;\n",
              "    }\n",
              "\n",
              "    .colab-df-convert {\n",
              "      background-color: #E8F0FE;\n",
              "      border: none;\n",
              "      border-radius: 50%;\n",
              "      cursor: pointer;\n",
              "      display: none;\n",
              "      fill: #1967D2;\n",
              "      height: 32px;\n",
              "      padding: 0 0 0 0;\n",
              "      width: 32px;\n",
              "    }\n",
              "\n",
              "    .colab-df-convert:hover {\n",
              "      background-color: #E2EBFA;\n",
              "      box-shadow: 0px 1px 2px rgba(60, 64, 67, 0.3), 0px 1px 3px 1px rgba(60, 64, 67, 0.15);\n",
              "      fill: #174EA6;\n",
              "    }\n",
              "\n",
              "    [theme=dark] .colab-df-convert {\n",
              "      background-color: #3B4455;\n",
              "      fill: #D2E3FC;\n",
              "    }\n",
              "\n",
              "    [theme=dark] .colab-df-convert:hover {\n",
              "      background-color: #434B5C;\n",
              "      box-shadow: 0px 1px 3px 1px rgba(0, 0, 0, 0.15);\n",
              "      filter: drop-shadow(0px 1px 2px rgba(0, 0, 0, 0.3));\n",
              "      fill: #FFFFFF;\n",
              "    }\n",
              "  </style>\n",
              "\n",
              "      <script>\n",
              "        const buttonEl =\n",
              "          document.querySelector('#df-ff4aeb05-8fc1-41f7-92c6-18b1fd0823ad button.colab-df-convert');\n",
              "        buttonEl.style.display =\n",
              "          google.colab.kernel.accessAllowed ? 'block' : 'none';\n",
              "\n",
              "        async function convertToInteractive(key) {\n",
              "          const element = document.querySelector('#df-ff4aeb05-8fc1-41f7-92c6-18b1fd0823ad');\n",
              "          const dataTable =\n",
              "            await google.colab.kernel.invokeFunction('convertToInteractive',\n",
              "                                                     [key], {});\n",
              "          if (!dataTable) return;\n",
              "\n",
              "          const docLinkHtml = 'Like what you see? Visit the ' +\n",
              "            '<a target=\"_blank\" href=https://colab.research.google.com/notebooks/data_table.ipynb>data table notebook</a>'\n",
              "            + ' to learn more about interactive tables.';\n",
              "          element.innerHTML = '';\n",
              "          dataTable['output_type'] = 'display_data';\n",
              "          await google.colab.output.renderOutput(dataTable, element);\n",
              "          const docLink = document.createElement('div');\n",
              "          docLink.innerHTML = docLinkHtml;\n",
              "          element.appendChild(docLink);\n",
              "        }\n",
              "      </script>\n",
              "    </div>\n",
              "  </div>\n",
              "  "
            ]
          },
          "metadata": {},
          "execution_count": 140
        }
      ],
      "source": [
        "y_train_pred_final = pd.DataFrame({'Converted':y_train.values, 'Converted_Prob':y_train_pred})\n",
        "y_train_pred_final['LeadId'] = y_train.index\n",
        "y_train_pred_final.head()"
      ]
    },
    {
      "cell_type": "markdown",
      "metadata": {
        "id": "oJJb4sbWd9e3"
      },
      "source": [
        "##### Creating new column 'predicted' with 1 if Converted_Prob > 0.5 else 0"
      ]
    },
    {
      "cell_type": "code",
      "execution_count": 141,
      "metadata": {
        "id": "pEjD0xfJd9e3",
        "outputId": "e2e7b506-d12f-420d-826d-05e53e731641",
        "colab": {
          "base_uri": "https://localhost:8080/",
          "height": 206
        }
      },
      "outputs": [
        {
          "output_type": "execute_result",
          "data": {
            "text/plain": [
              "   Converted  Converted_Prob  LeadId  predicted\n",
              "0          0        0.692600    2240          1\n",
              "1          0        0.539248     113          1\n",
              "2          1        0.718698    4132          1\n",
              "3          0        0.133628    5573          0\n",
              "4          0        0.014225    1109          0"
            ],
            "text/html": [
              "\n",
              "  <div id=\"df-9a0c1b24-e8b4-4552-b2e8-a245d0087ab7\">\n",
              "    <div class=\"colab-df-container\">\n",
              "      <div>\n",
              "<style scoped>\n",
              "    .dataframe tbody tr th:only-of-type {\n",
              "        vertical-align: middle;\n",
              "    }\n",
              "\n",
              "    .dataframe tbody tr th {\n",
              "        vertical-align: top;\n",
              "    }\n",
              "\n",
              "    .dataframe thead th {\n",
              "        text-align: right;\n",
              "    }\n",
              "</style>\n",
              "<table border=\"1\" class=\"dataframe\">\n",
              "  <thead>\n",
              "    <tr style=\"text-align: right;\">\n",
              "      <th></th>\n",
              "      <th>Converted</th>\n",
              "      <th>Converted_Prob</th>\n",
              "      <th>LeadId</th>\n",
              "      <th>predicted</th>\n",
              "    </tr>\n",
              "  </thead>\n",
              "  <tbody>\n",
              "    <tr>\n",
              "      <th>0</th>\n",
              "      <td>0</td>\n",
              "      <td>0.692600</td>\n",
              "      <td>2240</td>\n",
              "      <td>1</td>\n",
              "    </tr>\n",
              "    <tr>\n",
              "      <th>1</th>\n",
              "      <td>0</td>\n",
              "      <td>0.539248</td>\n",
              "      <td>113</td>\n",
              "      <td>1</td>\n",
              "    </tr>\n",
              "    <tr>\n",
              "      <th>2</th>\n",
              "      <td>1</td>\n",
              "      <td>0.718698</td>\n",
              "      <td>4132</td>\n",
              "      <td>1</td>\n",
              "    </tr>\n",
              "    <tr>\n",
              "      <th>3</th>\n",
              "      <td>0</td>\n",
              "      <td>0.133628</td>\n",
              "      <td>5573</td>\n",
              "      <td>0</td>\n",
              "    </tr>\n",
              "    <tr>\n",
              "      <th>4</th>\n",
              "      <td>0</td>\n",
              "      <td>0.014225</td>\n",
              "      <td>1109</td>\n",
              "      <td>0</td>\n",
              "    </tr>\n",
              "  </tbody>\n",
              "</table>\n",
              "</div>\n",
              "      <button class=\"colab-df-convert\" onclick=\"convertToInteractive('df-9a0c1b24-e8b4-4552-b2e8-a245d0087ab7')\"\n",
              "              title=\"Convert this dataframe to an interactive table.\"\n",
              "              style=\"display:none;\">\n",
              "        \n",
              "  <svg xmlns=\"http://www.w3.org/2000/svg\" height=\"24px\"viewBox=\"0 0 24 24\"\n",
              "       width=\"24px\">\n",
              "    <path d=\"M0 0h24v24H0V0z\" fill=\"none\"/>\n",
              "    <path d=\"M18.56 5.44l.94 2.06.94-2.06 2.06-.94-2.06-.94-.94-2.06-.94 2.06-2.06.94zm-11 1L8.5 8.5l.94-2.06 2.06-.94-2.06-.94L8.5 2.5l-.94 2.06-2.06.94zm10 10l.94 2.06.94-2.06 2.06-.94-2.06-.94-.94-2.06-.94 2.06-2.06.94z\"/><path d=\"M17.41 7.96l-1.37-1.37c-.4-.4-.92-.59-1.43-.59-.52 0-1.04.2-1.43.59L10.3 9.45l-7.72 7.72c-.78.78-.78 2.05 0 2.83L4 21.41c.39.39.9.59 1.41.59.51 0 1.02-.2 1.41-.59l7.78-7.78 2.81-2.81c.8-.78.8-2.07 0-2.86zM5.41 20L4 18.59l7.72-7.72 1.47 1.35L5.41 20z\"/>\n",
              "  </svg>\n",
              "      </button>\n",
              "      \n",
              "  <style>\n",
              "    .colab-df-container {\n",
              "      display:flex;\n",
              "      flex-wrap:wrap;\n",
              "      gap: 12px;\n",
              "    }\n",
              "\n",
              "    .colab-df-convert {\n",
              "      background-color: #E8F0FE;\n",
              "      border: none;\n",
              "      border-radius: 50%;\n",
              "      cursor: pointer;\n",
              "      display: none;\n",
              "      fill: #1967D2;\n",
              "      height: 32px;\n",
              "      padding: 0 0 0 0;\n",
              "      width: 32px;\n",
              "    }\n",
              "\n",
              "    .colab-df-convert:hover {\n",
              "      background-color: #E2EBFA;\n",
              "      box-shadow: 0px 1px 2px rgba(60, 64, 67, 0.3), 0px 1px 3px 1px rgba(60, 64, 67, 0.15);\n",
              "      fill: #174EA6;\n",
              "    }\n",
              "\n",
              "    [theme=dark] .colab-df-convert {\n",
              "      background-color: #3B4455;\n",
              "      fill: #D2E3FC;\n",
              "    }\n",
              "\n",
              "    [theme=dark] .colab-df-convert:hover {\n",
              "      background-color: #434B5C;\n",
              "      box-shadow: 0px 1px 3px 1px rgba(0, 0, 0, 0.15);\n",
              "      filter: drop-shadow(0px 1px 2px rgba(0, 0, 0, 0.3));\n",
              "      fill: #FFFFFF;\n",
              "    }\n",
              "  </style>\n",
              "\n",
              "      <script>\n",
              "        const buttonEl =\n",
              "          document.querySelector('#df-9a0c1b24-e8b4-4552-b2e8-a245d0087ab7 button.colab-df-convert');\n",
              "        buttonEl.style.display =\n",
              "          google.colab.kernel.accessAllowed ? 'block' : 'none';\n",
              "\n",
              "        async function convertToInteractive(key) {\n",
              "          const element = document.querySelector('#df-9a0c1b24-e8b4-4552-b2e8-a245d0087ab7');\n",
              "          const dataTable =\n",
              "            await google.colab.kernel.invokeFunction('convertToInteractive',\n",
              "                                                     [key], {});\n",
              "          if (!dataTable) return;\n",
              "\n",
              "          const docLinkHtml = 'Like what you see? Visit the ' +\n",
              "            '<a target=\"_blank\" href=https://colab.research.google.com/notebooks/data_table.ipynb>data table notebook</a>'\n",
              "            + ' to learn more about interactive tables.';\n",
              "          element.innerHTML = '';\n",
              "          dataTable['output_type'] = 'display_data';\n",
              "          await google.colab.output.renderOutput(dataTable, element);\n",
              "          const docLink = document.createElement('div');\n",
              "          docLink.innerHTML = docLinkHtml;\n",
              "          element.appendChild(docLink);\n",
              "        }\n",
              "      </script>\n",
              "    </div>\n",
              "  </div>\n",
              "  "
            ]
          },
          "metadata": {},
          "execution_count": 141
        }
      ],
      "source": [
        "y_train_pred_final['predicted'] = y_train_pred_final.Converted_Prob.map(lambda x: 1 if x > 0.5 else 0)\n",
        "y_train_pred_final.head()"
      ]
    },
    {
      "cell_type": "code",
      "execution_count": 142,
      "metadata": {
        "id": "VEW-QBUOd9e4",
        "outputId": "9bd29a1a-e143-4fd5-8265-84582eec0863",
        "colab": {
          "base_uri": "https://localhost:8080/"
        }
      },
      "outputs": [
        {
          "output_type": "stream",
          "name": "stdout",
          "text": [
            "[[3412  446]\n",
            " [ 712 1750]]\n"
          ]
        }
      ],
      "source": [
        "# Confusion matrix \n",
        "\n",
        "confusion = metrics.confusion_matrix(y_train_pred_final.Converted, y_train_pred_final.predicted )\n",
        "print(confusion)"
      ]
    },
    {
      "cell_type": "code",
      "execution_count": 143,
      "metadata": {
        "id": "ZhKmETipd9e5",
        "outputId": "12f5feb4-fa43-474a-fe0c-b43b4b25e935",
        "colab": {
          "base_uri": "https://localhost:8080/"
        }
      },
      "outputs": [
        {
          "output_type": "stream",
          "name": "stdout",
          "text": [
            "0.8167721518987342\n"
          ]
        }
      ],
      "source": [
        "# Overall accuracy.\n",
        "\n",
        "print(metrics.accuracy_score(y_train_pred_final.Converted, y_train_pred_final.predicted))"
      ]
    },
    {
      "cell_type": "markdown",
      "metadata": {
        "id": "bofrpcUmd9e5"
      },
      "source": [
        "Accuracy rate is around 81% which is good. However we will also need to calculate the other metrics as we cannot depend only \n",
        "on the accuracy metrics"
      ]
    },
    {
      "cell_type": "markdown",
      "metadata": {
        "id": "cbNgmKPyd9e5"
      },
      "source": [
        "##### Checking VIFs"
      ]
    },
    {
      "cell_type": "code",
      "execution_count": 144,
      "metadata": {
        "id": "Ern8gWkDd9e6",
        "outputId": "a2b7133c-77fd-4dd6-8bfb-df2c9ac8ca3f",
        "colab": {
          "base_uri": "https://localhost:8080/"
        }
      },
      "outputs": [
        {
          "output_type": "stream",
          "name": "stdout",
          "text": [
            "                                        Features   VIF\n",
            "3                           Page Views Per Visit  6.11\n",
            "1                                    TotalVisits  4.70\n",
            "7                      LastActivity_Email Opened  2.37\n",
            "2                    Total Time Spent on Website  2.14\n",
            "9                          LastActivity_SMS Sent  2.12\n",
            "5                          LeadSource_Olark Chat  2.10\n",
            "13                  LastNotableActivity_Modified  1.78\n",
            "8           LastActivity_Olark Chat Conversation  1.76\n",
            "4                       LeadOrigin_Lead Add Form  1.62\n",
            "10              CurrentOccupation_No Information  1.57\n",
            "6                    LeadSource_Welingak Website  1.30\n",
            "11        CurrentOccupation_Working Professional  1.18\n",
            "0                                   Do Not Email  1.14\n",
            "14               LastNotableActivity_Unreachable  1.02\n",
            "12  LastNotableActivity_Had a Phone Conversation  1.01\n"
          ]
        }
      ],
      "source": [
        "# Feature variables and their respective VIFs\n",
        "\n",
        "vif = pd.DataFrame()\n",
        "vif['Features'] = X_train[col].columns\n",
        "vif['VIF'] = [variance_inflation_factor(X_train[col].values, i) for i in range(X_train[col].shape[1])]\n",
        "vif['VIF'] = round(vif['VIF'], 2)\n",
        "vif = vif.sort_values(by = \"VIF\", ascending = False)\n",
        "print(vif)"
      ]
    },
    {
      "cell_type": "markdown",
      "metadata": {
        "id": "-jBUVPuXd9e6"
      },
      "source": [
        "All variables have a good value of VIF. So we need not drop any more variables and we can proceed with making predictions using this model only"
      ]
    },
    {
      "cell_type": "markdown",
      "metadata": {
        "id": "Xj3mEeo1d9e6"
      },
      "source": [
        "##### Metrics - Sensitivity, Specificity, False Positive Rate, Postitive Predictive Value and Negative Predictive Value"
      ]
    },
    {
      "cell_type": "code",
      "execution_count": 145,
      "metadata": {
        "id": "KejnykLTd9e7"
      },
      "outputs": [],
      "source": [
        "TP = confusion[1,1] # true positive \n",
        "TN = confusion[0,0] # true negatives\n",
        "FP = confusion[0,1] # false positives\n",
        "FN = confusion[1,0] # false negatives"
      ]
    },
    {
      "cell_type": "code",
      "execution_count": 146,
      "metadata": {
        "id": "TswZftwFd9e7",
        "outputId": "a6bd75ba-c79a-4ca8-89d1-aaf098639350",
        "colab": {
          "base_uri": "https://localhost:8080/"
        }
      },
      "outputs": [
        {
          "output_type": "execute_result",
          "data": {
            "text/plain": [
              "0.710804224207961"
            ]
          },
          "metadata": {},
          "execution_count": 146
        }
      ],
      "source": [
        "# Sensitivity of our logistic regression model\n",
        "\n",
        "TP / float(TP+FN)"
      ]
    },
    {
      "cell_type": "code",
      "execution_count": 147,
      "metadata": {
        "id": "HJtWx_Jvd9e8",
        "outputId": "1d0e8339-d4ec-4154-c1b9-4079fa1e4f27",
        "colab": {
          "base_uri": "https://localhost:8080/"
        }
      },
      "outputs": [
        {
          "output_type": "execute_result",
          "data": {
            "text/plain": [
              "0.8843960601347849"
            ]
          },
          "metadata": {},
          "execution_count": 147
        }
      ],
      "source": [
        "# Calculate specificity\n",
        "\n",
        "TN / float(TN+FP)"
      ]
    },
    {
      "cell_type": "code",
      "execution_count": 148,
      "metadata": {
        "id": "5ZhTgGeGd9e8",
        "outputId": "05d045e1-f1b0-4cb1-c698-609e82bb778d",
        "colab": {
          "base_uri": "https://localhost:8080/"
        }
      },
      "outputs": [
        {
          "output_type": "stream",
          "name": "stdout",
          "text": [
            "0.11560393986521514\n"
          ]
        }
      ],
      "source": [
        "# Calculate false postive rate - predicting non conversion when leads have converted\n",
        "\n",
        "print(FP/ float(TN+FP))"
      ]
    },
    {
      "cell_type": "code",
      "execution_count": 149,
      "metadata": {
        "id": "MNTiMPzYd9e8",
        "outputId": "41042f13-5e26-44f6-a1fc-35f7d6532eed",
        "colab": {
          "base_uri": "https://localhost:8080/"
        }
      },
      "outputs": [
        {
          "output_type": "stream",
          "name": "stdout",
          "text": [
            "0.7969034608378871\n"
          ]
        }
      ],
      "source": [
        "# Positive predictive value \n",
        "\n",
        "print (TP / float(TP+FP))"
      ]
    },
    {
      "cell_type": "code",
      "execution_count": 150,
      "metadata": {
        "id": "UBM3zBGKd9e9",
        "outputId": "fb1ba026-bd48-4baa-c445-6a901ac40281",
        "colab": {
          "base_uri": "https://localhost:8080/"
        }
      },
      "outputs": [
        {
          "output_type": "stream",
          "name": "stdout",
          "text": [
            "0.8273520853540253\n"
          ]
        }
      ],
      "source": [
        "# Negative predictive value\n",
        "\n",
        "print (TN / float(TN+ FN))"
      ]
    },
    {
      "cell_type": "markdown",
      "metadata": {
        "id": "JSlUO0z4d9e9"
      },
      "source": [
        "### Step 9: Plotting the ROC Curve"
      ]
    },
    {
      "cell_type": "markdown",
      "metadata": {
        "id": "nWC1dEV_d9e9"
      },
      "source": [
        "An ROC curve demonstrates several things:\n",
        "\n",
        "- It shows the tradeoff between sensitivity and specificity (any increase in sensitivity will be accompanied by a decrease in specificity).\n",
        "- The closer the curve follows the left-hand border and then the top border of the ROC space, the more accurate the test.\n",
        "- The closer the curve comes to the 45-degree diagonal of the ROC space, the less accurate the test."
      ]
    },
    {
      "cell_type": "code",
      "execution_count": 151,
      "metadata": {
        "id": "DkOGqJomd9e-"
      },
      "outputs": [],
      "source": [
        "def draw_roc( actual, probs ):\n",
        "    fpr, tpr, thresholds = metrics.roc_curve( actual, probs,\n",
        "                                              drop_intermediate = False )\n",
        "    auc_score = metrics.roc_auc_score( actual, probs )\n",
        "    plt.figure(figsize=(5, 5))\n",
        "    plt.plot( fpr, tpr, label='ROC curve (area = %0.2f)' % auc_score )\n",
        "    plt.plot([0, 1], [0, 1], 'k--')\n",
        "    plt.xlim([0.0, 1.0])\n",
        "    plt.ylim([0.0, 1.05])\n",
        "    plt.xlabel('False Positive Rate or [1 - True Negative Rate]')\n",
        "    plt.ylabel('True Positive Rate')\n",
        "    plt.title('Receiver operating characteristic example')\n",
        "    plt.legend(loc=\"lower right\")\n",
        "    plt.show()\n",
        "\n",
        "    return None"
      ]
    },
    {
      "cell_type": "code",
      "execution_count": 152,
      "metadata": {
        "id": "kMR0zfINd9e-"
      },
      "outputs": [],
      "source": [
        "fpr, tpr, thresholds = metrics.roc_curve( y_train_pred_final.Converted, y_train_pred_final.Converted_Prob, \n",
        "                                         drop_intermediate = False )"
      ]
    },
    {
      "cell_type": "code",
      "execution_count": 153,
      "metadata": {
        "id": "ax_lL_uld9e-",
        "outputId": "eb617f16-ea91-48b6-ab63-91c019d07e0c",
        "colab": {
          "base_uri": "https://localhost:8080/",
          "height": 350
        }
      },
      "outputs": [
        {
          "output_type": "display_data",
          "data": {
            "text/plain": [
              "<Figure size 360x360 with 1 Axes>"
            ],
            "image/png": "[encoded data removed]"
          },
          "metadata": {
            "needs_background": "light"
          }
        }
      ],
      "source": [
        "draw_roc(y_train_pred_final.Converted, y_train_pred_final.Converted_Prob)"
      ]
    },
    {
      "cell_type": "markdown",
      "metadata": {
        "id": "h7sm5zM_d9e_"
      },
      "source": [
        "### Step 10: Finding Optimal Cutoff Point"
      ]
    },
    {
      "cell_type": "markdown",
      "metadata": {
        "id": "S6nIOZhsd9e_"
      },
      "source": [
        "Optimal cut off probability is that prob where we get balanced sensitivity and specificity"
      ]
    },
    {
      "cell_type": "code",
      "execution_count": 154,
      "metadata": {
        "id": "rQIcpdzad9e_",
        "outputId": "2283b20a-e0ab-4d38-9bbb-8f19d66f1c36",
        "colab": {
          "base_uri": "https://localhost:8080/",
          "height": 206
        }
      },
      "outputs": [
        {
          "output_type": "execute_result",
          "data": {
            "text/plain": [
              "   Converted  Converted_Prob  LeadId  predicted  0.0  0.1  0.2  0.3  0.4  0.5  \\\n",
              "0          0        0.692600    2240          1    1    1    1    1    1    1   \n",
              "1          0        0.539248     113          1    1    1    1    1    1    1   \n",
              "2          1        0.718698    4132          1    1    1    1    1    1    1   \n",
              "3          0        0.133628    5573          0    1    1    0    0    0    0   \n",
              "4          0        0.014225    1109          0    1    0    0    0    0    0   \n",
              "\n",
              "   0.6  0.7  0.8  0.9  \n",
              "0    1    0    0    0  \n",
              "1    0    0    0    0  \n",
              "2    1    1    0    0  \n",
              "3    0    0    0    0  \n",
              "4    0    0    0    0  "
            ],
            "text/html": [
              "\n",
              "  <div id=\"df-626e3308-de0c-4d2c-9eb4-2d968a4af2c7\">\n",
              "    <div class=\"colab-df-container\">\n",
              "      <div>\n",
              "<style scoped>\n",
              "    .dataframe tbody tr th:only-of-type {\n",
              "        vertical-align: middle;\n",
              "    }\n",
              "\n",
              "    .dataframe tbody tr th {\n",
              "        vertical-align: top;\n",
              "    }\n",
              "\n",
              "    .dataframe thead th {\n",
              "        text-align: right;\n",
              "    }\n",
              "</style>\n",
              "<table border=\"1\" class=\"dataframe\">\n",
              "  <thead>\n",
              "    <tr style=\"text-align: right;\">\n",
              "      <th></th>\n",
              "      <th>Converted</th>\n",
              "      <th>Converted_Prob</th>\n",
              "      <th>LeadId</th>\n",
              "      <th>predicted</th>\n",
              "      <th>0.0</th>\n",
              "      <th>0.1</th>\n",
              "      <th>0.2</th>\n",
              "      <th>0.3</th>\n",
              "      <th>0.4</th>\n",
              "      <th>0.5</th>\n",
              "      <th>0.6</th>\n",
              "      <th>0.7</th>\n",
              "      <th>0.8</th>\n",
              "      <th>0.9</th>\n",
              "    </tr>\n",
              "  </thead>\n",
              "  <tbody>\n",
              "    <tr>\n",
              "      <th>0</th>\n",
              "      <td>0</td>\n",
              "      <td>0.692600</td>\n",
              "      <td>2240</td>\n",
              "      <td>1</td>\n",
              "      <td>1</td>\n",
              "      <td>1</td>\n",
              "      <td>1</td>\n",
              "      <td>1</td>\n",
              "      <td>1</td>\n",
              "      <td>1</td>\n",
              "      <td>1</td>\n",
              "      <td>0</td>\n",
              "      <td>0</td>\n",
              "      <td>0</td>\n",
              "    </tr>\n",
              "    <tr>\n",
              "      <th>1</th>\n",
              "      <td>0</td>\n",
              "      <td>0.539248</td>\n",
              "      <td>113</td>\n",
              "      <td>1</td>\n",
              "      <td>1</td>\n",
              "      <td>1</td>\n",
              "      <td>1</td>\n",
              "      <td>1</td>\n",
              "      <td>1</td>\n",
              "      <td>1</td>\n",
              "      <td>0</td>\n",
              "      <td>0</td>\n",
              "      <td>0</td>\n",
              "      <td>0</td>\n",
              "    </tr>\n",
              "    <tr>\n",
              "      <th>2</th>\n",
              "      <td>1</td>\n",
              "      <td>0.718698</td>\n",
              "      <td>4132</td>\n",
              "      <td>1</td>\n",
              "      <td>1</td>\n",
              "      <td>1</td>\n",
              "      <td>1</td>\n",
              "      <td>1</td>\n",
              "      <td>1</td>\n",
              "      <td>1</td>\n",
              "      <td>1</td>\n",
              "      <td>1</td>\n",
              "      <td>0</td>\n",
              "      <td>0</td>\n",
              "    </tr>\n",
              "    <tr>\n",
              "      <th>3</th>\n",
              "      <td>0</td>\n",
              "      <td>0.133628</td>\n",
              "      <td>5573</td>\n",
              "      <td>0</td>\n",
              "      <td>1</td>\n",
              "      <td>1</td>\n",
              "      <td>0</td>\n",
              "      <td>0</td>\n",
              "      <td>0</td>\n",
              "      <td>0</td>\n",
              "      <td>0</td>\n",
              "      <td>0</td>\n",
              "      <td>0</td>\n",
              "      <td>0</td>\n",
              "    </tr>\n",
              "    <tr>\n",
              "      <th>4</th>\n",
              "      <td>0</td>\n",
              "      <td>0.014225</td>\n",
              "      <td>1109</td>\n",
              "      <td>0</td>\n",
              "      <td>1</td>\n",
              "      <td>0</td>\n",
              "      <td>0</td>\n",
              "      <td>0</td>\n",
              "      <td>0</td>\n",
              "      <td>0</td>\n",
              "      <td>0</td>\n",
              "      <td>0</td>\n",
              "      <td>0</td>\n",
              "      <td>0</td>\n",
              "    </tr>\n",
              "  </tbody>\n",
              "</table>\n",
              "</div>\n",
              "      <button class=\"colab-df-convert\" onclick=\"convertToInteractive('df-626e3308-de0c-4d2c-9eb4-2d968a4af2c7')\"\n",
              "              title=\"Convert this dataframe to an interactive table.\"\n",
              "              style=\"display:none;\">\n",
              "        \n",
              "  <svg xmlns=\"http://www.w3.org/2000/svg\" height=\"24px\"viewBox=\"0 0 24 24\"\n",
              "       width=\"24px\">\n",
              "    <path d=\"M0 0h24v24H0V0z\" fill=\"none\"/>\n",
              "    <path d=\"M18.56 5.44l.94 2.06.94-2.06 2.06-.94-2.06-.94-.94-2.06-.94 2.06-2.06.94zm-11 1L8.5 8.5l.94-2.06 2.06-.94-2.06-.94L8.5 2.5l-.94 2.06-2.06.94zm10 10l.94 2.06.94-2.06 2.06-.94-2.06-.94-.94-2.06-.94 2.06-2.06.94z\"/><path d=\"M17.41 7.96l-1.37-1.37c-.4-.4-.92-.59-1.43-.59-.52 0-1.04.2-1.43.59L10.3 9.45l-7.72 7.72c-.78.78-.78 2.05 0 2.83L4 21.41c.39.39.9.59 1.41.59.51 0 1.02-.2 1.41-.59l7.78-7.78 2.81-2.81c.8-.78.8-2.07 0-2.86zM5.41 20L4 18.59l7.72-7.72 1.47 1.35L5.41 20z\"/>\n",
              "  </svg>\n",
              "      </button>\n",
              "      \n",
              "  <style>\n",
              "    .colab-df-container {\n",
              "      display:flex;\n",
              "      flex-wrap:wrap;\n",
              "      gap: 12px;\n",
              "    }\n",
              "\n",
              "    .colab-df-convert {\n",
              "      background-color: #E8F0FE;\n",
              "      border: none;\n",
              "      border-radius: 50%;\n",
              "      cursor: pointer;\n",
              "      display: none;\n",
              "      fill: #1967D2;\n",
              "      height: 32px;\n",
              "      padding: 0 0 0 0;\n",
              "      width: 32px;\n",
              "    }\n",
              "\n",
              "    .colab-df-convert:hover {\n",
              "      background-color: #E2EBFA;\n",
              "      box-shadow: 0px 1px 2px rgba(60, 64, 67, 0.3), 0px 1px 3px 1px rgba(60, 64, 67, 0.15);\n",
              "      fill: #174EA6;\n",
              "    }\n",
              "\n",
              "    [theme=dark] .colab-df-convert {\n",
              "      background-color: #3B4455;\n",
              "      fill: #D2E3FC;\n",
              "    }\n",
              "\n",
              "    [theme=dark] .colab-df-convert:hover {\n",
              "      background-color: #434B5C;\n",
              "      box-shadow: 0px 1px 3px 1px rgba(0, 0, 0, 0.15);\n",
              "      filter: drop-shadow(0px 1px 2px rgba(0, 0, 0, 0.3));\n",
              "      fill: #FFFFFF;\n",
              "    }\n",
              "  </style>\n",
              "\n",
              "      <script>\n",
              "        const buttonEl =\n",
              "          document.querySelector('#df-626e3308-de0c-4d2c-9eb4-2d968a4af2c7 button.colab-df-convert');\n",
              "        buttonEl.style.display =\n",
              "          google.colab.kernel.accessAllowed ? 'block' : 'none';\n",
              "\n",
              "        async function convertToInteractive(key) {\n",
              "          const element = document.querySelector('#df-626e3308-de0c-4d2c-9eb4-2d968a4af2c7');\n",
              "          const dataTable =\n",
              "            await google.colab.kernel.invokeFunction('convertToInteractive',\n",
              "                                                     [key], {});\n",
              "          if (!dataTable) return;\n",
              "\n",
              "          const docLinkHtml = 'Like what you see? Visit the ' +\n",
              "            '<a target=\"_blank\" href=https://colab.research.google.com/notebooks/data_table.ipynb>data table notebook</a>'\n",
              "            + ' to learn more about interactive tables.';\n",
              "          element.innerHTML = '';\n",
              "          dataTable['output_type'] = 'display_data';\n",
              "          await google.colab.output.renderOutput(dataTable, element);\n",
              "          const docLink = document.createElement('div');\n",
              "          docLink.innerHTML = docLinkHtml;\n",
              "          element.appendChild(docLink);\n",
              "        }\n",
              "      </script>\n",
              "    </div>\n",
              "  </div>\n",
              "  "
            ]
          },
          "metadata": {},
          "execution_count": 154
        }
      ],
      "source": [
        "# Different probability cutoffs \n",
        "numbers = [float(x)/10 for x in range(10)]\n",
        "for i in numbers:\n",
        "    y_train_pred_final[i]= y_train_pred_final.Converted_Prob.map(lambda x: 1 if x > i else 0)\n",
        "y_train_pred_final.head()"
      ]
    },
    {
      "cell_type": "code",
      "execution_count": 155,
      "metadata": {
        "id": "y8pqUdXvd9e_",
        "outputId": "e26e4aac-2304-434a-c796-0b8fa85b7ad1",
        "colab": {
          "base_uri": "https://localhost:8080/"
        }
      },
      "outputs": [
        {
          "output_type": "stream",
          "name": "stdout",
          "text": [
            "     prob  accuracy     sensi     speci\n",
            "0.0   0.0  0.389557  1.000000  0.000000\n",
            "0.1   0.1  0.659335  0.972380  0.459565\n",
            "0.2   0.2  0.760601  0.922421  0.657335\n",
            "0.3   0.3  0.802532  0.879366  0.753499\n",
            "0.4   0.4  0.816614  0.782291  0.838517\n",
            "0.5   0.5  0.816772  0.710804  0.884396\n",
            "0.6   0.6  0.811234  0.642973  0.918611\n",
            "0.7   0.7  0.785127  0.531682  0.946864\n",
            "0.8   0.8  0.762816  0.443948  0.966304\n",
            "0.9   0.9  0.720570  0.302193  0.987558\n"
          ]
        }
      ],
      "source": [
        "# Calculate accuracy sensitivity and specificity for various probability cutoffs.\n",
        "\n",
        "cutoff_df = pd.DataFrame( columns = ['prob','accuracy','sensi','speci'])\n",
        "\n",
        "num = [0.0,0.1,0.2,0.3,0.4,0.5,0.6,0.7,0.8,0.9]\n",
        "for i in num:\n",
        "    cm1 = metrics.confusion_matrix(y_train_pred_final.Converted, y_train_pred_final[i] )\n",
        "    total1=sum(sum(cm1))\n",
        "    accuracy = (cm1[0,0]+cm1[1,1])/total1\n",
        "    \n",
        "    speci = cm1[0,0]/(cm1[0,0]+cm1[0,1])\n",
        "    sensi = cm1[1,1]/(cm1[1,0]+cm1[1,1])\n",
        "    cutoff_df.loc[i] =[ i ,accuracy,sensi,speci]\n",
        "print(cutoff_df)"
      ]
    },
    {
      "cell_type": "code",
      "execution_count": 156,
      "metadata": {
        "id": "BIuH0m6Nd9fA",
        "outputId": "a6dec57a-afe3-4614-d208-ea157ac5410b",
        "colab": {
          "base_uri": "https://localhost:8080/",
          "height": 279
        }
      },
      "outputs": [
        {
          "output_type": "display_data",
          "data": {
            "text/plain": [
              "<Figure size 432x288 with 1 Axes>"
            ],
            "image/png": "[encoded data removed]"
          },
          "metadata": {
            "needs_background": "light"
          }
        }
      ],
      "source": [
        "# Accuracy sensitivity and specificity for various probabilities.\n",
        "\n",
        "cutoff_df.plot.line(x='prob', y=['accuracy','sensi','speci'])\n",
        "plt.show()"
      ]
    },
    {
      "cell_type": "markdown",
      "metadata": {
        "id": "i214KsI-d9fA"
      },
      "source": [
        "##### From the curve above, 0.37 is the optimum point to take it as a cutoff probability."
      ]
    },
    {
      "cell_type": "code",
      "execution_count": 157,
      "metadata": {
        "id": "BnQyRRzmd9fA",
        "outputId": "b76437b4-3b4f-47a0-9de5-8f1088c26db2",
        "colab": {
          "base_uri": "https://localhost:8080/",
          "height": 206
        }
      },
      "outputs": [
        {
          "output_type": "execute_result",
          "data": {
            "text/plain": [
              "   Converted  Converted_Prob  LeadId  predicted  0.0  0.1  0.2  0.3  0.4  0.5  \\\n",
              "0          0        0.692600    2240          1    1    1    1    1    1    1   \n",
              "1          0        0.539248     113          1    1    1    1    1    1    1   \n",
              "2          1        0.718698    4132          1    1    1    1    1    1    1   \n",
              "3          0        0.133628    5573          0    1    1    0    0    0    0   \n",
              "4          0        0.014225    1109          0    1    0    0    0    0    0   \n",
              "\n",
              "   0.6  0.7  0.8  0.9  final_predicted  \n",
              "0    1    0    0    0                1  \n",
              "1    0    0    0    0                1  \n",
              "2    1    1    0    0                1  \n",
              "3    0    0    0    0                0  \n",
              "4    0    0    0    0                0  "
            ],
            "text/html": [
              "\n",
              "  <div id=\"df-aff58e71-f89a-4077-8ad4-d4c5f5984a1c\">\n",
              "    <div class=\"colab-df-container\">\n",
              "      <div>\n",
              "<style scoped>\n",
              "    .dataframe tbody tr th:only-of-type {\n",
              "        vertical-align: middle;\n",
              "    }\n",
              "\n",
              "    .dataframe tbody tr th {\n",
              "        vertical-align: top;\n",
              "    }\n",
              "\n",
              "    .dataframe thead th {\n",
              "        text-align: right;\n",
              "    }\n",
              "</style>\n",
              "<table border=\"1\" class=\"dataframe\">\n",
              "  <thead>\n",
              "    <tr style=\"text-align: right;\">\n",
              "      <th></th>\n",
              "      <th>Converted</th>\n",
              "      <th>Converted_Prob</th>\n",
              "      <th>LeadId</th>\n",
              "      <th>predicted</th>\n",
              "      <th>0.0</th>\n",
              "      <th>0.1</th>\n",
              "      <th>0.2</th>\n",
              "      <th>0.3</th>\n",
              "      <th>0.4</th>\n",
              "      <th>0.5</th>\n",
              "      <th>0.6</th>\n",
              "      <th>0.7</th>\n",
              "      <th>0.8</th>\n",
              "      <th>0.9</th>\n",
              "      <th>final_predicted</th>\n",
              "    </tr>\n",
              "  </thead>\n",
              "  <tbody>\n",
              "    <tr>\n",
              "      <th>0</th>\n",
              "      <td>0</td>\n",
              "      <td>0.692600</td>\n",
              "      <td>2240</td>\n",
              "      <td>1</td>\n",
              "      <td>1</td>\n",
              "      <td>1</td>\n",
              "      <td>1</td>\n",
              "      <td>1</td>\n",
              "      <td>1</td>\n",
              "      <td>1</td>\n",
              "      <td>1</td>\n",
              "      <td>0</td>\n",
              "      <td>0</td>\n",
              "      <td>0</td>\n",
              "      <td>1</td>\n",
              "    </tr>\n",
              "    <tr>\n",
              "      <th>1</th>\n",
              "      <td>0</td>\n",
              "      <td>0.539248</td>\n",
              "      <td>113</td>\n",
              "      <td>1</td>\n",
              "      <td>1</td>\n",
              "      <td>1</td>\n",
              "      <td>1</td>\n",
              "      <td>1</td>\n",
              "      <td>1</td>\n",
              "      <td>1</td>\n",
              "      <td>0</td>\n",
              "      <td>0</td>\n",
              "      <td>0</td>\n",
              "      <td>0</td>\n",
              "      <td>1</td>\n",
              "    </tr>\n",
              "    <tr>\n",
              "      <th>2</th>\n",
              "      <td>1</td>\n",
              "      <td>0.718698</td>\n",
              "      <td>4132</td>\n",
              "      <td>1</td>\n",
              "      <td>1</td>\n",
              "      <td>1</td>\n",
              "      <td>1</td>\n",
              "      <td>1</td>\n",
              "      <td>1</td>\n",
              "      <td>1</td>\n",
              "      <td>1</td>\n",
              "      <td>1</td>\n",
              "      <td>0</td>\n",
              "      <td>0</td>\n",
              "      <td>1</td>\n",
              "    </tr>\n",
              "    <tr>\n",
              "      <th>3</th>\n",
              "      <td>0</td>\n",
              "      <td>0.133628</td>\n",
              "      <td>5573</td>\n",
              "      <td>0</td>\n",
              "      <td>1</td>\n",
              "      <td>1</td>\n",
              "      <td>0</td>\n",
              "      <td>0</td>\n",
              "      <td>0</td>\n",
              "      <td>0</td>\n",
              "      <td>0</td>\n",
              "      <td>0</td>\n",
              "      <td>0</td>\n",
              "      <td>0</td>\n",
              "      <td>0</td>\n",
              "    </tr>\n",
              "    <tr>\n",
              "      <th>4</th>\n",
              "      <td>0</td>\n",
              "      <td>0.014225</td>\n",
              "      <td>1109</td>\n",
              "      <td>0</td>\n",
              "      <td>1</td>\n",
              "      <td>0</td>\n",
              "      <td>0</td>\n",
              "      <td>0</td>\n",
              "      <td>0</td>\n",
              "      <td>0</td>\n",
              "      <td>0</td>\n",
              "      <td>0</td>\n",
              "      <td>0</td>\n",
              "      <td>0</td>\n",
              "      <td>0</td>\n",
              "    </tr>\n",
              "  </tbody>\n",
              "</table>\n",
              "</div>\n",
              "      <button class=\"colab-df-convert\" onclick=\"convertToInteractive('df-aff58e71-f89a-4077-8ad4-d4c5f5984a1c')\"\n",
              "              title=\"Convert this dataframe to an interactive table.\"\n",
              "              style=\"display:none;\">\n",
              "        \n",
              "  <svg xmlns=\"http://www.w3.org/2000/svg\" height=\"24px\"viewBox=\"0 0 24 24\"\n",
              "       width=\"24px\">\n",
              "    <path d=\"M0 0h24v24H0V0z\" fill=\"none\"/>\n",
              "    <path d=\"M18.56 5.44l.94 2.06.94-2.06 2.06-.94-2.06-.94-.94-2.06-.94 2.06-2.06.94zm-11 1L8.5 8.5l.94-2.06 2.06-.94-2.06-.94L8.5 2.5l-.94 2.06-2.06.94zm10 10l.94 2.06.94-2.06 2.06-.94-2.06-.94-.94-2.06-.94 2.06-2.06.94z\"/><path d=\"M17.41 7.96l-1.37-1.37c-.4-.4-.92-.59-1.43-.59-.52 0-1.04.2-1.43.59L10.3 9.45l-7.72 7.72c-.78.78-.78 2.05 0 2.83L4 21.41c.39.39.9.59 1.41.59.51 0 1.02-.2 1.41-.59l7.78-7.78 2.81-2.81c.8-.78.8-2.07 0-2.86zM5.41 20L4 18.59l7.72-7.72 1.47 1.35L5.41 20z\"/>\n",
              "  </svg>\n",
              "      </button>\n",
              "      \n",
              "  <style>\n",
              "    .colab-df-container {\n",
              "      display:flex;\n",
              "      flex-wrap:wrap;\n",
              "      gap: 12px;\n",
              "    }\n",
              "\n",
              "    .colab-df-convert {\n",
              "      background-color: #E8F0FE;\n",
              "      border: none;\n",
              "      border-radius: 50%;\n",
              "      cursor: pointer;\n",
              "      display: none;\n",
              "      fill: #1967D2;\n",
              "      height: 32px;\n",
              "      padding: 0 0 0 0;\n",
              "      width: 32px;\n",
              "    }\n",
              "\n",
              "    .colab-df-convert:hover {\n",
              "      background-color: #E2EBFA;\n",
              "      box-shadow: 0px 1px 2px rgba(60, 64, 67, 0.3), 0px 1px 3px 1px rgba(60, 64, 67, 0.15);\n",
              "      fill: #174EA6;\n",
              "    }\n",
              "\n",
              "    [theme=dark] .colab-df-convert {\n",
              "      background-color: #3B4455;\n",
              "      fill: #D2E3FC;\n",
              "    }\n",
              "\n",
              "    [theme=dark] .colab-df-convert:hover {\n",
              "      background-color: #434B5C;\n",
              "      box-shadow: 0px 1px 3px 1px rgba(0, 0, 0, 0.15);\n",
              "      filter: drop-shadow(0px 1px 2px rgba(0, 0, 0, 0.3));\n",
              "      fill: #FFFFFF;\n",
              "    }\n",
              "  </style>\n",
              "\n",
              "      <script>\n",
              "        const buttonEl =\n",
              "          document.querySelector('#df-aff58e71-f89a-4077-8ad4-d4c5f5984a1c button.colab-df-convert');\n",
              "        buttonEl.style.display =\n",
              "          google.colab.kernel.accessAllowed ? 'block' : 'none';\n",
              "\n",
              "        async function convertToInteractive(key) {\n",
              "          const element = document.querySelector('#df-aff58e71-f89a-4077-8ad4-d4c5f5984a1c');\n",
              "          const dataTable =\n",
              "            await google.colab.kernel.invokeFunction('convertToInteractive',\n",
              "                                                     [key], {});\n",
              "          if (!dataTable) return;\n",
              "\n",
              "          const docLinkHtml = 'Like what you see? Visit the ' +\n",
              "            '<a target=\"_blank\" href=https://colab.research.google.com/notebooks/data_table.ipynb>data table notebook</a>'\n",
              "            + ' to learn more about interactive tables.';\n",
              "          element.innerHTML = '';\n",
              "          dataTable['output_type'] = 'display_data';\n",
              "          await google.colab.output.renderOutput(dataTable, element);\n",
              "          const docLink = document.createElement('div');\n",
              "          docLink.innerHTML = docLinkHtml;\n",
              "          element.appendChild(docLink);\n",
              "        }\n",
              "      </script>\n",
              "    </div>\n",
              "  </div>\n",
              "  "
            ]
          },
          "metadata": {},
          "execution_count": 157
        }
      ],
      "source": [
        "# Final prediction using 0.37 as the cut off\n",
        "\n",
        "y_train_pred_final['final_predicted'] = y_train_pred_final.Converted_Prob.map( lambda x: 1 if x > 0.37 else 0)\n",
        "y_train_pred_final.head()"
      ]
    },
    {
      "cell_type": "code",
      "execution_count": 158,
      "metadata": {
        "id": "OpsnyqAPd9fA",
        "outputId": "74bfc99d-1cad-4de4-b5b3-791a458d0efd",
        "colab": {
          "base_uri": "https://localhost:8080/",
          "height": 677
        }
      },
      "outputs": [
        {
          "output_type": "execute_result",
          "data": {
            "text/plain": [
              "    Converted  Converted_Prob  LeadId  predicted  0.0  0.1  0.2  0.3  0.4  \\\n",
              "0           0        0.692600    2240          1    1    1    1    1    1   \n",
              "1           0        0.539248     113          1    1    1    1    1    1   \n",
              "2           1        0.718698    4132          1    1    1    1    1    1   \n",
              "3           0        0.133628    5573          0    1    1    0    0    0   \n",
              "4           0        0.014225    1109          0    1    0    0    0    0   \n",
              "5           0        0.031692    2282          0    1    0    0    0    0   \n",
              "6           1        0.854208    2976          1    1    1    1    1    1   \n",
              "7           0        0.399257    8431          0    1    1    1    1    0   \n",
              "8           1        0.745493    2770          1    1    1    1    1    1   \n",
              "9           1        0.995570    5790          1    1    1    1    1    1   \n",
              "10          1        0.957687    2943          1    1    1    1    1    1   \n",
              "11          0        0.243037    1196          0    1    1    1    0    0   \n",
              "12          1        0.531214    8874          1    1    1    1    1    1   \n",
              "13          0        0.130486    1491          0    1    1    0    0    0   \n",
              "14          0        0.098482    7676          0    1    0    0    0    0   \n",
              "15          1        0.460246    8750          0    1    1    1    1    1   \n",
              "16          1        0.833093    5049          1    1    1    1    1    1   \n",
              "17          0        0.658813    5691          1    1    1    1    1    1   \n",
              "18          1        0.391514    5773          0    1    1    1    1    0   \n",
              "19          0        0.030504    3906          0    1    0    0    0    0   \n",
              "\n",
              "    0.5  0.6  0.7  0.8  0.9  final_predicted  lead_score  \n",
              "0     1    1    0    0    0                1          69  \n",
              "1     1    0    0    0    0                1          54  \n",
              "2     1    1    1    0    0                1          72  \n",
              "3     0    0    0    0    0                0          13  \n",
              "4     0    0    0    0    0                0           1  \n",
              "5     0    0    0    0    0                0           3  \n",
              "6     1    1    1    1    0                1          85  \n",
              "7     0    0    0    0    0                1          40  \n",
              "8     1    1    1    0    0                1          75  \n",
              "9     1    1    1    1    1                1         100  \n",
              "10    1    1    1    1    1                1          96  \n",
              "11    0    0    0    0    0                0          24  \n",
              "12    1    0    0    0    0                1          53  \n",
              "13    0    0    0    0    0                0          13  \n",
              "14    0    0    0    0    0                0          10  \n",
              "15    0    0    0    0    0                1          46  \n",
              "16    1    1    1    1    0                1          83  \n",
              "17    1    1    0    0    0                1          66  \n",
              "18    0    0    0    0    0                1          39  \n",
              "19    0    0    0    0    0                0           3  "
            ],
            "text/html": [
              "\n",
              "  <div id=\"df-8724d22e-2965-40cb-b5e3-56fb60935355\">\n",
              "    <div class=\"colab-df-container\">\n",
              "      <div>\n",
              "<style scoped>\n",
              "    .dataframe tbody tr th:only-of-type {\n",
              "        vertical-align: middle;\n",
              "    }\n",
              "\n",
              "    .dataframe tbody tr th {\n",
              "        vertical-align: top;\n",
              "    }\n",
              "\n",
              "    .dataframe thead th {\n",
              "        text-align: right;\n",
              "    }\n",
              "</style>\n",
              "<table border=\"1\" class=\"dataframe\">\n",
              "  <thead>\n",
              "    <tr style=\"text-align: right;\">\n",
              "      <th></th>\n",
              "      <th>Converted</th>\n",
              "      <th>Converted_Prob</th>\n",
              "      <th>LeadId</th>\n",
              "      <th>predicted</th>\n",
              "      <th>0.0</th>\n",
              "      <th>0.1</th>\n",
              "      <th>0.2</th>\n",
              "      <th>0.3</th>\n",
              "      <th>0.4</th>\n",
              "      <th>0.5</th>\n",
              "      <th>0.6</th>\n",
              "      <th>0.7</th>\n",
              "      <th>0.8</th>\n",
              "      <th>0.9</th>\n",
              "      <th>final_predicted</th>\n",
              "      <th>lead_score</th>\n",
              "    </tr>\n",
              "  </thead>\n",
              "  <tbody>\n",
              "    <tr>\n",
              "      <th>0</th>\n",
              "      <td>0</td>\n",
              "      <td>0.692600</td>\n",
              "      <td>2240</td>\n",
              "      <td>1</td>\n",
              "      <td>1</td>\n",
              "      <td>1</td>\n",
              "      <td>1</td>\n",
              "      <td>1</td>\n",
              "      <td>1</td>\n",
              "      <td>1</td>\n",
              "      <td>1</td>\n",
              "      <td>0</td>\n",
              "      <td>0</td>\n",
              "      <td>0</td>\n",
              "      <td>1</td>\n",
              "      <td>69</td>\n",
              "    </tr>\n",
              "    <tr>\n",
              "      <th>1</th>\n",
              "      <td>0</td>\n",
              "      <td>0.539248</td>\n",
              "      <td>113</td>\n",
              "      <td>1</td>\n",
              "      <td>1</td>\n",
              "      <td>1</td>\n",
              "      <td>1</td>\n",
              "      <td>1</td>\n",
              "      <td>1</td>\n",
              "      <td>1</td>\n",
              "      <td>0</td>\n",
              "      <td>0</td>\n",
              "      <td>0</td>\n",
              "      <td>0</td>\n",
              "      <td>1</td>\n",
              "      <td>54</td>\n",
              "    </tr>\n",
              "    <tr>\n",
              "      <th>2</th>\n",
              "      <td>1</td>\n",
              "      <td>0.718698</td>\n",
              "      <td>4132</td>\n",
              "      <td>1</td>\n",
              "      <td>1</td>\n",
              "      <td>1</td>\n",
              "      <td>1</td>\n",
              "      <td>1</td>\n",
              "      <td>1</td>\n",
              "      <td>1</td>\n",
              "      <td>1</td>\n",
              "      <td>1</td>\n",
              "      <td>0</td>\n",
              "      <td>0</td>\n",
              "      <td>1</td>\n",
              "      <td>72</td>\n",
              "    </tr>\n",
              "    <tr>\n",
              "      <th>3</th>\n",
              "      <td>0</td>\n",
              "      <td>0.133628</td>\n",
              "      <td>5573</td>\n",
              "      <td>0</td>\n",
              "      <td>1</td>\n",
              "      <td>1</td>\n",
              "      <td>0</td>\n",
              "      <td>0</td>\n",
              "      <td>0</td>\n",
              "      <td>0</td>\n",
              "      <td>0</td>\n",
              "      <td>0</td>\n",
              "      <td>0</td>\n",
              "      <td>0</td>\n",
              "      <td>0</td>\n",
              "      <td>13</td>\n",
              "    </tr>\n",
              "    <tr>\n",
              "      <th>4</th>\n",
              "      <td>0</td>\n",
              "      <td>0.014225</td>\n",
              "      <td>1109</td>\n",
              "      <td>0</td>\n",
              "      <td>1</td>\n",
              "      <td>0</td>\n",
              "      <td>0</td>\n",
              "      <td>0</td>\n",
              "      <td>0</td>\n",
              "      <td>0</td>\n",
              "      <td>0</td>\n",
              "      <td>0</td>\n",
              "      <td>0</td>\n",
              "      <td>0</td>\n",
              "      <td>0</td>\n",
              "      <td>1</td>\n",
              "    </tr>\n",
              "    <tr>\n",
              "      <th>5</th>\n",
              "      <td>0</td>\n",
              "      <td>0.031692</td>\n",
              "      <td>2282</td>\n",
              "      <td>0</td>\n",
              "      <td>1</td>\n",
              "      <td>0</td>\n",
              "      <td>0</td>\n",
              "      <td>0</td>\n",
              "      <td>0</td>\n",
              "      <td>0</td>\n",
              "      <td>0</td>\n",
              "      <td>0</td>\n",
              "      <td>0</td>\n",
              "      <td>0</td>\n",
              "      <td>0</td>\n",
              "      <td>3</td>\n",
              "    </tr>\n",
              "    <tr>\n",
              "      <th>6</th>\n",
              "      <td>1</td>\n",
              "      <td>0.854208</td>\n",
              "      <td>2976</td>\n",
              "      <td>1</td>\n",
              "      <td>1</td>\n",
              "      <td>1</td>\n",
              "      <td>1</td>\n",
              "      <td>1</td>\n",
              "      <td>1</td>\n",
              "      <td>1</td>\n",
              "      <td>1</td>\n",
              "      <td>1</td>\n",
              "      <td>1</td>\n",
              "      <td>0</td>\n",
              "      <td>1</td>\n",
              "      <td>85</td>\n",
              "    </tr>\n",
              "    <tr>\n",
              "      <th>7</th>\n",
              "      <td>0</td>\n",
              "      <td>0.399257</td>\n",
              "      <td>8431</td>\n",
              "      <td>0</td>\n",
              "      <td>1</td>\n",
              "      <td>1</td>\n",
              "      <td>1</td>\n",
              "      <td>1</td>\n",
              "      <td>0</td>\n",
              "      <td>0</td>\n",
              "      <td>0</td>\n",
              "      <td>0</td>\n",
              "      <td>0</td>\n",
              "      <td>0</td>\n",
              "      <td>1</td>\n",
              "      <td>40</td>\n",
              "    </tr>\n",
              "    <tr>\n",
              "      <th>8</th>\n",
              "      <td>1</td>\n",
              "      <td>0.745493</td>\n",
              "      <td>2770</td>\n",
              "      <td>1</td>\n",
              "      <td>1</td>\n",
              "      <td>1</td>\n",
              "      <td>1</td>\n",
              "      <td>1</td>\n",
              "      <td>1</td>\n",
              "      <td>1</td>\n",
              "      <td>1</td>\n",
              "      <td>1</td>\n",
              "      <td>0</td>\n",
              "      <td>0</td>\n",
              "      <td>1</td>\n",
              "      <td>75</td>\n",
              "    </tr>\n",
              "    <tr>\n",
              "      <th>9</th>\n",
              "      <td>1</td>\n",
              "      <td>0.995570</td>\n",
              "      <td>5790</td>\n",
              "      <td>1</td>\n",
              "      <td>1</td>\n",
              "      <td>1</td>\n",
              "      <td>1</td>\n",
              "      <td>1</td>\n",
              "      <td>1</td>\n",
              "      <td>1</td>\n",
              "      <td>1</td>\n",
              "      <td>1</td>\n",
              "      <td>1</td>\n",
              "      <td>1</td>\n",
              "      <td>1</td>\n",
              "      <td>100</td>\n",
              "    </tr>\n",
              "    <tr>\n",
              "      <th>10</th>\n",
              "      <td>1</td>\n",
              "      <td>0.957687</td>\n",
              "      <td>2943</td>\n",
              "      <td>1</td>\n",
              "      <td>1</td>\n",
              "      <td>1</td>\n",
              "      <td>1</td>\n",
              "      <td>1</td>\n",
              "      <td>1</td>\n",
              "      <td>1</td>\n",
              "      <td>1</td>\n",
              "      <td>1</td>\n",
              "      <td>1</td>\n",
              "      <td>1</td>\n",
              "      <td>1</td>\n",
              "      <td>96</td>\n",
              "    </tr>\n",
              "    <tr>\n",
              "      <th>11</th>\n",
              "      <td>0</td>\n",
              "      <td>0.243037</td>\n",
              "      <td>1196</td>\n",
              "      <td>0</td>\n",
              "      <td>1</td>\n",
              "      <td>1</td>\n",
              "      <td>1</td>\n",
              "      <td>0</td>\n",
              "      <td>0</td>\n",
              "      <td>0</td>\n",
              "      <td>0</td>\n",
              "      <td>0</td>\n",
              "      <td>0</td>\n",
              "      <td>0</td>\n",
              "      <td>0</td>\n",
              "      <td>24</td>\n",
              "    </tr>\n",
              "    <tr>\n",
              "      <th>12</th>\n",
              "      <td>1</td>\n",
              "      <td>0.531214</td>\n",
              "      <td>8874</td>\n",
              "      <td>1</td>\n",
              "      <td>1</td>\n",
              "      <td>1</td>\n",
              "      <td>1</td>\n",
              "      <td>1</td>\n",
              "      <td>1</td>\n",
              "      <td>1</td>\n",
              "      <td>0</td>\n",
              "      <td>0</td>\n",
              "      <td>0</td>\n",
              "      <td>0</td>\n",
              "      <td>1</td>\n",
              "      <td>53</td>\n",
              "    </tr>\n",
              "    <tr>\n",
              "      <th>13</th>\n",
              "      <td>0</td>\n",
              "      <td>0.130486</td>\n",
              "      <td>1491</td>\n",
              "      <td>0</td>\n",
              "      <td>1</td>\n",
              "      <td>1</td>\n",
              "      <td>0</td>\n",
              "      <td>0</td>\n",
              "      <td>0</td>\n",
              "      <td>0</td>\n",
              "      <td>0</td>\n",
              "      <td>0</td>\n",
              "      <td>0</td>\n",
              "      <td>0</td>\n",
              "      <td>0</td>\n",
              "      <td>13</td>\n",
              "    </tr>\n",
              "    <tr>\n",
              "      <th>14</th>\n",
              "      <td>0</td>\n",
              "      <td>0.098482</td>\n",
              "      <td>7676</td>\n",
              "      <td>0</td>\n",
              "      <td>1</td>\n",
              "      <td>0</td>\n",
              "      <td>0</td>\n",
              "      <td>0</td>\n",
              "      <td>0</td>\n",
              "      <td>0</td>\n",
              "      <td>0</td>\n",
              "      <td>0</td>\n",
              "      <td>0</td>\n",
              "      <td>0</td>\n",
              "      <td>0</td>\n",
              "      <td>10</td>\n",
              "    </tr>\n",
              "    <tr>\n",
              "      <th>15</th>\n",
              "      <td>1</td>\n",
              "      <td>0.460246</td>\n",
              "      <td>8750</td>\n",
              "      <td>0</td>\n",
              "      <td>1</td>\n",
              "      <td>1</td>\n",
              "      <td>1</td>\n",
              "      <td>1</td>\n",
              "      <td>1</td>\n",
              "      <td>0</td>\n",
              "      <td>0</td>\n",
              "      <td>0</td>\n",
              "      <td>0</td>\n",
              "      <td>0</td>\n",
              "      <td>1</td>\n",
              "      <td>46</td>\n",
              "    </tr>\n",
              "    <tr>\n",
              "      <th>16</th>\n",
              "      <td>1</td>\n",
              "      <td>0.833093</td>\n",
              "      <td>5049</td>\n",
              "      <td>1</td>\n",
              "      <td>1</td>\n",
              "      <td>1</td>\n",
              "      <td>1</td>\n",
              "      <td>1</td>\n",
              "      <td>1</td>\n",
              "      <td>1</td>\n",
              "      <td>1</td>\n",
              "      <td>1</td>\n",
              "      <td>1</td>\n",
              "      <td>0</td>\n",
              "      <td>1</td>\n",
              "      <td>83</td>\n",
              "    </tr>\n",
              "    <tr>\n",
              "      <th>17</th>\n",
              "      <td>0</td>\n",
              "      <td>0.658813</td>\n",
              "      <td>5691</td>\n",
              "      <td>1</td>\n",
              "      <td>1</td>\n",
              "      <td>1</td>\n",
              "      <td>1</td>\n",
              "      <td>1</td>\n",
              "      <td>1</td>\n",
              "      <td>1</td>\n",
              "      <td>1</td>\n",
              "      <td>0</td>\n",
              "      <td>0</td>\n",
              "      <td>0</td>\n",
              "      <td>1</td>\n",
              "      <td>66</td>\n",
              "    </tr>\n",
              "    <tr>\n",
              "      <th>18</th>\n",
              "      <td>1</td>\n",
              "      <td>0.391514</td>\n",
              "      <td>5773</td>\n",
              "      <td>0</td>\n",
              "      <td>1</td>\n",
              "      <td>1</td>\n",
              "      <td>1</td>\n",
              "      <td>1</td>\n",
              "      <td>0</td>\n",
              "      <td>0</td>\n",
              "      <td>0</td>\n",
              "      <td>0</td>\n",
              "      <td>0</td>\n",
              "      <td>0</td>\n",
              "      <td>1</td>\n",
              "      <td>39</td>\n",
              "    </tr>\n",
              "    <tr>\n",
              "      <th>19</th>\n",
              "      <td>0</td>\n",
              "      <td>0.030504</td>\n",
              "      <td>3906</td>\n",
              "      <td>0</td>\n",
              "      <td>1</td>\n",
              "      <td>0</td>\n",
              "      <td>0</td>\n",
              "      <td>0</td>\n",
              "      <td>0</td>\n",
              "      <td>0</td>\n",
              "      <td>0</td>\n",
              "      <td>0</td>\n",
              "      <td>0</td>\n",
              "      <td>0</td>\n",
              "      <td>0</td>\n",
              "      <td>3</td>\n",
              "    </tr>\n",
              "  </tbody>\n",
              "</table>\n",
              "</div>\n",
              "      <button class=\"colab-df-convert\" onclick=\"convertToInteractive('df-8724d22e-2965-40cb-b5e3-56fb60935355')\"\n",
              "              title=\"Convert this dataframe to an interactive table.\"\n",
              "              style=\"display:none;\">\n",
              "        \n",
              "  <svg xmlns=\"http://www.w3.org/2000/svg\" height=\"24px\"viewBox=\"0 0 24 24\"\n",
              "       width=\"24px\">\n",
              "    <path d=\"M0 0h24v24H0V0z\" fill=\"none\"/>\n",
              "    <path d=\"M18.56 5.44l.94 2.06.94-2.06 2.06-.94-2.06-.94-.94-2.06-.94 2.06-2.06.94zm-11 1L8.5 8.5l.94-2.06 2.06-.94-2.06-.94L8.5 2.5l-.94 2.06-2.06.94zm10 10l.94 2.06.94-2.06 2.06-.94-2.06-.94-.94-2.06-.94 2.06-2.06.94z\"/><path d=\"M17.41 7.96l-1.37-1.37c-.4-.4-.92-.59-1.43-.59-.52 0-1.04.2-1.43.59L10.3 9.45l-7.72 7.72c-.78.78-.78 2.05 0 2.83L4 21.41c.39.39.9.59 1.41.59.51 0 1.02-.2 1.41-.59l7.78-7.78 2.81-2.81c.8-.78.8-2.07 0-2.86zM5.41 20L4 18.59l7.72-7.72 1.47 1.35L5.41 20z\"/>\n",
              "  </svg>\n",
              "      </button>\n",
              "      \n",
              "  <style>\n",
              "    .colab-df-container {\n",
              "      display:flex;\n",
              "      flex-wrap:wrap;\n",
              "      gap: 12px;\n",
              "    }\n",
              "\n",
              "    .colab-df-convert {\n",
              "      background-color: #E8F0FE;\n",
              "      border: none;\n",
              "      border-radius: 50%;\n",
              "      cursor: pointer;\n",
              "      display: none;\n",
              "      fill: #1967D2;\n",
              "      height: 32px;\n",
              "      padding: 0 0 0 0;\n",
              "      width: 32px;\n",
              "    }\n",
              "\n",
              "    .colab-df-convert:hover {\n",
              "      background-color: #E2EBFA;\n",
              "      box-shadow: 0px 1px 2px rgba(60, 64, 67, 0.3), 0px 1px 3px 1px rgba(60, 64, 67, 0.15);\n",
              "      fill: #174EA6;\n",
              "    }\n",
              "\n",
              "    [theme=dark] .colab-df-convert {\n",
              "      background-color: #3B4455;\n",
              "      fill: #D2E3FC;\n",
              "    }\n",
              "\n",
              "    [theme=dark] .colab-df-convert:hover {\n",
              "      background-color: #434B5C;\n",
              "      box-shadow: 0px 1px 3px 1px rgba(0, 0, 0, 0.15);\n",
              "      filter: drop-shadow(0px 1px 2px rgba(0, 0, 0, 0.3));\n",
              "      fill: #FFFFFF;\n",
              "    }\n",
              "  </style>\n",
              "\n",
              "      <script>\n",
              "        const buttonEl =\n",
              "          document.querySelector('#df-8724d22e-2965-40cb-b5e3-56fb60935355 button.colab-df-convert');\n",
              "        buttonEl.style.display =\n",
              "          google.colab.kernel.accessAllowed ? 'block' : 'none';\n",
              "\n",
              "        async function convertToInteractive(key) {\n",
              "          const element = document.querySelector('#df-8724d22e-2965-40cb-b5e3-56fb60935355');\n",
              "          const dataTable =\n",
              "            await google.colab.kernel.invokeFunction('convertToInteractive',\n",
              "                                                     [key], {});\n",
              "          if (!dataTable) return;\n",
              "\n",
              "          const docLinkHtml = 'Like what you see? Visit the ' +\n",
              "            '<a target=\"_blank\" href=https://colab.research.google.com/notebooks/data_table.ipynb>data table notebook</a>'\n",
              "            + ' to learn more about interactive tables.';\n",
              "          element.innerHTML = '';\n",
              "          dataTable['output_type'] = 'display_data';\n",
              "          await google.colab.output.renderOutput(dataTable, element);\n",
              "          const docLink = document.createElement('div');\n",
              "          docLink.innerHTML = docLinkHtml;\n",
              "          element.appendChild(docLink);\n",
              "        }\n",
              "      </script>\n",
              "    </div>\n",
              "  </div>\n",
              "  "
            ]
          },
          "metadata": {},
          "execution_count": 158
        }
      ],
      "source": [
        "# Calculate the lead score\n",
        "\n",
        "y_train_pred_final['lead_score'] = y_train_pred_final.Converted_Prob.map(lambda x: round(x*100))\n",
        "y_train_pred_final.head(20)"
      ]
    },
    {
      "cell_type": "code",
      "execution_count": 159,
      "metadata": {
        "id": "YdA_QVKFd9fB",
        "outputId": "2252c808-defc-4520-bbbe-edb7a9857159",
        "colab": {
          "base_uri": "https://localhost:8080/"
        }
      },
      "outputs": [
        {
          "output_type": "execute_result",
          "data": {
            "text/plain": [
              "1    1971\n",
              "0     491\n",
              "Name: final_predicted, dtype: int64"
            ]
          },
          "metadata": {},
          "execution_count": 159
        }
      ],
      "source": [
        "# checking if 80% cases are correctly predicted based on the converted column.\n",
        "\n",
        "# Total of final predicted conversion / non conversion counts from the actual converted rates\n",
        "\n",
        "checking_df = y_train_pred_final.loc[y_train_pred_final['Converted']==1,['Converted','final_predicted']]\n",
        "checking_df['final_predicted'].value_counts()"
      ]
    },
    {
      "cell_type": "code",
      "execution_count": 160,
      "metadata": {
        "id": "Owg4A78ad9fB",
        "outputId": "5249ee92-4db6-4f05-edf8-cb45a45a319a",
        "colab": {
          "base_uri": "https://localhost:8080/"
        }
      },
      "outputs": [
        {
          "output_type": "execute_result",
          "data": {
            "text/plain": [
              "0.7981316003249391"
            ]
          },
          "metadata": {},
          "execution_count": 160
        }
      ],
      "source": [
        "# Percentage of final_predicted conversions\n",
        "\n",
        "1965/float(1965+497)"
      ]
    },
    {
      "cell_type": "markdown",
      "metadata": {
        "id": "irJh7uy6d9fB"
      },
      "source": [
        "##### Hence we can see that the final prediction of conversions have a target of 80% conversion as per the X Educations CEO's requirement . Hence this is a good model."
      ]
    },
    {
      "cell_type": "code",
      "execution_count": 161,
      "metadata": {
        "id": "pHOdQGdFd9fC",
        "outputId": "bbc0c675-21ce-4b92-a45f-14f4b415ddc0",
        "colab": {
          "base_uri": "https://localhost:8080/"
        }
      },
      "outputs": [
        {
          "output_type": "execute_result",
          "data": {
            "text/plain": [
              "0.8128164556962025"
            ]
          },
          "metadata": {},
          "execution_count": 161
        }
      ],
      "source": [
        "# Overall accuracy.\n",
        "\n",
        "metrics.accuracy_score(y_train_pred_final.Converted, y_train_pred_final.final_predicted)"
      ]
    },
    {
      "cell_type": "code",
      "execution_count": 162,
      "metadata": {
        "id": "PxF8wuNEd9fC",
        "outputId": "f0f66edf-8378-4c5f-ca40-0302fbbe6b19",
        "colab": {
          "base_uri": "https://localhost:8080/"
        }
      },
      "outputs": [
        {
          "output_type": "execute_result",
          "data": {
            "text/plain": [
              "array([[3166,  692],\n",
              "       [ 491, 1971]])"
            ]
          },
          "metadata": {},
          "execution_count": 162
        }
      ],
      "source": [
        "confusion2 = metrics.confusion_matrix(y_train_pred_final.Converted, y_train_pred_final.final_predicted )\n",
        "confusion2"
      ]
    },
    {
      "cell_type": "code",
      "execution_count": 163,
      "metadata": {
        "id": "C6lgTsRWd9fC"
      },
      "outputs": [],
      "source": [
        "TP = confusion2[1,1] # true positive \n",
        "TN = confusion2[0,0] # true negatives\n",
        "FP = confusion2[0,1] # false positives\n",
        "FN = confusion2[1,0] # false negatives"
      ]
    },
    {
      "cell_type": "code",
      "execution_count": 164,
      "metadata": {
        "id": "VuaVzLudd9fC",
        "outputId": "b0422905-aac7-43f7-cde5-7b991c19ba70",
        "colab": {
          "base_uri": "https://localhost:8080/"
        }
      },
      "outputs": [
        {
          "output_type": "execute_result",
          "data": {
            "text/plain": [
              "0.8005686433793664"
            ]
          },
          "metadata": {},
          "execution_count": 164
        }
      ],
      "source": [
        "# Sensitivity of our logistic regression model\n",
        "\n",
        "TP / float(TP+FN)"
      ]
    },
    {
      "cell_type": "code",
      "execution_count": 165,
      "metadata": {
        "id": "UEJ17t1wd9fD",
        "outputId": "cb06dd72-bcd3-4f60-c8e0-a99c8e81d766",
        "colab": {
          "base_uri": "https://localhost:8080/"
        }
      },
      "outputs": [
        {
          "output_type": "execute_result",
          "data": {
            "text/plain": [
              "0.8206324520476931"
            ]
          },
          "metadata": {},
          "execution_count": 165
        }
      ],
      "source": [
        "# Calculate specificity\n",
        "\n",
        "TN / float(TN+FP)"
      ]
    },
    {
      "cell_type": "code",
      "execution_count": 166,
      "metadata": {
        "id": "GH9HkSfpd9fD",
        "outputId": "376c63de-0819-469d-a679-3db19fc60081",
        "colab": {
          "base_uri": "https://localhost:8080/"
        }
      },
      "outputs": [
        {
          "output_type": "stream",
          "name": "stdout",
          "text": [
            "0.1793675479523069\n"
          ]
        }
      ],
      "source": [
        "# Calculate false postive rate - predicting conversions when leads has not converted\n",
        "\n",
        "print(FP/ float(TN+FP))"
      ]
    },
    {
      "cell_type": "code",
      "execution_count": 167,
      "metadata": {
        "id": "h3vO9yiqd9fD",
        "outputId": "6e5ebd08-e4da-4637-e78d-1f896b6b8a9c",
        "colab": {
          "base_uri": "https://localhost:8080/"
        }
      },
      "outputs": [
        {
          "output_type": "stream",
          "name": "stdout",
          "text": [
            "0.740142696207285\n"
          ]
        }
      ],
      "source": [
        "# Positive predictive value \n",
        "\n",
        "print (TP / float(TP+FP))"
      ]
    },
    {
      "cell_type": "code",
      "execution_count": 168,
      "metadata": {
        "id": "tUUH00Vad9fD",
        "outputId": "a6fdb0de-21ce-4d79-8975-afac2bb8fdf2",
        "colab": {
          "base_uri": "https://localhost:8080/"
        }
      },
      "outputs": [
        {
          "output_type": "stream",
          "name": "stdout",
          "text": [
            "0.86573694284933\n"
          ]
        }
      ],
      "source": [
        "# Negative predictive value\n",
        "\n",
        "print (TN / float(TN+ FN))"
      ]
    },
    {
      "cell_type": "markdown",
      "metadata": {
        "id": "2NllFNmud9fD"
      },
      "source": [
        "##### Metrics - Precision and Recall"
      ]
    },
    {
      "cell_type": "code",
      "execution_count": 169,
      "metadata": {
        "id": "9xHXT-WCd9fE",
        "outputId": "1b3128b0-83da-4ccc-ee0d-037dd53f3c67",
        "colab": {
          "base_uri": "https://localhost:8080/"
        }
      },
      "outputs": [
        {
          "output_type": "execute_result",
          "data": {
            "text/plain": [
              "array([[3412,  446],\n",
              "       [ 712, 1750]])"
            ]
          },
          "metadata": {},
          "execution_count": 169
        }
      ],
      "source": [
        "# Confusion matrix \n",
        "\n",
        "confusion = metrics.confusion_matrix(y_train_pred_final.Converted, y_train_pred_final.predicted )\n",
        "confusion"
      ]
    },
    {
      "cell_type": "code",
      "execution_count": 169,
      "metadata": {
        "id": "LQ1ygIa3d9fE"
      },
      "outputs": [],
      "source": []
    },
    {
      "cell_type": "code",
      "execution_count": 170,
      "metadata": {
        "id": "aI2Aftxgd9fE",
        "outputId": "086b24a8-ed8c-46a8-9d8f-8f4b4146c94e",
        "colab": {
          "base_uri": "https://localhost:8080/"
        }
      },
      "outputs": [
        {
          "output_type": "execute_result",
          "data": {
            "text/plain": [
              "0.7969034608378871"
            ]
          },
          "metadata": {},
          "execution_count": 170
        }
      ],
      "source": [
        "# Precision\n",
        "\n",
        "precision_score(y_train_pred_final.Converted, y_train_pred_final.predicted)"
      ]
    },
    {
      "cell_type": "code",
      "execution_count": 171,
      "metadata": {
        "id": "XggIQykZd9fE",
        "outputId": "8102b52b-2f48-4aee-c07f-7fb5b86d0ef4",
        "colab": {
          "base_uri": "https://localhost:8080/"
        }
      },
      "outputs": [
        {
          "output_type": "execute_result",
          "data": {
            "text/plain": [
              "0.710804224207961"
            ]
          },
          "metadata": {},
          "execution_count": 171
        }
      ],
      "source": [
        "# Recall\n",
        "\n",
        "recall_score(y_train_pred_final.Converted, y_train_pred_final.predicted)"
      ]
    },
    {
      "cell_type": "markdown",
      "metadata": {
        "id": "e9qi3uIId9fE"
      },
      "source": [
        "### Precision and recall tradeoff"
      ]
    },
    {
      "cell_type": "code",
      "execution_count": 172,
      "metadata": {
        "id": "Kfg-xlj5d9fF",
        "outputId": "036d5032-4967-4b52-9dbf-e3d8e476d918",
        "colab": {
          "base_uri": "https://localhost:8080/"
        }
      },
      "outputs": [
        {
          "output_type": "execute_result",
          "data": {
            "text/plain": [
              "(0       0\n",
              " 1       0\n",
              " 2       1\n",
              " 3       0\n",
              " 4       0\n",
              "        ..\n",
              " 6315    1\n",
              " 6316    1\n",
              " 6317    0\n",
              " 6318    0\n",
              " 6319    0\n",
              " Name: Converted, Length: 6320, dtype: int64, 0       1\n",
              " 1       1\n",
              " 2       1\n",
              " 3       0\n",
              " 4       0\n",
              "        ..\n",
              " 6315    0\n",
              " 6316    1\n",
              " 6317    0\n",
              " 6318    0\n",
              " 6319    0\n",
              " Name: predicted, Length: 6320, dtype: int64)"
            ]
          },
          "metadata": {},
          "execution_count": 172
        }
      ],
      "source": [
        "y_train_pred_final.Converted, y_train_pred_final.predicted"
      ]
    },
    {
      "cell_type": "code",
      "execution_count": 173,
      "metadata": {
        "id": "tfRNq1hNd9fF"
      },
      "outputs": [],
      "source": [
        "p, r, thresholds = precision_recall_curve(y_train_pred_final.Converted, y_train_pred_final.Converted_Prob)"
      ]
    },
    {
      "cell_type": "code",
      "execution_count": 174,
      "metadata": {
        "id": "obHJrS-Gd9fF",
        "outputId": "93891f6e-43c6-4a65-fcfe-a36f20f24d72",
        "colab": {
          "base_uri": "https://localhost:8080/",
          "height": 265
        }
      },
      "outputs": [
        {
          "output_type": "display_data",
          "data": {
            "text/plain": [
              "<Figure size 432x288 with 1 Axes>"
            ],
            "image/png": "[encoded data removed]"
          },
          "metadata": {
            "needs_background": "light"
          }
        }
      ],
      "source": [
        "plt.plot(thresholds, p[:-1], \"g-\")\n",
        "plt.plot(thresholds, r[:-1], \"r-\")\n",
        "plt.show()"
      ]
    },
    {
      "cell_type": "markdown",
      "metadata": {
        "id": "qWq8Lek0d9fF"
      },
      "source": [
        "### Step 11: Making predictions on the test set"
      ]
    },
    {
      "cell_type": "code",
      "execution_count": 175,
      "metadata": {
        "id": "N-OL5RNJd9fF"
      },
      "outputs": [],
      "source": [
        "X_test[['TotalVisits','Total Time Spent on Website','Page Views Per Visit']] = scaler.transform(X_test[['TotalVisits',\n",
        "                                                                        'Total Time Spent on Website','Page Views Per Visit']])"
      ]
    },
    {
      "cell_type": "code",
      "execution_count": 176,
      "metadata": {
        "id": "tOMJIomKd9fG",
        "outputId": "5cd7b759-3ee4-4d7d-d40c-57502b860f5c",
        "colab": {
          "base_uri": "https://localhost:8080/",
          "height": 340
        }
      },
      "outputs": [
        {
          "output_type": "execute_result",
          "data": {
            "text/plain": [
              "      Do Not Email  TotalVisits  Total Time Spent on Website  \\\n",
              "2296             0       0.1875                     0.665313   \n",
              "8697             0       0.4375                     0.184032   \n",
              "7378             0       0.1250                     0.163284   \n",
              "8631             0       0.3125                     0.407307   \n",
              "4799             0       0.5000                     0.744700   \n",
              "\n",
              "      Page Views Per Visit  LeadOrigin_Lead Add Form  LeadSource_Olark Chat  \\\n",
              "2296               0.37500                         0                      0   \n",
              "8697               0.21875                         0                      0   \n",
              "7378               0.25000                         0                      0   \n",
              "8631               0.62500                         0                      0   \n",
              "4799               1.00000                         0                      0   \n",
              "\n",
              "      LeadSource_Welingak Website  LastActivity_Email Opened  \\\n",
              "2296                            0                          0   \n",
              "8697                            0                          0   \n",
              "7378                            0                          1   \n",
              "8631                            0                          0   \n",
              "4799                            0                          0   \n",
              "\n",
              "      LastActivity_Olark Chat Conversation  LastActivity_SMS Sent  \\\n",
              "2296                                     0                      1   \n",
              "8697                                     0                      1   \n",
              "7378                                     0                      0   \n",
              "8631                                     0                      1   \n",
              "4799                                     0                      1   \n",
              "\n",
              "      CurrentOccupation_No Information  \\\n",
              "2296                                 0   \n",
              "8697                                 0   \n",
              "7378                                 0   \n",
              "8631                                 0   \n",
              "4799                                 0   \n",
              "\n",
              "      CurrentOccupation_Working Professional  \\\n",
              "2296                                       0   \n",
              "8697                                       0   \n",
              "7378                                       0   \n",
              "8631                                       0   \n",
              "4799                                       0   \n",
              "\n",
              "      LastNotableActivity_Had a Phone Conversation  \\\n",
              "2296                                             0   \n",
              "8697                                             0   \n",
              "7378                                             0   \n",
              "8631                                             0   \n",
              "4799                                             0   \n",
              "\n",
              "      LastNotableActivity_Modified  LastNotableActivity_Unreachable  \n",
              "2296                             0                                0  \n",
              "8697                             0                                0  \n",
              "7378                             0                                0  \n",
              "8631                             1                                0  \n",
              "4799                             0                                0  "
            ],
            "text/html": [
              "\n",
              "  <div id=\"df-f6f9c498-df33-4ad2-9c1b-8d95be9ee0e0\">\n",
              "    <div class=\"colab-df-container\">\n",
              "      <div>\n",
              "<style scoped>\n",
              "    .dataframe tbody tr th:only-of-type {\n",
              "        vertical-align: middle;\n",
              "    }\n",
              "\n",
              "    .dataframe tbody tr th {\n",
              "        vertical-align: top;\n",
              "    }\n",
              "\n",
              "    .dataframe thead th {\n",
              "        text-align: right;\n",
              "    }\n",
              "</style>\n",
              "<table border=\"1\" class=\"dataframe\">\n",
              "  <thead>\n",
              "    <tr style=\"text-align: right;\">\n",
              "      <th></th>\n",
              "      <th>Do Not Email</th>\n",
              "      <th>TotalVisits</th>\n",
              "      <th>Total Time Spent on Website</th>\n",
              "      <th>Page Views Per Visit</th>\n",
              "      <th>LeadOrigin_Lead Add Form</th>\n",
              "      <th>LeadSource_Olark Chat</th>\n",
              "      <th>LeadSource_Welingak Website</th>\n",
              "      <th>LastActivity_Email Opened</th>\n",
              "      <th>LastActivity_Olark Chat Conversation</th>\n",
              "      <th>LastActivity_SMS Sent</th>\n",
              "      <th>CurrentOccupation_No Information</th>\n",
              "      <th>CurrentOccupation_Working Professional</th>\n",
              "      <th>LastNotableActivity_Had a Phone Conversation</th>\n",
              "      <th>LastNotableActivity_Modified</th>\n",
              "      <th>LastNotableActivity_Unreachable</th>\n",
              "    </tr>\n",
              "  </thead>\n",
              "  <tbody>\n",
              "    <tr>\n",
              "      <th>2296</th>\n",
              "      <td>0</td>\n",
              "      <td>0.1875</td>\n",
              "      <td>0.665313</td>\n",
              "      <td>0.37500</td>\n",
              "      <td>0</td>\n",
              "      <td>0</td>\n",
              "      <td>0</td>\n",
              "      <td>0</td>\n",
              "      <td>0</td>\n",
              "      <td>1</td>\n",
              "      <td>0</td>\n",
              "      <td>0</td>\n",
              "      <td>0</td>\n",
              "      <td>0</td>\n",
              "      <td>0</td>\n",
              "    </tr>\n",
              "    <tr>\n",
              "      <th>8697</th>\n",
              "      <td>0</td>\n",
              "      <td>0.4375</td>\n",
              "      <td>0.184032</td>\n",
              "      <td>0.21875</td>\n",
              "      <td>0</td>\n",
              "      <td>0</td>\n",
              "      <td>0</td>\n",
              "      <td>0</td>\n",
              "      <td>0</td>\n",
              "      <td>1</td>\n",
              "      <td>0</td>\n",
              "      <td>0</td>\n",
              "      <td>0</td>\n",
              "      <td>0</td>\n",
              "      <td>0</td>\n",
              "    </tr>\n",
              "    <tr>\n",
              "      <th>7378</th>\n",
              "      <td>0</td>\n",
              "      <td>0.1250</td>\n",
              "      <td>0.163284</td>\n",
              "      <td>0.25000</td>\n",
              "      <td>0</td>\n",
              "      <td>0</td>\n",
              "      <td>0</td>\n",
              "      <td>1</td>\n",
              "      <td>0</td>\n",
              "      <td>0</td>\n",
              "      <td>0</td>\n",
              "      <td>0</td>\n",
              "      <td>0</td>\n",
              "      <td>0</td>\n",
              "      <td>0</td>\n",
              "    </tr>\n",
              "    <tr>\n",
              "      <th>8631</th>\n",
              "      <td>0</td>\n",
              "      <td>0.3125</td>\n",
              "      <td>0.407307</td>\n",
              "      <td>0.62500</td>\n",
              "      <td>0</td>\n",
              "      <td>0</td>\n",
              "      <td>0</td>\n",
              "      <td>0</td>\n",
              "      <td>0</td>\n",
              "      <td>1</td>\n",
              "      <td>0</td>\n",
              "      <td>0</td>\n",
              "      <td>0</td>\n",
              "      <td>1</td>\n",
              "      <td>0</td>\n",
              "    </tr>\n",
              "    <tr>\n",
              "      <th>4799</th>\n",
              "      <td>0</td>\n",
              "      <td>0.5000</td>\n",
              "      <td>0.744700</td>\n",
              "      <td>1.00000</td>\n",
              "      <td>0</td>\n",
              "      <td>0</td>\n",
              "      <td>0</td>\n",
              "      <td>0</td>\n",
              "      <td>0</td>\n",
              "      <td>1</td>\n",
              "      <td>0</td>\n",
              "      <td>0</td>\n",
              "      <td>0</td>\n",
              "      <td>0</td>\n",
              "      <td>0</td>\n",
              "    </tr>\n",
              "  </tbody>\n",
              "</table>\n",
              "</div>\n",
              "      <button class=\"colab-df-convert\" onclick=\"convertToInteractive('df-f6f9c498-df33-4ad2-9c1b-8d95be9ee0e0')\"\n",
              "              title=\"Convert this dataframe to an interactive table.\"\n",
              "              style=\"display:none;\">\n",
              "        \n",
              "  <svg xmlns=\"http://www.w3.org/2000/svg\" height=\"24px\"viewBox=\"0 0 24 24\"\n",
              "       width=\"24px\">\n",
              "    <path d=\"M0 0h24v24H0V0z\" fill=\"none\"/>\n",
              "    <path d=\"M18.56 5.44l.94 2.06.94-2.06 2.06-.94-2.06-.94-.94-2.06-.94 2.06-2.06.94zm-11 1L8.5 8.5l.94-2.06 2.06-.94-2.06-.94L8.5 2.5l-.94 2.06-2.06.94zm10 10l.94 2.06.94-2.06 2.06-.94-2.06-.94-.94-2.06-.94 2.06-2.06.94z\"/><path d=\"M17.41 7.96l-1.37-1.37c-.4-.4-.92-.59-1.43-.59-.52 0-1.04.2-1.43.59L10.3 9.45l-7.72 7.72c-.78.78-.78 2.05 0 2.83L4 21.41c.39.39.9.59 1.41.59.51 0 1.02-.2 1.41-.59l7.78-7.78 2.81-2.81c.8-.78.8-2.07 0-2.86zM5.41 20L4 18.59l7.72-7.72 1.47 1.35L5.41 20z\"/>\n",
              "  </svg>\n",
              "      </button>\n",
              "      \n",
              "  <style>\n",
              "    .colab-df-container {\n",
              "      display:flex;\n",
              "      flex-wrap:wrap;\n",
              "      gap: 12px;\n",
              "    }\n",
              "\n",
              "    .colab-df-convert {\n",
              "      background-color: #E8F0FE;\n",
              "      border: none;\n",
              "      border-radius: 50%;\n",
              "      cursor: pointer;\n",
              "      display: none;\n",
              "      fill: #1967D2;\n",
              "      height: 32px;\n",
              "      padding: 0 0 0 0;\n",
              "      width: 32px;\n",
              "    }\n",
              "\n",
              "    .colab-df-convert:hover {\n",
              "      background-color: #E2EBFA;\n",
              "      box-shadow: 0px 1px 2px rgba(60, 64, 67, 0.3), 0px 1px 3px 1px rgba(60, 64, 67, 0.15);\n",
              "      fill: #174EA6;\n",
              "    }\n",
              "\n",
              "    [theme=dark] .colab-df-convert {\n",
              "      background-color: #3B4455;\n",
              "      fill: #D2E3FC;\n",
              "    }\n",
              "\n",
              "    [theme=dark] .colab-df-convert:hover {\n",
              "      background-color: #434B5C;\n",
              "      box-shadow: 0px 1px 3px 1px rgba(0, 0, 0, 0.15);\n",
              "      filter: drop-shadow(0px 1px 2px rgba(0, 0, 0, 0.3));\n",
              "      fill: #FFFFFF;\n",
              "    }\n",
              "  </style>\n",
              "\n",
              "      <script>\n",
              "        const buttonEl =\n",
              "          document.querySelector('#df-f6f9c498-df33-4ad2-9c1b-8d95be9ee0e0 button.colab-df-convert');\n",
              "        buttonEl.style.display =\n",
              "          google.colab.kernel.accessAllowed ? 'block' : 'none';\n",
              "\n",
              "        async function convertToInteractive(key) {\n",
              "          const element = document.querySelector('#df-f6f9c498-df33-4ad2-9c1b-8d95be9ee0e0');\n",
              "          const dataTable =\n",
              "            await google.colab.kernel.invokeFunction('convertToInteractive',\n",
              "                                                     [key], {});\n",
              "          if (!dataTable) return;\n",
              "\n",
              "          const docLinkHtml = 'Like what you see? Visit the ' +\n",
              "            '<a target=\"_blank\" href=https://colab.research.google.com/notebooks/data_table.ipynb>data table notebook</a>'\n",
              "            + ' to learn more about interactive tables.';\n",
              "          element.innerHTML = '';\n",
              "          dataTable['output_type'] = 'display_data';\n",
              "          await google.colab.output.renderOutput(dataTable, element);\n",
              "          const docLink = document.createElement('div');\n",
              "          docLink.innerHTML = docLinkHtml;\n",
              "          element.appendChild(docLink);\n",
              "        }\n",
              "      </script>\n",
              "    </div>\n",
              "  </div>\n",
              "  "
            ]
          },
          "metadata": {},
          "execution_count": 176
        }
      ],
      "source": [
        "X_test = X_test[col]\n",
        "X_test.head()"
      ]
    },
    {
      "cell_type": "code",
      "execution_count": 177,
      "metadata": {
        "id": "X2x8zIUfd9fG"
      },
      "outputs": [],
      "source": [
        "X_test_sm = sm.add_constant(X_test)"
      ]
    },
    {
      "cell_type": "markdown",
      "metadata": {
        "id": "GuMC-v6Md9fG"
      },
      "source": [
        "Making predictions on the test set"
      ]
    },
    {
      "cell_type": "code",
      "execution_count": 178,
      "metadata": {
        "id": "bHeF8ouMd9fG"
      },
      "outputs": [],
      "source": [
        "y_test_pred = res.predict(X_test_sm)"
      ]
    },
    {
      "cell_type": "code",
      "execution_count": 179,
      "metadata": {
        "id": "A025XN94d9fG",
        "outputId": "7bcbf0e3-91fc-4c5d-a65f-393f5a0e6cae",
        "colab": {
          "base_uri": "https://localhost:8080/"
        }
      },
      "outputs": [
        {
          "output_type": "execute_result",
          "data": {
            "text/plain": [
              "2296    0.900062\n",
              "8697    0.644749\n",
              "7378    0.220473\n",
              "8631    0.623345\n",
              "4799    0.928426\n",
              "4503    0.357389\n",
              "7129    0.863910\n",
              "1717    0.144108\n",
              "8398    0.864212\n",
              "5116    0.255433\n",
              "dtype: float64"
            ]
          },
          "metadata": {},
          "execution_count": 179
        }
      ],
      "source": [
        "y_test_pred[:10]"
      ]
    },
    {
      "cell_type": "code",
      "execution_count": 180,
      "metadata": {
        "id": "oothNJ6xd9fH"
      },
      "outputs": [],
      "source": [
        "# y-pred DATAFRAME\n",
        "\n",
        "y_pred_1 = pd.DataFrame(y_test_pred)"
      ]
    },
    {
      "cell_type": "code",
      "execution_count": 181,
      "metadata": {
        "id": "jGee-d9rd9fI",
        "outputId": "ed6ec0fb-42f3-44cb-d984-7bca501a2981",
        "colab": {
          "base_uri": "https://localhost:8080/",
          "height": 206
        }
      },
      "outputs": [
        {
          "output_type": "execute_result",
          "data": {
            "text/plain": [
              "             0\n",
              "2296  0.900062\n",
              "8697  0.644749\n",
              "7378  0.220473\n",
              "8631  0.623345\n",
              "4799  0.928426"
            ],
            "text/html": [
              "\n",
              "  <div id=\"df-5cf07984-b185-4575-9224-88da2e131dda\">\n",
              "    <div class=\"colab-df-container\">\n",
              "      <div>\n",
              "<style scoped>\n",
              "    .dataframe tbody tr th:only-of-type {\n",
              "        vertical-align: middle;\n",
              "    }\n",
              "\n",
              "    .dataframe tbody tr th {\n",
              "        vertical-align: top;\n",
              "    }\n",
              "\n",
              "    .dataframe thead th {\n",
              "        text-align: right;\n",
              "    }\n",
              "</style>\n",
              "<table border=\"1\" class=\"dataframe\">\n",
              "  <thead>\n",
              "    <tr style=\"text-align: right;\">\n",
              "      <th></th>\n",
              "      <th>0</th>\n",
              "    </tr>\n",
              "  </thead>\n",
              "  <tbody>\n",
              "    <tr>\n",
              "      <th>2296</th>\n",
              "      <td>0.900062</td>\n",
              "    </tr>\n",
              "    <tr>\n",
              "      <th>8697</th>\n",
              "      <td>0.644749</td>\n",
              "    </tr>\n",
              "    <tr>\n",
              "      <th>7378</th>\n",
              "      <td>0.220473</td>\n",
              "    </tr>\n",
              "    <tr>\n",
              "      <th>8631</th>\n",
              "      <td>0.623345</td>\n",
              "    </tr>\n",
              "    <tr>\n",
              "      <th>4799</th>\n",
              "      <td>0.928426</td>\n",
              "    </tr>\n",
              "  </tbody>\n",
              "</table>\n",
              "</div>\n",
              "      <button class=\"colab-df-convert\" onclick=\"convertToInteractive('df-5cf07984-b185-4575-9224-88da2e131dda')\"\n",
              "              title=\"Convert this dataframe to an interactive table.\"\n",
              "              style=\"display:none;\">\n",
              "        \n",
              "  <svg xmlns=\"http://www.w3.org/2000/svg\" height=\"24px\"viewBox=\"0 0 24 24\"\n",
              "       width=\"24px\">\n",
              "    <path d=\"M0 0h24v24H0V0z\" fill=\"none\"/>\n",
              "    <path d=\"M18.56 5.44l.94 2.06.94-2.06 2.06-.94-2.06-.94-.94-2.06-.94 2.06-2.06.94zm-11 1L8.5 8.5l.94-2.06 2.06-.94-2.06-.94L8.5 2.5l-.94 2.06-2.06.94zm10 10l.94 2.06.94-2.06 2.06-.94-2.06-.94-.94-2.06-.94 2.06-2.06.94z\"/><path d=\"M17.41 7.96l-1.37-1.37c-.4-.4-.92-.59-1.43-.59-.52 0-1.04.2-1.43.59L10.3 9.45l-7.72 7.72c-.78.78-.78 2.05 0 2.83L4 21.41c.39.39.9.59 1.41.59.51 0 1.02-.2 1.41-.59l7.78-7.78 2.81-2.81c.8-.78.8-2.07 0-2.86zM5.41 20L4 18.59l7.72-7.72 1.47 1.35L5.41 20z\"/>\n",
              "  </svg>\n",
              "      </button>\n",
              "      \n",
              "  <style>\n",
              "    .colab-df-container {\n",
              "      display:flex;\n",
              "      flex-wrap:wrap;\n",
              "      gap: 12px;\n",
              "    }\n",
              "\n",
              "    .colab-df-convert {\n",
              "      background-color: #E8F0FE;\n",
              "      border: none;\n",
              "      border-radius: 50%;\n",
              "      cursor: pointer;\n",
              "      display: none;\n",
              "      fill: #1967D2;\n",
              "      height: 32px;\n",
              "      padding: 0 0 0 0;\n",
              "      width: 32px;\n",
              "    }\n",
              "\n",
              "    .colab-df-convert:hover {\n",
              "      background-color: #E2EBFA;\n",
              "      box-shadow: 0px 1px 2px rgba(60, 64, 67, 0.3), 0px 1px 3px 1px rgba(60, 64, 67, 0.15);\n",
              "      fill: #174EA6;\n",
              "    }\n",
              "\n",
              "    [theme=dark] .colab-df-convert {\n",
              "      background-color: #3B4455;\n",
              "      fill: #D2E3FC;\n",
              "    }\n",
              "\n",
              "    [theme=dark] .colab-df-convert:hover {\n",
              "      background-color: #434B5C;\n",
              "      box-shadow: 0px 1px 3px 1px rgba(0, 0, 0, 0.15);\n",
              "      filter: drop-shadow(0px 1px 2px rgba(0, 0, 0, 0.3));\n",
              "      fill: #FFFFFF;\n",
              "    }\n",
              "  </style>\n",
              "\n",
              "      <script>\n",
              "        const buttonEl =\n",
              "          document.querySelector('#df-5cf07984-b185-4575-9224-88da2e131dda button.colab-df-convert');\n",
              "        buttonEl.style.display =\n",
              "          google.colab.kernel.accessAllowed ? 'block' : 'none';\n",
              "\n",
              "        async function convertToInteractive(key) {\n",
              "          const element = document.querySelector('#df-5cf07984-b185-4575-9224-88da2e131dda');\n",
              "          const dataTable =\n",
              "            await google.colab.kernel.invokeFunction('convertToInteractive',\n",
              "                                                     [key], {});\n",
              "          if (!dataTable) return;\n",
              "\n",
              "          const docLinkHtml = 'Like what you see? Visit the ' +\n",
              "            '<a target=\"_blank\" href=https://colab.research.google.com/notebooks/data_table.ipynb>data table notebook</a>'\n",
              "            + ' to learn more about interactive tables.';\n",
              "          element.innerHTML = '';\n",
              "          dataTable['output_type'] = 'display_data';\n",
              "          await google.colab.output.renderOutput(dataTable, element);\n",
              "          const docLink = document.createElement('div');\n",
              "          docLink.innerHTML = docLinkHtml;\n",
              "          element.appendChild(docLink);\n",
              "        }\n",
              "      </script>\n",
              "    </div>\n",
              "  </div>\n",
              "  "
            ]
          },
          "metadata": {},
          "execution_count": 181
        }
      ],
      "source": [
        "\n",
        "y_pred_1.head()"
      ]
    },
    {
      "cell_type": "code",
      "execution_count": 182,
      "metadata": {
        "id": "kSTtPYH5d9fJ"
      },
      "outputs": [],
      "source": [
        "# y-test DATAFRAME\n",
        "\n",
        "y_test_df = pd.DataFrame(y_test)"
      ]
    },
    {
      "cell_type": "code",
      "execution_count": 183,
      "metadata": {
        "id": "tTBmu1yBd9fK"
      },
      "outputs": [],
      "source": [
        "# LeadId to index\n",
        "\n",
        "y_test_df['LeadId'] = y_test_df.index"
      ]
    },
    {
      "cell_type": "code",
      "execution_count": 184,
      "metadata": {
        "id": "3ZJKVPuWd9fK"
      },
      "outputs": [],
      "source": [
        "# Removing index for both dataframes to append them side by side \n",
        "\n",
        "y_pred_1.reset_index(drop=True, inplace=True)\n",
        "y_test_df.reset_index(drop=True, inplace=True)"
      ]
    },
    {
      "cell_type": "code",
      "execution_count": 185,
      "metadata": {
        "id": "h9CEOi4fd9fK"
      },
      "outputs": [],
      "source": [
        "# Appending y_test_df and y_pred_1\n",
        "\n",
        "y_pred_final = pd.concat([y_test_df, y_pred_1],axis=1)"
      ]
    },
    {
      "cell_type": "code",
      "execution_count": 186,
      "metadata": {
        "id": "LBoO0Y5Td9fK",
        "outputId": "da677548-7da1-4583-b1c3-378f24f4579c",
        "colab": {
          "base_uri": "https://localhost:8080/",
          "height": 206
        }
      },
      "outputs": [
        {
          "output_type": "execute_result",
          "data": {
            "text/plain": [
              "   Converted  LeadId         0\n",
              "0          1    2296  0.900062\n",
              "1          0    8697  0.644749\n",
              "2          0    7378  0.220473\n",
              "3          0    8631  0.623345\n",
              "4          1    4799  0.928426"
            ],
            "text/html": [
              "\n",
              "  <div id=\"df-c354687a-23c9-49cf-bda3-22292e902f20\">\n",
              "    <div class=\"colab-df-container\">\n",
              "      <div>\n",
              "<style scoped>\n",
              "    .dataframe tbody tr th:only-of-type {\n",
              "        vertical-align: middle;\n",
              "    }\n",
              "\n",
              "    .dataframe tbody tr th {\n",
              "        vertical-align: top;\n",
              "    }\n",
              "\n",
              "    .dataframe thead th {\n",
              "        text-align: right;\n",
              "    }\n",
              "</style>\n",
              "<table border=\"1\" class=\"dataframe\">\n",
              "  <thead>\n",
              "    <tr style=\"text-align: right;\">\n",
              "      <th></th>\n",
              "      <th>Converted</th>\n",
              "      <th>LeadId</th>\n",
              "      <th>0</th>\n",
              "    </tr>\n",
              "  </thead>\n",
              "  <tbody>\n",
              "    <tr>\n",
              "      <th>0</th>\n",
              "      <td>1</td>\n",
              "      <td>2296</td>\n",
              "      <td>0.900062</td>\n",
              "    </tr>\n",
              "    <tr>\n",
              "      <th>1</th>\n",
              "      <td>0</td>\n",
              "      <td>8697</td>\n",
              "      <td>0.644749</td>\n",
              "    </tr>\n",
              "    <tr>\n",
              "      <th>2</th>\n",
              "      <td>0</td>\n",
              "      <td>7378</td>\n",
              "      <td>0.220473</td>\n",
              "    </tr>\n",
              "    <tr>\n",
              "      <th>3</th>\n",
              "      <td>0</td>\n",
              "      <td>8631</td>\n",
              "      <td>0.623345</td>\n",
              "    </tr>\n",
              "    <tr>\n",
              "      <th>4</th>\n",
              "      <td>1</td>\n",
              "      <td>4799</td>\n",
              "      <td>0.928426</td>\n",
              "    </tr>\n",
              "  </tbody>\n",
              "</table>\n",
              "</div>\n",
              "      <button class=\"colab-df-convert\" onclick=\"convertToInteractive('df-c354687a-23c9-49cf-bda3-22292e902f20')\"\n",
              "              title=\"Convert this dataframe to an interactive table.\"\n",
              "              style=\"display:none;\">\n",
              "        \n",
              "  <svg xmlns=\"http://www.w3.org/2000/svg\" height=\"24px\"viewBox=\"0 0 24 24\"\n",
              "       width=\"24px\">\n",
              "    <path d=\"M0 0h24v24H0V0z\" fill=\"none\"/>\n",
              "    <path d=\"M18.56 5.44l.94 2.06.94-2.06 2.06-.94-2.06-.94-.94-2.06-.94 2.06-2.06.94zm-11 1L8.5 8.5l.94-2.06 2.06-.94-2.06-.94L8.5 2.5l-.94 2.06-2.06.94zm10 10l.94 2.06.94-2.06 2.06-.94-2.06-.94-.94-2.06-.94 2.06-2.06.94z\"/><path d=\"M17.41 7.96l-1.37-1.37c-.4-.4-.92-.59-1.43-.59-.52 0-1.04.2-1.43.59L10.3 9.45l-7.72 7.72c-.78.78-.78 2.05 0 2.83L4 21.41c.39.39.9.59 1.41.59.51 0 1.02-.2 1.41-.59l7.78-7.78 2.81-2.81c.8-.78.8-2.07 0-2.86zM5.41 20L4 18.59l7.72-7.72 1.47 1.35L5.41 20z\"/>\n",
              "  </svg>\n",
              "      </button>\n",
              "      \n",
              "  <style>\n",
              "    .colab-df-container {\n",
              "      display:flex;\n",
              "      flex-wrap:wrap;\n",
              "      gap: 12px;\n",
              "    }\n",
              "\n",
              "    .colab-df-convert {\n",
              "      background-color: #E8F0FE;\n",
              "      border: none;\n",
              "      border-radius: 50%;\n",
              "      cursor: pointer;\n",
              "      display: none;\n",
              "      fill: #1967D2;\n",
              "      height: 32px;\n",
              "      padding: 0 0 0 0;\n",
              "      width: 32px;\n",
              "    }\n",
              "\n",
              "    .colab-df-convert:hover {\n",
              "      background-color: #E2EBFA;\n",
              "      box-shadow: 0px 1px 2px rgba(60, 64, 67, 0.3), 0px 1px 3px 1px rgba(60, 64, 67, 0.15);\n",
              "      fill: #174EA6;\n",
              "    }\n",
              "\n",
              "    [theme=dark] .colab-df-convert {\n",
              "      background-color: #3B4455;\n",
              "      fill: #D2E3FC;\n",
              "    }\n",
              "\n",
              "    [theme=dark] .colab-df-convert:hover {\n",
              "      background-color: #434B5C;\n",
              "      box-shadow: 0px 1px 3px 1px rgba(0, 0, 0, 0.15);\n",
              "      filter: drop-shadow(0px 1px 2px rgba(0, 0, 0, 0.3));\n",
              "      fill: #FFFFFF;\n",
              "    }\n",
              "  </style>\n",
              "\n",
              "      <script>\n",
              "        const buttonEl =\n",
              "          document.querySelector('#df-c354687a-23c9-49cf-bda3-22292e902f20 button.colab-df-convert');\n",
              "        buttonEl.style.display =\n",
              "          google.colab.kernel.accessAllowed ? 'block' : 'none';\n",
              "\n",
              "        async function convertToInteractive(key) {\n",
              "          const element = document.querySelector('#df-c354687a-23c9-49cf-bda3-22292e902f20');\n",
              "          const dataTable =\n",
              "            await google.colab.kernel.invokeFunction('convertToInteractive',\n",
              "                                                     [key], {});\n",
              "          if (!dataTable) return;\n",
              "\n",
              "          const docLinkHtml = 'Like what you see? Visit the ' +\n",
              "            '<a target=\"_blank\" href=https://colab.research.google.com/notebooks/data_table.ipynb>data table notebook</a>'\n",
              "            + ' to learn more about interactive tables.';\n",
              "          element.innerHTML = '';\n",
              "          dataTable['output_type'] = 'display_data';\n",
              "          await google.colab.output.renderOutput(dataTable, element);\n",
              "          const docLink = document.createElement('div');\n",
              "          docLink.innerHTML = docLinkHtml;\n",
              "          element.appendChild(docLink);\n",
              "        }\n",
              "      </script>\n",
              "    </div>\n",
              "  </div>\n",
              "  "
            ]
          },
          "metadata": {},
          "execution_count": 186
        }
      ],
      "source": [
        "y_pred_final.head()"
      ]
    },
    {
      "cell_type": "code",
      "execution_count": 187,
      "metadata": {
        "id": "zCvIiaerd9fL",
        "colab": {
          "base_uri": "https://localhost:8080/",
          "height": 424
        },
        "outputId": "bc4e47a8-7ee4-4815-f017-7e6fa101510d"
      },
      "outputs": [
        {
          "output_type": "execute_result",
          "data": {
            "text/plain": [
              "      LeadId  Converted  Converted_Prob\n",
              "0       2296          1        0.900062\n",
              "1       8697          0        0.644749\n",
              "2       7378          0        0.220473\n",
              "3       8631          0        0.623345\n",
              "4       4799          1        0.928426\n",
              "...      ...        ...             ...\n",
              "2704    8688          0        0.069971\n",
              "2705    7783          0        0.179964\n",
              "2706    6255          1        0.658813\n",
              "2707    5390          1        0.942814\n",
              "2708    8539          1        0.696662\n",
              "\n",
              "[2709 rows x 3 columns]"
            ],
            "text/html": [
              "\n",
              "  <div id=\"df-bff89cfb-cb45-4570-b2eb-96ee246d378c\">\n",
              "    <div class=\"colab-df-container\">\n",
              "      <div>\n",
              "<style scoped>\n",
              "    .dataframe tbody tr th:only-of-type {\n",
              "        vertical-align: middle;\n",
              "    }\n",
              "\n",
              "    .dataframe tbody tr th {\n",
              "        vertical-align: top;\n",
              "    }\n",
              "\n",
              "    .dataframe thead th {\n",
              "        text-align: right;\n",
              "    }\n",
              "</style>\n",
              "<table border=\"1\" class=\"dataframe\">\n",
              "  <thead>\n",
              "    <tr style=\"text-align: right;\">\n",
              "      <th></th>\n",
              "      <th>LeadId</th>\n",
              "      <th>Converted</th>\n",
              "      <th>Converted_Prob</th>\n",
              "    </tr>\n",
              "  </thead>\n",
              "  <tbody>\n",
              "    <tr>\n",
              "      <th>0</th>\n",
              "      <td>2296</td>\n",
              "      <td>1</td>\n",
              "      <td>0.900062</td>\n",
              "    </tr>\n",
              "    <tr>\n",
              "      <th>1</th>\n",
              "      <td>8697</td>\n",
              "      <td>0</td>\n",
              "      <td>0.644749</td>\n",
              "    </tr>\n",
              "    <tr>\n",
              "      <th>2</th>\n",
              "      <td>7378</td>\n",
              "      <td>0</td>\n",
              "      <td>0.220473</td>\n",
              "    </tr>\n",
              "    <tr>\n",
              "      <th>3</th>\n",
              "      <td>8631</td>\n",
              "      <td>0</td>\n",
              "      <td>0.623345</td>\n",
              "    </tr>\n",
              "    <tr>\n",
              "      <th>4</th>\n",
              "      <td>4799</td>\n",
              "      <td>1</td>\n",
              "      <td>0.928426</td>\n",
              "    </tr>\n",
              "    <tr>\n",
              "      <th>...</th>\n",
              "      <td>...</td>\n",
              "      <td>...</td>\n",
              "      <td>...</td>\n",
              "    </tr>\n",
              "    <tr>\n",
              "      <th>2704</th>\n",
              "      <td>8688</td>\n",
              "      <td>0</td>\n",
              "      <td>0.069971</td>\n",
              "    </tr>\n",
              "    <tr>\n",
              "      <th>2705</th>\n",
              "      <td>7783</td>\n",
              "      <td>0</td>\n",
              "      <td>0.179964</td>\n",
              "    </tr>\n",
              "    <tr>\n",
              "      <th>2706</th>\n",
              "      <td>6255</td>\n",
              "      <td>1</td>\n",
              "      <td>0.658813</td>\n",
              "    </tr>\n",
              "    <tr>\n",
              "      <th>2707</th>\n",
              "      <td>5390</td>\n",
              "      <td>1</td>\n",
              "      <td>0.942814</td>\n",
              "    </tr>\n",
              "    <tr>\n",
              "      <th>2708</th>\n",
              "      <td>8539</td>\n",
              "      <td>1</td>\n",
              "      <td>0.696662</td>\n",
              "    </tr>\n",
              "  </tbody>\n",
              "</table>\n",
              "<p>2709 rows × 3 columns</p>\n",
              "</div>\n",
              "      <button class=\"colab-df-convert\" onclick=\"convertToInteractive('df-bff89cfb-cb45-4570-b2eb-96ee246d378c')\"\n",
              "              title=\"Convert this dataframe to an interactive table.\"\n",
              "              style=\"display:none;\">\n",
              "        \n",
              "  <svg xmlns=\"http://www.w3.org/2000/svg\" height=\"24px\"viewBox=\"0 0 24 24\"\n",
              "       width=\"24px\">\n",
              "    <path d=\"M0 0h24v24H0V0z\" fill=\"none\"/>\n",
              "    <path d=\"M18.56 5.44l.94 2.06.94-2.06 2.06-.94-2.06-.94-.94-2.06-.94 2.06-2.06.94zm-11 1L8.5 8.5l.94-2.06 2.06-.94-2.06-.94L8.5 2.5l-.94 2.06-2.06.94zm10 10l.94 2.06.94-2.06 2.06-.94-2.06-.94-.94-2.06-.94 2.06-2.06.94z\"/><path d=\"M17.41 7.96l-1.37-1.37c-.4-.4-.92-.59-1.43-.59-.52 0-1.04.2-1.43.59L10.3 9.45l-7.72 7.72c-.78.78-.78 2.05 0 2.83L4 21.41c.39.39.9.59 1.41.59.51 0 1.02-.2 1.41-.59l7.78-7.78 2.81-2.81c.8-.78.8-2.07 0-2.86zM5.41 20L4 18.59l7.72-7.72 1.47 1.35L5.41 20z\"/>\n",
              "  </svg>\n",
              "      </button>\n",
              "      \n",
              "  <style>\n",
              "    .colab-df-container {\n",
              "      display:flex;\n",
              "      flex-wrap:wrap;\n",
              "      gap: 12px;\n",
              "    }\n",
              "\n",
              "    .colab-df-convert {\n",
              "      background-color: #E8F0FE;\n",
              "      border: none;\n",
              "      border-radius: 50%;\n",
              "      cursor: pointer;\n",
              "      display: none;\n",
              "      fill: #1967D2;\n",
              "      height: 32px;\n",
              "      padding: 0 0 0 0;\n",
              "      width: 32px;\n",
              "    }\n",
              "\n",
              "    .colab-df-convert:hover {\n",
              "      background-color: #E2EBFA;\n",
              "      box-shadow: 0px 1px 2px rgba(60, 64, 67, 0.3), 0px 1px 3px 1px rgba(60, 64, 67, 0.15);\n",
              "      fill: #174EA6;\n",
              "    }\n",
              "\n",
              "    [theme=dark] .colab-df-convert {\n",
              "      background-color: #3B4455;\n",
              "      fill: #D2E3FC;\n",
              "    }\n",
              "\n",
              "    [theme=dark] .colab-df-convert:hover {\n",
              "      background-color: #434B5C;\n",
              "      box-shadow: 0px 1px 3px 1px rgba(0, 0, 0, 0.15);\n",
              "      filter: drop-shadow(0px 1px 2px rgba(0, 0, 0, 0.3));\n",
              "      fill: #FFFFFF;\n",
              "    }\n",
              "  </style>\n",
              "\n",
              "      <script>\n",
              "        const buttonEl =\n",
              "          document.querySelector('#df-bff89cfb-cb45-4570-b2eb-96ee246d378c button.colab-df-convert');\n",
              "        buttonEl.style.display =\n",
              "          google.colab.kernel.accessAllowed ? 'block' : 'none';\n",
              "\n",
              "        async function convertToInteractive(key) {\n",
              "          const element = document.querySelector('#df-bff89cfb-cb45-4570-b2eb-96ee246d378c');\n",
              "          const dataTable =\n",
              "            await google.colab.kernel.invokeFunction('convertToInteractive',\n",
              "                                                     [key], {});\n",
              "          if (!dataTable) return;\n",
              "\n",
              "          const docLinkHtml = 'Like what you see? Visit the ' +\n",
              "            '<a target=\"_blank\" href=https://colab.research.google.com/notebooks/data_table.ipynb>data table notebook</a>'\n",
              "            + ' to learn more about interactive tables.';\n",
              "          element.innerHTML = '';\n",
              "          dataTable['output_type'] = 'display_data';\n",
              "          await google.colab.output.renderOutput(dataTable, element);\n",
              "          const docLink = document.createElement('div');\n",
              "          docLink.innerHTML = docLinkHtml;\n",
              "          element.appendChild(docLink);\n",
              "        }\n",
              "      </script>\n",
              "    </div>\n",
              "  </div>\n",
              "  "
            ]
          },
          "metadata": {},
          "execution_count": 187
        }
      ],
      "source": [
        "# Renaming and # Rearranging the columns\n",
        "\n",
        "y_pred_final= y_pred_final.rename(columns={ 0 : 'Converted_Prob'})\n",
        "y_pred_final.loc[:,['LeadId','Converted','Converted_Prob']]"
      ]
    },
    {
      "cell_type": "code",
      "execution_count": 187,
      "metadata": {
        "id": "iMtdriPrd9fL"
      },
      "outputs": [],
      "source": [
        "\n",
        "\n"
      ]
    },
    {
      "cell_type": "code",
      "execution_count": 187,
      "metadata": {
        "id": "VDtWyfcNd9fL"
      },
      "outputs": [],
      "source": []
    },
    {
      "cell_type": "code",
      "execution_count": 188,
      "metadata": {
        "id": "2Ut4xBzud9fM"
      },
      "outputs": [],
      "source": [
        "# Based on cut off threshold using accuracy, sensitivity and specificity of 0.37%\n",
        "\n",
        "y_pred_final['final_predicted'] = y_pred_final.Converted_Prob.map(lambda x: 1 if x > 0.37 else 0)"
      ]
    },
    {
      "cell_type": "code",
      "execution_count": 189,
      "metadata": {
        "id": "DCoaC-Y5d9fM",
        "outputId": "0c05c3fd-d8a1-4d93-c170-e8d99686cb0d",
        "colab": {
          "base_uri": "https://localhost:8080/",
          "height": 206
        }
      },
      "outputs": [
        {
          "output_type": "execute_result",
          "data": {
            "text/plain": [
              "   Converted  LeadId  Converted_Prob  final_predicted\n",
              "0          1    2296        0.900062                1\n",
              "1          0    8697        0.644749                1\n",
              "2          0    7378        0.220473                0\n",
              "3          0    8631        0.623345                1\n",
              "4          1    4799        0.928426                1"
            ],
            "text/html": [
              "\n",
              "  <div id=\"df-0b885f82-273d-4a29-8570-f9430c2e8f34\">\n",
              "    <div class=\"colab-df-container\">\n",
              "      <div>\n",
              "<style scoped>\n",
              "    .dataframe tbody tr th:only-of-type {\n",
              "        vertical-align: middle;\n",
              "    }\n",
              "\n",
              "    .dataframe tbody tr th {\n",
              "        vertical-align: top;\n",
              "    }\n",
              "\n",
              "    .dataframe thead th {\n",
              "        text-align: right;\n",
              "    }\n",
              "</style>\n",
              "<table border=\"1\" class=\"dataframe\">\n",
              "  <thead>\n",
              "    <tr style=\"text-align: right;\">\n",
              "      <th></th>\n",
              "      <th>Converted</th>\n",
              "      <th>LeadId</th>\n",
              "      <th>Converted_Prob</th>\n",
              "      <th>final_predicted</th>\n",
              "    </tr>\n",
              "  </thead>\n",
              "  <tbody>\n",
              "    <tr>\n",
              "      <th>0</th>\n",
              "      <td>1</td>\n",
              "      <td>2296</td>\n",
              "      <td>0.900062</td>\n",
              "      <td>1</td>\n",
              "    </tr>\n",
              "    <tr>\n",
              "      <th>1</th>\n",
              "      <td>0</td>\n",
              "      <td>8697</td>\n",
              "      <td>0.644749</td>\n",
              "      <td>1</td>\n",
              "    </tr>\n",
              "    <tr>\n",
              "      <th>2</th>\n",
              "      <td>0</td>\n",
              "      <td>7378</td>\n",
              "      <td>0.220473</td>\n",
              "      <td>0</td>\n",
              "    </tr>\n",
              "    <tr>\n",
              "      <th>3</th>\n",
              "      <td>0</td>\n",
              "      <td>8631</td>\n",
              "      <td>0.623345</td>\n",
              "      <td>1</td>\n",
              "    </tr>\n",
              "    <tr>\n",
              "      <th>4</th>\n",
              "      <td>1</td>\n",
              "      <td>4799</td>\n",
              "      <td>0.928426</td>\n",
              "      <td>1</td>\n",
              "    </tr>\n",
              "  </tbody>\n",
              "</table>\n",
              "</div>\n",
              "      <button class=\"colab-df-convert\" onclick=\"convertToInteractive('df-0b885f82-273d-4a29-8570-f9430c2e8f34')\"\n",
              "              title=\"Convert this dataframe to an interactive table.\"\n",
              "              style=\"display:none;\">\n",
              "        \n",
              "  <svg xmlns=\"http://www.w3.org/2000/svg\" height=\"24px\"viewBox=\"0 0 24 24\"\n",
              "       width=\"24px\">\n",
              "    <path d=\"M0 0h24v24H0V0z\" fill=\"none\"/>\n",
              "    <path d=\"M18.56 5.44l.94 2.06.94-2.06 2.06-.94-2.06-.94-.94-2.06-.94 2.06-2.06.94zm-11 1L8.5 8.5l.94-2.06 2.06-.94-2.06-.94L8.5 2.5l-.94 2.06-2.06.94zm10 10l.94 2.06.94-2.06 2.06-.94-2.06-.94-.94-2.06-.94 2.06-2.06.94z\"/><path d=\"M17.41 7.96l-1.37-1.37c-.4-.4-.92-.59-1.43-.59-.52 0-1.04.2-1.43.59L10.3 9.45l-7.72 7.72c-.78.78-.78 2.05 0 2.83L4 21.41c.39.39.9.59 1.41.59.51 0 1.02-.2 1.41-.59l7.78-7.78 2.81-2.81c.8-.78.8-2.07 0-2.86zM5.41 20L4 18.59l7.72-7.72 1.47 1.35L5.41 20z\"/>\n",
              "  </svg>\n",
              "      </button>\n",
              "      \n",
              "  <style>\n",
              "    .colab-df-container {\n",
              "      display:flex;\n",
              "      flex-wrap:wrap;\n",
              "      gap: 12px;\n",
              "    }\n",
              "\n",
              "    .colab-df-convert {\n",
              "      background-color: #E8F0FE;\n",
              "      border: none;\n",
              "      border-radius: 50%;\n",
              "      cursor: pointer;\n",
              "      display: none;\n",
              "      fill: #1967D2;\n",
              "      height: 32px;\n",
              "      padding: 0 0 0 0;\n",
              "      width: 32px;\n",
              "    }\n",
              "\n",
              "    .colab-df-convert:hover {\n",
              "      background-color: #E2EBFA;\n",
              "      box-shadow: 0px 1px 2px rgba(60, 64, 67, 0.3), 0px 1px 3px 1px rgba(60, 64, 67, 0.15);\n",
              "      fill: #174EA6;\n",
              "    }\n",
              "\n",
              "    [theme=dark] .colab-df-convert {\n",
              "      background-color: #3B4455;\n",
              "      fill: #D2E3FC;\n",
              "    }\n",
              "\n",
              "    [theme=dark] .colab-df-convert:hover {\n",
              "      background-color: #434B5C;\n",
              "      box-shadow: 0px 1px 3px 1px rgba(0, 0, 0, 0.15);\n",
              "      filter: drop-shadow(0px 1px 2px rgba(0, 0, 0, 0.3));\n",
              "      fill: #FFFFFF;\n",
              "    }\n",
              "  </style>\n",
              "\n",
              "      <script>\n",
              "        const buttonEl =\n",
              "          document.querySelector('#df-0b885f82-273d-4a29-8570-f9430c2e8f34 button.colab-df-convert');\n",
              "        buttonEl.style.display =\n",
              "          google.colab.kernel.accessAllowed ? 'block' : 'none';\n",
              "\n",
              "        async function convertToInteractive(key) {\n",
              "          const element = document.querySelector('#df-0b885f82-273d-4a29-8570-f9430c2e8f34');\n",
              "          const dataTable =\n",
              "            await google.colab.kernel.invokeFunction('convertToInteractive',\n",
              "                                                     [key], {});\n",
              "          if (!dataTable) return;\n",
              "\n",
              "          const docLinkHtml = 'Like what you see? Visit the ' +\n",
              "            '<a target=\"_blank\" href=https://colab.research.google.com/notebooks/data_table.ipynb>data table notebook</a>'\n",
              "            + ' to learn more about interactive tables.';\n",
              "          element.innerHTML = '';\n",
              "          dataTable['output_type'] = 'display_data';\n",
              "          await google.colab.output.renderOutput(dataTable, element);\n",
              "          const docLink = document.createElement('div');\n",
              "          docLink.innerHTML = docLinkHtml;\n",
              "          element.appendChild(docLink);\n",
              "        }\n",
              "      </script>\n",
              "    </div>\n",
              "  </div>\n",
              "  "
            ]
          },
          "metadata": {},
          "execution_count": 189
        }
      ],
      "source": [
        "y_pred_final.head()"
      ]
    },
    {
      "cell_type": "code",
      "execution_count": 190,
      "metadata": {
        "id": "hRIf-J0Vd9fM",
        "outputId": "402e831e-ce21-4c96-b0bd-f9f3b273104b",
        "colab": {
          "base_uri": "https://localhost:8080/",
          "height": 677
        }
      },
      "outputs": [
        {
          "output_type": "execute_result",
          "data": {
            "text/plain": [
              "    Converted  LeadId  Converted_Prob  final_predicted  lead_score\n",
              "0           1    2296        0.900062                1          90\n",
              "1           0    8697        0.644749                1          64\n",
              "2           0    7378        0.220473                0          22\n",
              "3           0    8631        0.623345                1          62\n",
              "4           1    4799        0.928426                1          93\n",
              "5           0    4503        0.357389                0          36\n",
              "6           0    7129        0.863910                1          86\n",
              "7           0    1717        0.144108                0          14\n",
              "8           0    8398        0.864212                1          86\n",
              "9           1    5116        0.255433                0          26\n",
              "10          0    1838        0.212450                0          21\n",
              "11          1    5057        0.435407                1          44\n",
              "12          0    7015        0.009912                0           1\n",
              "13          0    6352        0.148282                0          15\n",
              "14          0     575        0.098482                0          10\n",
              "15          1    4597        0.160092                0          16\n",
              "16          0    8355        0.608597                1          61\n",
              "17          1    8574        0.503163                1          50\n",
              "18          0    4207        0.018700                0           2\n",
              "19          1    4420        0.749368                1          75"
            ],
            "text/html": [
              "\n",
              "  <div id=\"df-a490ae14-28c8-409f-a588-2d2f11e0bc19\">\n",
              "    <div class=\"colab-df-container\">\n",
              "      <div>\n",
              "<style scoped>\n",
              "    .dataframe tbody tr th:only-of-type {\n",
              "        vertical-align: middle;\n",
              "    }\n",
              "\n",
              "    .dataframe tbody tr th {\n",
              "        vertical-align: top;\n",
              "    }\n",
              "\n",
              "    .dataframe thead th {\n",
              "        text-align: right;\n",
              "    }\n",
              "</style>\n",
              "<table border=\"1\" class=\"dataframe\">\n",
              "  <thead>\n",
              "    <tr style=\"text-align: right;\">\n",
              "      <th></th>\n",
              "      <th>Converted</th>\n",
              "      <th>LeadId</th>\n",
              "      <th>Converted_Prob</th>\n",
              "      <th>final_predicted</th>\n",
              "      <th>lead_score</th>\n",
              "    </tr>\n",
              "  </thead>\n",
              "  <tbody>\n",
              "    <tr>\n",
              "      <th>0</th>\n",
              "      <td>1</td>\n",
              "      <td>2296</td>\n",
              "      <td>0.900062</td>\n",
              "      <td>1</td>\n",
              "      <td>90</td>\n",
              "    </tr>\n",
              "    <tr>\n",
              "      <th>1</th>\n",
              "      <td>0</td>\n",
              "      <td>8697</td>\n",
              "      <td>0.644749</td>\n",
              "      <td>1</td>\n",
              "      <td>64</td>\n",
              "    </tr>\n",
              "    <tr>\n",
              "      <th>2</th>\n",
              "      <td>0</td>\n",
              "      <td>7378</td>\n",
              "      <td>0.220473</td>\n",
              "      <td>0</td>\n",
              "      <td>22</td>\n",
              "    </tr>\n",
              "    <tr>\n",
              "      <th>3</th>\n",
              "      <td>0</td>\n",
              "      <td>8631</td>\n",
              "      <td>0.623345</td>\n",
              "      <td>1</td>\n",
              "      <td>62</td>\n",
              "    </tr>\n",
              "    <tr>\n",
              "      <th>4</th>\n",
              "      <td>1</td>\n",
              "      <td>4799</td>\n",
              "      <td>0.928426</td>\n",
              "      <td>1</td>\n",
              "      <td>93</td>\n",
              "    </tr>\n",
              "    <tr>\n",
              "      <th>5</th>\n",
              "      <td>0</td>\n",
              "      <td>4503</td>\n",
              "      <td>0.357389</td>\n",
              "      <td>0</td>\n",
              "      <td>36</td>\n",
              "    </tr>\n",
              "    <tr>\n",
              "      <th>6</th>\n",
              "      <td>0</td>\n",
              "      <td>7129</td>\n",
              "      <td>0.863910</td>\n",
              "      <td>1</td>\n",
              "      <td>86</td>\n",
              "    </tr>\n",
              "    <tr>\n",
              "      <th>7</th>\n",
              "      <td>0</td>\n",
              "      <td>1717</td>\n",
              "      <td>0.144108</td>\n",
              "      <td>0</td>\n",
              "      <td>14</td>\n",
              "    </tr>\n",
              "    <tr>\n",
              "      <th>8</th>\n",
              "      <td>0</td>\n",
              "      <td>8398</td>\n",
              "      <td>0.864212</td>\n",
              "      <td>1</td>\n",
              "      <td>86</td>\n",
              "    </tr>\n",
              "    <tr>\n",
              "      <th>9</th>\n",
              "      <td>1</td>\n",
              "      <td>5116</td>\n",
              "      <td>0.255433</td>\n",
              "      <td>0</td>\n",
              "      <td>26</td>\n",
              "    </tr>\n",
              "    <tr>\n",
              "      <th>10</th>\n",
              "      <td>0</td>\n",
              "      <td>1838</td>\n",
              "      <td>0.212450</td>\n",
              "      <td>0</td>\n",
              "      <td>21</td>\n",
              "    </tr>\n",
              "    <tr>\n",
              "      <th>11</th>\n",
              "      <td>1</td>\n",
              "      <td>5057</td>\n",
              "      <td>0.435407</td>\n",
              "      <td>1</td>\n",
              "      <td>44</td>\n",
              "    </tr>\n",
              "    <tr>\n",
              "      <th>12</th>\n",
              "      <td>0</td>\n",
              "      <td>7015</td>\n",
              "      <td>0.009912</td>\n",
              "      <td>0</td>\n",
              "      <td>1</td>\n",
              "    </tr>\n",
              "    <tr>\n",
              "      <th>13</th>\n",
              "      <td>0</td>\n",
              "      <td>6352</td>\n",
              "      <td>0.148282</td>\n",
              "      <td>0</td>\n",
              "      <td>15</td>\n",
              "    </tr>\n",
              "    <tr>\n",
              "      <th>14</th>\n",
              "      <td>0</td>\n",
              "      <td>575</td>\n",
              "      <td>0.098482</td>\n",
              "      <td>0</td>\n",
              "      <td>10</td>\n",
              "    </tr>\n",
              "    <tr>\n",
              "      <th>15</th>\n",
              "      <td>1</td>\n",
              "      <td>4597</td>\n",
              "      <td>0.160092</td>\n",
              "      <td>0</td>\n",
              "      <td>16</td>\n",
              "    </tr>\n",
              "    <tr>\n",
              "      <th>16</th>\n",
              "      <td>0</td>\n",
              "      <td>8355</td>\n",
              "      <td>0.608597</td>\n",
              "      <td>1</td>\n",
              "      <td>61</td>\n",
              "    </tr>\n",
              "    <tr>\n",
              "      <th>17</th>\n",
              "      <td>1</td>\n",
              "      <td>8574</td>\n",
              "      <td>0.503163</td>\n",
              "      <td>1</td>\n",
              "      <td>50</td>\n",
              "    </tr>\n",
              "    <tr>\n",
              "      <th>18</th>\n",
              "      <td>0</td>\n",
              "      <td>4207</td>\n",
              "      <td>0.018700</td>\n",
              "      <td>0</td>\n",
              "      <td>2</td>\n",
              "    </tr>\n",
              "    <tr>\n",
              "      <th>19</th>\n",
              "      <td>1</td>\n",
              "      <td>4420</td>\n",
              "      <td>0.749368</td>\n",
              "      <td>1</td>\n",
              "      <td>75</td>\n",
              "    </tr>\n",
              "  </tbody>\n",
              "</table>\n",
              "</div>\n",
              "      <button class=\"colab-df-convert\" onclick=\"convertToInteractive('df-a490ae14-28c8-409f-a588-2d2f11e0bc19')\"\n",
              "              title=\"Convert this dataframe to an interactive table.\"\n",
              "              style=\"display:none;\">\n",
              "        \n",
              "  <svg xmlns=\"http://www.w3.org/2000/svg\" height=\"24px\"viewBox=\"0 0 24 24\"\n",
              "       width=\"24px\">\n",
              "    <path d=\"M0 0h24v24H0V0z\" fill=\"none\"/>\n",
              "    <path d=\"M18.56 5.44l.94 2.06.94-2.06 2.06-.94-2.06-.94-.94-2.06-.94 2.06-2.06.94zm-11 1L8.5 8.5l.94-2.06 2.06-.94-2.06-.94L8.5 2.5l-.94 2.06-2.06.94zm10 10l.94 2.06.94-2.06 2.06-.94-2.06-.94-.94-2.06-.94 2.06-2.06.94z\"/><path d=\"M17.41 7.96l-1.37-1.37c-.4-.4-.92-.59-1.43-.59-.52 0-1.04.2-1.43.59L10.3 9.45l-7.72 7.72c-.78.78-.78 2.05 0 2.83L4 21.41c.39.39.9.59 1.41.59.51 0 1.02-.2 1.41-.59l7.78-7.78 2.81-2.81c.8-.78.8-2.07 0-2.86zM5.41 20L4 18.59l7.72-7.72 1.47 1.35L5.41 20z\"/>\n",
              "  </svg>\n",
              "      </button>\n",
              "      \n",
              "  <style>\n",
              "    .colab-df-container {\n",
              "      display:flex;\n",
              "      flex-wrap:wrap;\n",
              "      gap: 12px;\n",
              "    }\n",
              "\n",
              "    .colab-df-convert {\n",
              "      background-color: #E8F0FE;\n",
              "      border: none;\n",
              "      border-radius: 50%;\n",
              "      cursor: pointer;\n",
              "      display: none;\n",
              "      fill: #1967D2;\n",
              "      height: 32px;\n",
              "      padding: 0 0 0 0;\n",
              "      width: 32px;\n",
              "    }\n",
              "\n",
              "    .colab-df-convert:hover {\n",
              "      background-color: #E2EBFA;\n",
              "      box-shadow: 0px 1px 2px rgba(60, 64, 67, 0.3), 0px 1px 3px 1px rgba(60, 64, 67, 0.15);\n",
              "      fill: #174EA6;\n",
              "    }\n",
              "\n",
              "    [theme=dark] .colab-df-convert {\n",
              "      background-color: #3B4455;\n",
              "      fill: #D2E3FC;\n",
              "    }\n",
              "\n",
              "    [theme=dark] .colab-df-convert:hover {\n",
              "      background-color: #434B5C;\n",
              "      box-shadow: 0px 1px 3px 1px rgba(0, 0, 0, 0.15);\n",
              "      filter: drop-shadow(0px 1px 2px rgba(0, 0, 0, 0.3));\n",
              "      fill: #FFFFFF;\n",
              "    }\n",
              "  </style>\n",
              "\n",
              "      <script>\n",
              "        const buttonEl =\n",
              "          document.querySelector('#df-a490ae14-28c8-409f-a588-2d2f11e0bc19 button.colab-df-convert');\n",
              "        buttonEl.style.display =\n",
              "          google.colab.kernel.accessAllowed ? 'block' : 'none';\n",
              "\n",
              "        async function convertToInteractive(key) {\n",
              "          const element = document.querySelector('#df-a490ae14-28c8-409f-a588-2d2f11e0bc19');\n",
              "          const dataTable =\n",
              "            await google.colab.kernel.invokeFunction('convertToInteractive',\n",
              "                                                     [key], {});\n",
              "          if (!dataTable) return;\n",
              "\n",
              "          const docLinkHtml = 'Like what you see? Visit the ' +\n",
              "            '<a target=\"_blank\" href=https://colab.research.google.com/notebooks/data_table.ipynb>data table notebook</a>'\n",
              "            + ' to learn more about interactive tables.';\n",
              "          element.innerHTML = '';\n",
              "          dataTable['output_type'] = 'display_data';\n",
              "          await google.colab.output.renderOutput(dataTable, element);\n",
              "          const docLink = document.createElement('div');\n",
              "          docLink.innerHTML = docLinkHtml;\n",
              "          element.appendChild(docLink);\n",
              "        }\n",
              "      </script>\n",
              "    </div>\n",
              "  </div>\n",
              "  "
            ]
          },
          "metadata": {},
          "execution_count": 190
        }
      ],
      "source": [
        "# Calculate the lead score\n",
        "\n",
        "y_pred_final['lead_score'] = y_pred_final.Converted_Prob.map(lambda x: round(x*100))\n",
        "y_pred_final.head(20)"
      ]
    },
    {
      "cell_type": "code",
      "execution_count": 191,
      "metadata": {
        "id": "XcdMfoWid9fN",
        "outputId": "c21742a2-0ea1-484c-db51-e1a271f3167d",
        "colab": {
          "base_uri": "https://localhost:8080/"
        }
      },
      "outputs": [
        {
          "output_type": "execute_result",
          "data": {
            "text/plain": [
              "1    812\n",
              "0    203\n",
              "Name: final_predicted, dtype: int64"
            ]
          },
          "metadata": {},
          "execution_count": 191
        }
      ],
      "source": [
        "#  80% cases are correctly predicted based on the converted column.\n",
        "\n",
        "# Total of final predicted conversion or non conversion counts from the actual converted rates\n",
        "\n",
        "checking_test_df = y_pred_final.loc[y_pred_final['Converted']==1,['Converted','final_predicted']]\n",
        "checking_test_df['final_predicted'].value_counts()"
      ]
    },
    {
      "cell_type": "code",
      "execution_count": 192,
      "metadata": {
        "id": "-FBxltNbd9fN",
        "outputId": "beab4a63-544b-415f-8b60-dc22df83fff4",
        "colab": {
          "base_uri": "https://localhost:8080/"
        }
      },
      "outputs": [
        {
          "output_type": "execute_result",
          "data": {
            "text/plain": [
              "0.7852216748768472"
            ]
          },
          "metadata": {},
          "execution_count": 192
        }
      ],
      "source": [
        "# Percentage of final_predicted conversions on test data\n",
        "\n",
        "797/float(797+218)"
      ]
    },
    {
      "cell_type": "markdown",
      "metadata": {
        "id": "k9I-FQ1Rd9fN"
      },
      "source": [
        "##### Hence we can see that the final prediction of conversions have a target rate of 79% (78.5%) (Around 1 % short of the predictions made on training data set)"
      ]
    },
    {
      "cell_type": "markdown",
      "metadata": {
        "id": "XYXUjxmzd9fN"
      },
      "source": [
        "##### Overall Metrics - Accuracy, Confusion Metrics, Sensitivity, Specificity  on test set"
      ]
    },
    {
      "cell_type": "code",
      "execution_count": 193,
      "metadata": {
        "id": "f8ji3wxid9fO",
        "outputId": "bf61376e-8d68-4395-cb6a-a6a803ce027f",
        "colab": {
          "base_uri": "https://localhost:8080/"
        }
      },
      "outputs": [
        {
          "output_type": "execute_result",
          "data": {
            "text/plain": [
              "0.813953488372093"
            ]
          },
          "metadata": {},
          "execution_count": 193
        }
      ],
      "source": [
        "# Accuracy.\n",
        "\n",
        "metrics.accuracy_score(y_pred_final.Converted, y_pred_final.final_predicted)"
      ]
    },
    {
      "cell_type": "code",
      "execution_count": 194,
      "metadata": {
        "id": "BYGj8o1wd9fO",
        "outputId": "991a4f54-25ec-41ac-fb4f-296b77be44f7",
        "colab": {
          "base_uri": "https://localhost:8080/"
        }
      },
      "outputs": [
        {
          "output_type": "execute_result",
          "data": {
            "text/plain": [
              "array([[1393,  301],\n",
              "       [ 203,  812]])"
            ]
          },
          "metadata": {},
          "execution_count": 194
        }
      ],
      "source": [
        "confusion2 = metrics.confusion_matrix(y_pred_final.Converted, y_pred_final.final_predicted )\n",
        "confusion2"
      ]
    },
    {
      "cell_type": "code",
      "execution_count": 195,
      "metadata": {
        "id": "cWzd-haLd9fO"
      },
      "outputs": [],
      "source": [
        "TP = confusion2[1,1] # true positive \n",
        "TN = confusion2[0,0] # true negatives\n",
        "FP = confusion2[0,1] # false positives\n",
        "FN = confusion2[1,0] # false negatives"
      ]
    },
    {
      "cell_type": "code",
      "execution_count": 196,
      "metadata": {
        "id": "hD2wff6Cd9fP",
        "outputId": "2dca2c62-2ce8-4619-9437-c8961986dd81",
        "colab": {
          "base_uri": "https://localhost:8080/"
        }
      },
      "outputs": [
        {
          "output_type": "execute_result",
          "data": {
            "text/plain": [
              "0.8"
            ]
          },
          "metadata": {},
          "execution_count": 196
        }
      ],
      "source": [
        "# Sensitivity of our logistic regression model\n",
        "TP / float(TP+FN)"
      ]
    },
    {
      "cell_type": "code",
      "execution_count": 197,
      "metadata": {
        "id": "ASu45aAjd9fP",
        "outputId": "dd01a85a-0a7d-45a3-dc99-0bd7e3e2be19",
        "colab": {
          "base_uri": "https://localhost:8080/"
        }
      },
      "outputs": [
        {
          "output_type": "execute_result",
          "data": {
            "text/plain": [
              "0.8223140495867769"
            ]
          },
          "metadata": {},
          "execution_count": 197
        }
      ],
      "source": [
        "# Calculate specificity\n",
        "TN / float(TN+FP)"
      ]
    },
    {
      "cell_type": "markdown",
      "metadata": {
        "id": "LEcYtGUxd9fP"
      },
      "source": [
        "##### Precision and Recall metrics for the test set "
      ]
    },
    {
      "cell_type": "code",
      "execution_count": 198,
      "metadata": {
        "id": "mPewCUSxd9fP",
        "outputId": "75c75426-a2f3-413e-ac52-713362e2f4ba",
        "colab": {
          "base_uri": "https://localhost:8080/"
        }
      },
      "outputs": [
        {
          "output_type": "stream",
          "name": "stdout",
          "text": [
            "precision  0.7295597484276729\n",
            "recall  0.8\n"
          ]
        }
      ],
      "source": [
        "# precision\n",
        "print('precision ',precision_score(y_pred_final.Converted, y_pred_final.final_predicted))\n",
        "\n",
        "# recall\n",
        "print('recall ',recall_score(y_pred_final.Converted, y_pred_final.final_predicted))"
      ]
    },
    {
      "cell_type": "code",
      "execution_count": 199,
      "metadata": {
        "id": "mD2t_qq_d9fQ",
        "outputId": "eed26b46-6c88-4122-8e1a-dfe0a4f68f59",
        "colab": {
          "base_uri": "https://localhost:8080/",
          "height": 265
        }
      },
      "outputs": [
        {
          "output_type": "display_data",
          "data": {
            "text/plain": [
              "<Figure size 432x288 with 1 Axes>"
            ],
            "image/png": "[encoded data removed]"
          },
          "metadata": {
            "needs_background": "light"
          }
        }
      ],
      "source": [
        "\n",
        "p, r, thresholds = precision_recall_curve(y_pred_final.Converted, y_pred_final.Converted_Prob)\n",
        "\n",
        "plt.plot(thresholds, p[:-1], \"g-\")\n",
        "plt.plot(thresholds, r[:-1], \"r-\")\n",
        "plt.show()"
      ]
    },
    {
      "cell_type": "markdown",
      "metadata": {
        "id": "lnvPJQUTd9fQ"
      },
      "source": [
        "Conclusion :\n",
        "    \n",
        "    - While we have checked both Sensitivity-Specificity as well as Precision and Recall Metrics, we have considered the\n",
        "      optimal \n",
        "      cut off based on Sensitivity and Specificity for calculating the final prediction.\n",
        "    - Accuracy, Sensitivity and Specificity values of test set are around 81%, 79% and 82% which are approximately closer to \n",
        "      the respective values calculated using trained set.\n",
        "    - Also the lead score calculated in the trained set of data shows the conversion rate on the final predicted model is \n",
        "      around 80%\n",
        "    - Hence overall this model seems to be good.   "
      ]
    }
  ]
}